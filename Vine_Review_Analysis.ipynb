{
  "nbformat": 4,
  "nbformat_minor": 0,
  "metadata": {
    "colab": {
      "name": "Vine_Review_Analysis",
      "provenance": [],
      "collapsed_sections": []
    },
    "kernelspec": {
      "name": "python3",
      "display_name": "Python 3"
    },
    "nteract": {
      "version": "0.12.3"
    },
    "language_info": {
      "name": "python"
    }
  },
  "cells": [
    {
      "cell_type": "code",
      "metadata": {
        "id": "V58rxea0HqSa",
        "colab": {
          "base_uri": "https://localhost:8080/"
        },
        "outputId": "ceab9d79-107e-406d-a9b9-db32b16d3b27"
      },
      "source": [
        "# Deliverable2 : Determine Bias of Vine Reviews\n",
        "\n",
        "import os\n",
        "# Find the latest version of spark 3.0 from http://www.apache.org/dist/spark/ and enter as the spark version\n",
        "# For example:\n",
        "# spark_version = 'spark-3.0.3'\n",
        "spark_version = 'spark-3.2.1'\n",
        "os.environ['SPARK_VERSION']=spark_version\n",
        "\n",
        "# Install Spark and Java\n",
        "!apt-get update\n",
        "!apt-get install openjdk-11-jdk-headless -qq > /dev/null\n",
        "!wget -q http://www.apache.org/dist/spark/$SPARK_VERSION/$SPARK_VERSION-bin-hadoop3.2.tgz\n",
        "!tar xf $SPARK_VERSION-bin-hadoop3.2.tgz\n",
        "!pip install -q findspark\n",
        "\n",
        "# Set Environment Variables\n",
        "import os\n",
        "os.environ[\"JAVA_HOME\"] = \"/usr/lib/jvm/java-11-openjdk-amd64\"\n",
        "os.environ[\"SPARK_HOME\"] = f\"/content/{spark_version}-bin-hadoop3.2\"\n",
        "\n",
        "# Start a SparkSession\n",
        "import findspark\n",
        "findspark.init()"
      ],
      "execution_count": 59,
      "outputs": [
        {
          "output_type": "stream",
          "name": "stdout",
          "text": [
            "\r0% [Working]\r            \rIgn:1 https://developer.download.nvidia.com/compute/cuda/repos/ubuntu1804/x86_64  InRelease\n",
            "\r0% [Connecting to archive.ubuntu.com (91.189.88.142)] [Connecting to security.u\r                                                                               \rIgn:2 https://developer.download.nvidia.com/compute/machine-learning/repos/ubuntu1804/x86_64  InRelease\n",
            "\r0% [Connecting to archive.ubuntu.com (91.189.88.142)] [Connecting to security.u\r                                                                               \rHit:3 https://cloud.r-project.org/bin/linux/ubuntu bionic-cran40/ InRelease\n",
            "\r                                                                               \rHit:4 https://developer.download.nvidia.com/compute/cuda/repos/ubuntu1804/x86_64  Release\n",
            "\r0% [Connecting to archive.ubuntu.com (91.189.88.142)] [Connecting to security.u\r0% [3 InRelease gpgv 3,626 B] [Connecting to archive.ubuntu.com (91.189.88.142)\r                                                                               \rHit:5 https://developer.download.nvidia.com/compute/machine-learning/repos/ubuntu1804/x86_64  Release\n",
            "Hit:6 http://security.ubuntu.com/ubuntu bionic-security InRelease\n",
            "Hit:7 http://archive.ubuntu.com/ubuntu bionic InRelease\n",
            "Hit:8 http://ppa.launchpad.net/c2d4u.team/c2d4u4.0+/ubuntu bionic InRelease\n",
            "Hit:9 http://archive.ubuntu.com/ubuntu bionic-updates InRelease\n",
            "Hit:11 http://archive.ubuntu.com/ubuntu bionic-backports InRelease\n",
            "Hit:12 http://ppa.launchpad.net/cran/libgit2/ubuntu bionic InRelease\n",
            "Hit:14 http://ppa.launchpad.net/deadsnakes/ppa/ubuntu bionic InRelease\n",
            "Hit:15 http://ppa.launchpad.net/graphics-drivers/ppa/ubuntu bionic InRelease\n",
            "Reading package lists... Done\n"
          ]
        }
      ]
    },
    {
      "cell_type": "code",
      "metadata": {
        "id": "MMqDAjVS0KN9"
      },
      "source": [
        "from pyspark.sql import SparkSession\n",
        "spark = SparkSession.builder.appName(\"M16-Amazon-Challenge\").config(\"spark.driver.extraClassPath\",\"/content/postgresql-42.2.16.jar\").getOrCreate()"
      ],
      "execution_count": 60,
      "outputs": []
    },
    {
      "cell_type": "code",
      "metadata": {
        "id": "CtCmBhQJY-9Z",
        "colab": {
          "base_uri": "https://localhost:8080/"
        },
        "outputId": "33a7859c-c30b-4e01-fb38-a4571fa417d0"
      },
      "source": [
        "from pyspark import SparkFiles\n",
        "url = \"https://s3.amazonaws.com/amazon-reviews-pds/tsv/amazon_reviews_us_Digital_Video_Games_v1_00.tsv.gz\"\n",
        "spark.sparkContext.addFile(url)\n",
        "df = spark.read.option(\"encoding\", \"UTF-8\").csv(SparkFiles.get(\"\"), sep=\"\\t\", header=True, inferSchema=True)\n",
        "df.show()\n",
        "df.count()"
      ],
      "execution_count": 61,
      "outputs": [
        {
          "output_type": "stream",
          "name": "stdout",
          "text": [
            "+-----------+-----------+--------------+----------+--------------+--------------------+-------------------+-----------+-------------+-----------+----+-----------------+--------------------+--------------------+-----------+\n",
            "|marketplace|customer_id|     review_id|product_id|product_parent|       product_title|   product_category|star_rating|helpful_votes|total_votes|vine|verified_purchase|     review_headline|         review_body|review_date|\n",
            "+-----------+-----------+--------------+----------+--------------+--------------------+-------------------+-----------+-------------+-----------+----+-----------------+--------------------+--------------------+-----------+\n",
            "|         US|   21269168| RSH1OZ87OYK92|B013PURRZW|     603406193|Madden NFL 16 - X...|Digital_Video_Games|          2|            2|          3|   N|                N|A slight improvem...|I keep buying mad...| 2015-08-31|\n",
            "|         US|     133437|R1WFOQ3N9BO65I|B00F4CEHNK|     341969535| Xbox Live Gift Card|Digital_Video_Games|          5|            0|          0|   N|                Y|          Five Stars|             Awesome| 2015-08-31|\n",
            "|         US|   45765011| R3YOOS71KM5M9|B00DNHLFQA|     951665344|Command & Conquer...|Digital_Video_Games|          5|            0|          0|   N|                Y|Hail to the great...|If you are preppi...| 2015-08-31|\n",
            "|         US|     113118|R3R14UATT3OUFU|B004RMK5QG|     395682204|Playstation Plus ...|Digital_Video_Games|          5|            0|          0|   N|                Y|          Five Stars|             Perfect| 2015-08-31|\n",
            "|         US|   22151364| RV2W9SGDNQA2C|B00G9BNLQE|     640460561|Saints Row IV - E...|Digital_Video_Games|          5|            0|          0|   N|                Y|          Five Stars|            Awesome!| 2015-08-31|\n",
            "|         US|   22151364|R3CFKLIZ0I2KOB|B00IMIL498|     621922192|Double Dragon: Ne...|Digital_Video_Games|          5|            0|          0|   N|                Y|          Five Stars|            Awesome!| 2015-08-31|\n",
            "|         US|   38426028|R1LRYU1V0T3O38|B00S00IJH8|     215163395|              Sims 4|Digital_Video_Games|          4|            0|          0|   N|                Y|i like the new sk...|i like the new sk...| 2015-08-31|\n",
            "|         US|    6057518| R44QKV6FE5CJ2|B004RMK4BC|     384246568|Playstation Netwo...|Digital_Video_Games|          5|            0|          0|   N|                Y|          Five Stars|               Super| 2015-08-31|\n",
            "|         US|   20715661|R2TX1KLPXXXNYS|B00K59HKIQ|     384246568|Playstation Netwo...|Digital_Video_Games|          5|            0|          0|   N|                Y|         Easy & Fast|Excellent, fast a...| 2015-08-31|\n",
            "|         US|   26540306|R1JEEW4C6R89BA|B00K59HKIQ|     384246568|Playstation Netwo...|Digital_Video_Games|          5|            0|          0|   N|                Y|          Five Stars|                  Ok| 2015-08-31|\n",
            "|         US|    8926809|R3B3UHK1FO0ERS|B004774IPU|     151985175|Sid Meier's Civil...|Digital_Video_Games|          1|            0|          0|   N|                N|I am still playin...|As has been writt...| 2015-08-31|\n",
            "|         US|   31525534|R2GVSDHW513SS1|B002LIT9EC|     695277014|Build-a-lot 4: Po...|Digital_Video_Games|          5|            0|          0|   N|                Y|Probably the best...|Probably the best...| 2015-08-31|\n",
            "|         US|   22151364|R1R1NT516PYT73|B008ALUBYQ|     112160022|       Borderlands 2|Digital_Video_Games|          5|            0|          0|   N|                Y|          Five Stars|            Awesome!| 2015-08-31|\n",
            "|         US|   22977584|R3K624QDQKENN9|B010KYDNDG|     835376637|Minecraft for PC/...|Digital_Video_Games|          4|            0|          0|   N|                Y|                 FUN|COOL BUT IT LAGES...| 2015-08-31|\n",
            "|         US|   45765011| R1FOXH7PCJX3V|B008ALUBYQ|     112160022|       Borderlands 2|Digital_Video_Games|          1|            0|          2|   N|                Y|            One Star|Lames purchase I ...| 2015-08-31|\n",
            "|         US|    2239522| RA1246M1OMDWC|B004RMK4P8|     384246568|Playstation Netwo...|Digital_Video_Games|          5|            0|          0|   N|                Y|          Five Stars|               Great| 2015-08-31|\n",
            "|         US|   48805811|R2I9SXWB0PAEKQ|B004RMK5QG|     395682204|Playstation Plus ...|Digital_Video_Games|          5|            0|          0|   N|                Y|          Five Stars|          Awesome!!!| 2015-08-31|\n",
            "|         US|   18646481|R3UGL544NA0G9C|B00BI16Z22|     552981447|Brink of Consciou...|Digital_Video_Games|          4|            0|          0|   N|                Y|       worth playing|pretty good but n...| 2015-08-31|\n",
            "|         US|   10310935|R1CBA4Y92GVAVM|B004VSTQ2A|     232803743|Xbox Live Subscri...|Digital_Video_Games|          5|            0|          0|   N|                Y|          Five Stars|What can I say......| 2015-08-31|\n",
            "|         US|    5587610|R24NEKNR01VEHU|B00GAC1D2G|     384246568|Playstation Netwo...|Digital_Video_Games|          5|            0|          0|   N|                Y|        Just amazing|Very fast to rece...| 2015-08-31|\n",
            "+-----------+-----------+--------------+----------+--------------+--------------------+-------------------+-----------+-------------+-----------+----+-----------------+--------------------+--------------------+-----------+\n",
            "only showing top 20 rows\n",
            "\n"
          ]
        },
        {
          "output_type": "execute_result",
          "data": {
            "text/plain": [
              "145431"
            ]
          },
          "metadata": {},
          "execution_count": 61
        }
      ]
    },
    {
      "cell_type": "code",
      "metadata": {
        "id": "C8REmY1aY-9u",
        "colab": {
          "base_uri": "https://localhost:8080/"
        },
        "outputId": "b1fcf111-1590-45b2-ae3d-6e08863e6135"
      },
      "source": [
        "from pyspark.sql.functions import col\n",
        "# 1 -Filter the data and create a new DataFrame or table to retrieve all the rows where the total_votes count is equal to or greater than 20 to pick reviews that are more likely to be helpful and to avoid having division by zero errors later on.\n",
        "tot_votes_20plus_df = df.filter(col(\"total_votes\") >= 20)\n",
        "tot_votes_20plus_df.show()\n",
        "tot_votes_20plus_df.count()\n",
        "\n"
      ],
      "execution_count": 62,
      "outputs": [
        {
          "output_type": "stream",
          "name": "stdout",
          "text": [
            "+-----------+-----------+--------------+----------+--------------+--------------------+-------------------+-----------+-------------+-----------+----+-----------------+--------------------+--------------------+-----------+\n",
            "|marketplace|customer_id|     review_id|product_id|product_parent|       product_title|   product_category|star_rating|helpful_votes|total_votes|vine|verified_purchase|     review_headline|         review_body|review_date|\n",
            "+-----------+-----------+--------------+----------+--------------+--------------------+-------------------+-----------+-------------+-----------+----+-----------------+--------------------+--------------------+-----------+\n",
            "|         US|   12569493| RV4UH0OWW97K4|B0149HT55K|     947161997|Megaman Legacy Co...|Digital_Video_Games|          5|           19|         22|   N|                N|Mega Man Legacy C...|What is Mega Man?...| 2015-08-29|\n",
            "|         US|   40702997| RG6GT6G9WNYT1|B013XJ2M8M|     628348017|Rocket League [On...|Digital_Video_Games|          5|           22|         22|   N|                N|A multiplayer mas...|At its core, Rock...| 2015-08-22|\n",
            "|         US|   10139402| RFBXE3Q3GYQYO|B013XJ2M8M|     628348017|Rocket League [On...|Digital_Video_Games|          5|           68|         70|   N|                Y|Comes with Steam ...|When you buy this...| 2015-08-22|\n",
            "|         US|    2498805|R17V95WYC9ZXDD|B00WY2G178|     738740182|  Grand Theft Auto V|Digital_Video_Games|          1|            0|         20|   N|                Y|                 >:(|They name the gam...| 2015-08-17|\n",
            "|         US|   46312741|R235HEIYY15NZX|B013TVXHYC|     774364132|ARK: Survival Evo...|Digital_Video_Games|          1|            0|         26|   N|                Y|this sucks can't ...|this sucks can't ...| 2015-08-15|\n",
            "|         US|   11816220|R3BZ4DHX2YHC4V|B013TVXHYC|     774364132|ARK: Survival Evo...|Digital_Video_Games|          1|            1|         32|   N|                Y|            One Star|Terrible graphics...| 2015-08-15|\n",
            "|         US|    2158932| RZSC8Q4630BV1|B013TVXHYC|     774364132|ARK: Survival Evo...|Digital_Video_Games|          1|            1|         26|   N|                N|             1 Star!|The game code doe...| 2015-08-15|\n",
            "|         US|   22035782|R34S64NPUZOS90|B013TVXHYC|     774364132|ARK: Survival Evo...|Digital_Video_Games|          5|           23|         24|   N|                N|        Amazing game|[[VIDEOID:e5a8be6...| 2015-08-15|\n",
            "|         US|   21767922|R35O3GV3HZUX8B|B013TVXHYC|     774364132|ARK: Survival Evo...|Digital_Video_Games|          5|           58|         63|   N|                N|more than my mone...|This is definitel...| 2015-08-13|\n",
            "|         US|   47875352|R2AZAMZCEUOKQT|B00F4CF39C|     341969535| Xbox Live Gift Card|Digital_Video_Games|          1|           29|         40|   N|                Y|Complete waste of...|When I tried to r...| 2015-08-10|\n",
            "|         US|   51358050|R103RUVEH5YWQ4|B00F4CFHFC|     341969535| Xbox Live Gift Card|Digital_Video_Games|          1|           69|         90|   N|                Y|  Code already used?|Getting error tel...| 2015-08-08|\n",
            "|         US|   25803630|R2QNPQLXMCXOH3|B010KYDNDG|     835376637|Minecraft for PC/...|Digital_Video_Games|          5|           35|         37|   N|                Y|Very simple to do...|I was very nervou...| 2015-08-06|\n",
            "|         US|   19113385|R3IXRKTYAKSP3I|B010KYDNDG|     835376637|Minecraft for PC/...|Digital_Video_Games|          1|            2|         36|   N|                N|            One Star|Minecraft for psv...| 2015-08-01|\n",
            "|         US|   53021369|R2XR1JSAVZ4G8E|B010O9XWO2|     694952333|King's Quest Coll...|Digital_Video_Games|          1|            6|         23|   N|                Y|I've wasted an ho...|Um, can you give ...| 2015-07-29|\n",
            "|         US|   21468517| R93USRL9TCC0A|B010O9XWO2|     694952333|King's Quest Coll...|Digital_Video_Games|          1|            7|         22|   N|                Y|Interface is terr...|Interface is terr...| 2015-07-28|\n",
            "|         US|    1688095|R3F8QIC548OKSB|B010KYDNDG|     835376637|Minecraft for PC/...|Digital_Video_Games|          1|            4|         41|   N|                N|Mods is what make...|Mojang needs to s...| 2015-07-28|\n",
            "|         US|    7662466| RJHVI076CU1PK|B010KYDNDG|     835376637|Minecraft for PC/...|Digital_Video_Games|          1|            5|         74|   N|                N|            One Star|  graphics suck 0/10| 2015-07-27|\n",
            "|         US|   28371230|R2841JSGJYEO5X|B010R8DUFQ|     473214709|Rocket League - P...|Digital_Video_Games|          1|            1|         28|   N|                N|Uninteresting and...|I tried playing t...| 2015-07-26|\n",
            "|         US|   14355910|R2YK81PG05KMN8|B010KYDNDG|     835376637|Minecraft for PC/...|Digital_Video_Games|          1|            4|         33|   N|                Y|I have bought thi...|I have bought thi...| 2015-07-26|\n",
            "|         US|   14164552|R1RHI2XSCV52AI|B010KYDNDG|     835376637|Minecraft for PC/...|Digital_Video_Games|          1|            4|         61|   N|                Y|Stupidest thing e...|Absolutely useles...| 2015-07-24|\n",
            "+-----------+-----------+--------------+----------+--------------+--------------------+-------------------+-----------+-------------+-----------+----+-----------------+--------------------+--------------------+-----------+\n",
            "only showing top 20 rows\n",
            "\n"
          ]
        },
        {
          "output_type": "execute_result",
          "data": {
            "text/plain": [
              "3342"
            ]
          },
          "metadata": {},
          "execution_count": 62
        }
      ]
    },
    {
      "cell_type": "code",
      "source": [
        "# 2 -Filter the new DataFrame or table created in Step 1 and create a new DataFrame or table to retrieve all the rows where the number of helpful_votes divided by total_votes is equal to or greater than 50%\n",
        "helpful_votes_50plus_df = tot_votes_20plus_df.filter(col(\"helpful_votes\")/col(\"total_votes\") >= .50)\n",
        "helpful_votes_50plus_df.show (500)\n",
        "helpful_votes_50plus_df.count()\n",
        "\n",
        "\n"
      ],
      "metadata": {
        "colab": {
          "base_uri": "https://localhost:8080/"
        },
        "id": "d27jWUtyYr5N",
        "outputId": "708bbe82-3de8-40e2-fd9b-e1d036374ace"
      },
      "execution_count": 73,
      "outputs": [
        {
          "output_type": "stream",
          "name": "stdout",
          "text": [
            "+-----------+-----------+--------------+----------+--------------+--------------------+-------------------+-----------+-------------+-----------+----+-----------------+--------------------+--------------------+-----------+\n",
            "|marketplace|customer_id|     review_id|product_id|product_parent|       product_title|   product_category|star_rating|helpful_votes|total_votes|vine|verified_purchase|     review_headline|         review_body|review_date|\n",
            "+-----------+-----------+--------------+----------+--------------+--------------------+-------------------+-----------+-------------+-----------+----+-----------------+--------------------+--------------------+-----------+\n",
            "|         US|   12569493| RV4UH0OWW97K4|B0149HT55K|     947161997|Megaman Legacy Co...|Digital_Video_Games|          5|           19|         22|   N|                N|Mega Man Legacy C...|What is Mega Man?...| 2015-08-29|\n",
            "|         US|   40702997| RG6GT6G9WNYT1|B013XJ2M8M|     628348017|Rocket League [On...|Digital_Video_Games|          5|           22|         22|   N|                N|A multiplayer mas...|At its core, Rock...| 2015-08-22|\n",
            "|         US|   10139402| RFBXE3Q3GYQYO|B013XJ2M8M|     628348017|Rocket League [On...|Digital_Video_Games|          5|           68|         70|   N|                Y|Comes with Steam ...|When you buy this...| 2015-08-22|\n",
            "|         US|   22035782|R34S64NPUZOS90|B013TVXHYC|     774364132|ARK: Survival Evo...|Digital_Video_Games|          5|           23|         24|   N|                N|        Amazing game|[[VIDEOID:e5a8be6...| 2015-08-15|\n",
            "|         US|   21767922|R35O3GV3HZUX8B|B013TVXHYC|     774364132|ARK: Survival Evo...|Digital_Video_Games|          5|           58|         63|   N|                N|more than my mone...|This is definitel...| 2015-08-13|\n",
            "|         US|   47875352|R2AZAMZCEUOKQT|B00F4CF39C|     341969535| Xbox Live Gift Card|Digital_Video_Games|          1|           29|         40|   N|                Y|Complete waste of...|When I tried to r...| 2015-08-10|\n",
            "|         US|   51358050|R103RUVEH5YWQ4|B00F4CFHFC|     341969535| Xbox Live Gift Card|Digital_Video_Games|          1|           69|         90|   N|                Y|  Code already used?|Getting error tel...| 2015-08-08|\n",
            "|         US|   25803630|R2QNPQLXMCXOH3|B010KYDNDG|     835376637|Minecraft for PC/...|Digital_Video_Games|          5|           35|         37|   N|                Y|Very simple to do...|I was very nervou...| 2015-08-06|\n",
            "|         US|   52685108| R1JENRRBQ1YMY|B010KYDNDG|     835376637|Minecraft for PC/...|Digital_Video_Games|          5|           35|         36|   N|                N|Can Never Get Tir...|I have played thi...| 2015-07-22|\n",
            "|         US|   45470246|R2NS0HPQ2DD5XU|B010GVEYYK|     987484751|  EA SPORTS PGA TOUR|Digital_Video_Games|          1|           35|         45|   N|                N|  Absolutely Amazing|This game is so a...| 2015-07-20|\n",
            "|         US|   45726489| RIRX9H2QJFD1P|B010KYDNDG|     835376637|Minecraft for PC/...|Digital_Video_Games|          5|           49|         53|   N|                Y|   Minecraft for Mac|Great buy! I rece...| 2015-07-15|\n",
            "|         US|   42822633|R39R2LEKGIEUFS|B010KYDNDG|     835376637|Minecraft for PC/...|Digital_Video_Games|          5|           69|         77|   N|                Y|Fun game for kids...|Was a little skep...| 2015-07-12|\n",
            "|         US|   16925078|R2NCX85FTSTWHC|B010R8DUFQ|     473214709|Rocket League - P...|Digital_Video_Games|          5|           65|         68|   N|                N|Unbelievably addi...|Unbelievably addi...| 2015-07-10|\n",
            "|         US|    1176971|R1IN7ZA9ZCZEVM|B00XUYIOX8|     760479841|        Project CARS|Digital_Video_Games|          5|           17|         25|   N|                Y|r/PS4 Has arrived...| Hi reddit thanks op| 2015-07-07|\n",
            "|         US|   11389919|R253TQ098JL914|B00YQ2TXA6|      67665333|The Elder Scrolls...|Digital_Video_Games|          2|           22|         23|   N|                Y|Good gameplay, ho...|This may be the w...| 2015-06-29|\n",
            "|         US|   20084014|R3OPTDO4EDS6LN|B00WOXKBMS|     811744232|Kerbal Space Program|Digital_Video_Games|          5|           30|         30|   N|                Y|BUY THIS GAME!! ....|***AMAZON VERSION...| 2015-06-25|\n",
            "|         US|   45351550|R1FGHHDQ4P21C0|B00JV3B5RE|     430590615|Batman: Arkham Kn...|Digital_Video_Games|          1|           30|         33|   N|                N|BUY AT YOUR OWN RISK|I've been looking...| 2015-06-23|\n",
            "|         US|   39163813|R3FQ1CSDIOWWRY|B00JV3B5RE|     430590615|Batman: Arkham Kn...|Digital_Video_Games|          1|           71|         80|   N|                N|        Caveat Empor|Copied from my St...| 2015-06-23|\n",
            "|         US|   16910537|R3NJE21NUCII5L|B002VBWIP6|     232803743|Xbox Live Subscri...|Digital_Video_Games|          5|          135|        144|   N|                Y|Typically saves m...|I purchased a 12 ...| 2015-06-23|\n",
            "|         US|   37805211| RRXJ8H18EFNFZ|B00TUEOSMS|      47086315|FINAL FANTASY XIV...|Digital_Video_Games|          4|           26|         32|   N|                Y|1. if you bought ...|1.if you bought f...| 2015-06-19|\n",
            "|         US|    3375391| RVK8IX75BLKHG|B00GAC1D2G|     384246568|Playstation Netwo...|Digital_Video_Games|          5|           75|         94|   N|                Y|I ordered this it...|I ordered this it...| 2015-06-15|\n",
            "|         US|    1185486|R2U89MYPQ8PB0U|B008BKF2FO|      57554399|RuneScape [Game C...|Digital_Video_Games|          5|          299|        338|   N|                Y|          Five Stars|                Nice| 2015-06-04|\n",
            "|         US|   18530826|R1Q8YSXEXHP1G6|B00WV7Q1ZI|     795766745|The Witcher 3: Wi...|Digital_Video_Games|          5|           48|         50|   N|                Y| A pretty solid game|It's a pretty gre...| 2015-05-27|\n",
            "|         US|   50997094|R29H3IX0EL2VZR|B00XLT8338|     384025590|Galactic Civiliza...|Digital_Video_Games|          4|           20|         23|   N|                N|4X strategy game ...|Galactic Civiliza...| 2015-05-26|\n",
            "|         US|   49754399|R236DXKNBQ3KST|B00WV7Q1ZI|     795766745|The Witcher 3: Wi...|Digital_Video_Games|          5|           33|         35|   N|                Y|A pretty well fin...|I can say that is...| 2015-05-26|\n",
            "|         US|   14863874|R39XEAKCN4QCCX|B00XUY48LA|     880949239|Destiny Expansion...|Digital_Video_Games|          1|           14|         22|   N|                N|Without matchmaki...|On the surface, i...| 2015-05-25|\n",
            "|         US|   11522891|R1QR93IXID7UDG|B002VBWIP6|     232803743|Xbox Live Subscri...|Digital_Video_Games|          1|           24|         28|   N|                Y|BUYER BEWARE!!!! ...|Bought this card ...| 2015-05-22|\n",
            "|         US|   23699329|R296WSUBEZI4TT|B00US75R5S|     864458598|         Borderlands|Digital_Video_Games|          5|           18|         21|   N|                Y|             Amazing|Before i played t...| 2015-05-21|\n",
            "|         US|    2049596|R2LU04F4H220GZ|B00WV7Q1ZI|     795766745|The Witcher 3: Wi...|Digital_Video_Games|          5|           60|         66|   N|                N|18 hours in (upda...|Update: Bump to 5...| 2015-05-20|\n",
            "|         US|   39312047| RVGYML8F2AJPJ|B00WV7Q1ZI|     795766745|The Witcher 3: Wi...|Digital_Video_Games|          5|           61|         63|   N|                N|           DAMN GOOD|Witcher 3 is a go...| 2015-05-20|\n",
            "|         US|   50648042|  R98EK4PVUGUM|B00XCRT0GS|     297504293|The Witcher 3: Wi...|Digital_Video_Games|          5|           21|         22|   N|                N|THE GAME OF THE D...|The original Witc...| 2015-05-20|\n",
            "|         US|   32996328|R1A7HL7K4Y3VIQ|B00VMUELSO|     344046210|Nancy Drew®: Sea ...|Digital_Video_Games|          4|           21|         24|   N|                N|   A solid swan song|Sea of Darkness i...| 2015-05-20|\n",
            "|         US|   31290646|R2Z0OD9LTWR1N7|B00XCRT0GS|     297504293|The Witcher 3: Wi...|Digital_Video_Games|          5|           44|         47|   N|                N|The Witcher 3: Th...|I will keep this ...| 2015-05-19|\n",
            "|         US|   37129962|R1T5YMLKF58B2R|B00WV7Q1ZI|     795766745|The Witcher 3: Wi...|Digital_Video_Games|          5|           56|         61|   N|                Y|first time playin...|so fun to play i ...| 2015-05-19|\n",
            "|         US|   37310659| RLEQZDVBVCEJ9|B00UKHU5I0|     109762576|     Mortal Kombat X|Digital_Video_Games|          5|           28|         28|   N|                Y|        Awesome game|Played it my enti...| 2015-05-19|\n",
            "|         US|   36228907|R1Z7QLYE24VDXA|B00UKHU5I0|     109762576|     Mortal Kombat X|Digital_Video_Games|          5|           31|         32|   N|                Y|Best Mortal Komba...|Mortal Kombat X h...| 2015-05-18|\n",
            "|         US|    2929040| RDLNSM9SQIBAS|B00UKHU5I0|     109762576|     Mortal Kombat X|Digital_Video_Games|          3|           30|         31|   N|                Y|  Not as good as MK9|Its a fun game, b...| 2015-05-17|\n",
            "|         US|   14307089|R1DFY65UMMEMNJ|B00UKHU5I0|     109762576|     Mortal Kombat X|Digital_Video_Games|          5|           30|         30|   N|                Y|          Five Stars|        Nice game :)| 2015-05-15|\n",
            "|         US|   20200811|R1TYS3VCSK9CVU|B00WIOOTO4|     278141001|Wolfenstein The O...|Digital_Video_Games|          4|           22|         24|   N|                N|Classic-Style, Go...|I loved [[ASIN:B0...| 2015-05-11|\n",
            "|         US|   31737821|R1FWGAYBFPU41R|B00PZ0DT4E|     425680398|SimCity Complete ...|Digital_Video_Games|          2|           35|         37|   N|                Y|Great Graphics, T...|I wanted to like ...| 2015-05-10|\n",
            "|         US|   35989260|R3PVVQ36IFZE8X|B00GDHDI26|     465482536|6 PLEX: EVE Onlin...|Digital_Video_Games|          5|           44|         48|   N|                Y|      Jita IV Moon 4|Buy 6 plex. Put i...| 2015-05-10|\n",
            "|         US|    1432368| RJ40H7M3FYF6Y|B00UKHU5I0|     109762576|     Mortal Kombat X|Digital_Video_Games|          3|           30|         32|   N|                Y|the game is quite...|the game is quite...| 2015-05-08|\n",
            "|         US|   42642972|R33WE6S43QT33E|B00WIOOTO4|     278141001|Wolfenstein The O...|Digital_Video_Games|          5|           22|         26|   N|                N|  Great game for $20|Wow.  Was not exp...| 2015-05-08|\n",
            "|         US|   43628101|R2I8GZJBLXMO7C|B00WIOOTO4|     278141001|Wolfenstein The O...|Digital_Video_Games|          5|           31|         35|   N|                N|More of the same ...|First off: if you...| 2015-05-07|\n",
            "|         US|   21316804|R2EY2QRC1JDMN3|B00UKHU5I0|     109762576|     Mortal Kombat X|Digital_Video_Games|          5|           27|         29|   N|                Y|        Best MK yet!|Game is awesome. ...| 2015-05-06|\n",
            "|         US|   12816098| R39O5EDFE44NC|B00WIOOTO4|     278141001|Wolfenstein The O...|Digital_Video_Games|          5|           31|         36|   N|                N|   Ignore the trolls|Amazon needs to r...| 2015-05-06|\n",
            "|         US|   46139850|R1MVU06CRKIC3G|B00WIOOTO4|     278141001|Wolfenstein The O...|Digital_Video_Games|          5|           37|         43|   N|                N|This game is pret...|That guy is a bun...| 2015-05-05|\n",
            "|         US|   47418662|R3E4HC7YGI267K|B00UKHU5I0|     109762576|     Mortal Kombat X|Digital_Video_Games|          4|          112|        117|   N|                N|Great game.  Blat...|Love the game but...| 2015-04-20|\n",
            "|         US|   35575466|R24N8YV1UFA849|B00PYJSSWO|     317179057|Grand Theft Auto ...|Digital_Video_Games|          5|           62|         66|   N|                Y|I feel like I'm l...|I spent real mone...| 2015-04-16|\n",
            "|         US|    7184336|R3LJ907BN0WCPC|B00KXAGTV6|     879556367|  Grand Theft Auto V|Digital_Video_Games|          4|           37|         41|   N|                Y|DO NOT USE AMAZON...|Fantastic game, a...| 2015-04-15|\n",
            "|         US|    1686875| RIK1K1KEAFNPJ|B00GAC1D2G|     384246568|Playstation Netwo...|Digital_Video_Games|          1|           34|         44|   N|                Y|       does not work|the code for the ...| 2015-04-15|\n",
            "|         US|   45438924|R34MBCJKKW6JW6|B00KXAGTV6|     879556367|  Grand Theft Auto V|Digital_Video_Games|          5|           41|         54|   N|                Y|The game to get. ...|Just purchased. A...| 2015-04-14|\n",
            "|         US|   50476285|R2NQ0RYL1WAQ3L|B00UKHU5I0|     109762576|     Mortal Kombat X|Digital_Video_Games|          5|           31|         35|   N|                N|   5 Stars! Perfect!|I have to give th...| 2015-04-14|\n",
            "|         US|   49684437|R2J2OX4VYN0PAA|B00UXI36FU|     585411421|Pillars of Eterni...|Digital_Video_Games|          2|           12|         23|   N|                N|It's not as fun a...|I don't like it. ...| 2015-04-08|\n",
            "|         US|   16062893|R3IU4RYUX4ENPW|B00V3TKDJU|     547803645|Dark Souls II: Sc...|Digital_Video_Games|          5|           32|         46|   N|                N|More of my cup of...|Bloodborne was my...| 2015-04-07|\n",
            "|         US|   11574892|R2HVB4MZKIGHMQ|B00TEC9XH6|     902243983|              Sims 4|Digital_Video_Games|          5|           23|         29|   N|                Y|Amazon saves the ...|OK - first I have...| 2015-04-01|\n",
            "|         US|   36243753|R20BMUMGNYHRK0|B00TEC9XH6|     902243983|              Sims 4|Digital_Video_Games|          4|           19|         23|   N|                Y|Great first expan...|I have to say I a...| 2015-04-01|\n",
            "|         US|   41069384|R15OI7YEHRF9J1|B00UXI36FU|     585411421|Pillars of Eterni...|Digital_Video_Games|          4|           32|         36|   N|                N|4.5 stars - so fa...|I am probably not...| 2015-03-30|\n",
            "|         US|   49136140|R1RLDBI410X83L|B00UXI36FU|     585411421|Pillars of Eterni...|Digital_Video_Games|          3|           22|         35|   N|                N|Solid, but not th...|Let me start by s...| 2015-03-30|\n",
            "|         US|   34026779|R1OF1CLGZJM6ZZ|B004RMK5QG|     395682204|Playstation Plus ...|Digital_Video_Games|          3|           85|        112|   N|                Y|It's a good servi...|This serves as mo...| 2015-03-29|\n",
            "|         US|     371361|R3PP3XI8UIO0TE|B00K59HHHU|     384246568|Playstation Netwo...|Digital_Video_Games|          1|          104|        136|   N|                Y|Not let me buy I ...|Not let me buy<br...| 2015-03-29|\n",
            "|         US|   12558720|R1HOJCDB379EJR|B00UZJFK5Q|     432446253|          Bloodborne|Digital_Video_Games|          2|           29|         48|   N|                N|Rage Quit An Amaz...|First, the simple...| 2015-03-27|\n",
            "|         US|   19743162|R1XJKOIP5EWPN1|B00UXI36FU|     585411421|Pillars of Eterni...|Digital_Video_Games|          5|           55|         58|   N|                N|Obsidian's finest...|Speaking personal...| 2015-03-27|\n",
            "|         US|   46234798|R3FWDI3BH5WDAR|B00UAZELBO|     614888237|Borderlands: The ...|Digital_Video_Games|          1|           17|         25|   N|                N|Do not purchase t...|Do not purchase t...| 2015-03-25|\n",
            "|         US|   47661813|R329F6DY1WQF2F|B00TFVDR32|     479126001|Ori and the Blind...|Digital_Video_Games|          5|           22|         25|   N|                Y|A true masterwork...|As of this writin...| 2015-03-17|\n",
            "|         US|    2221297|R2887UFSYELU6K|B00KSLNI82|     135925655|Battlefield Hardline|Digital_Video_Games|          3|           22|         28|   N|                N|   Bought Off Origin|Here are my first...| 2015-03-17|\n",
            "|         US|   15653838| RC26P2IT2OWZW|B00U6IN5QM|     305552979|Battlefield Hardline|Digital_Video_Games|          5|           19|         27|   N|                Y|Don't bother with...|Seriously? People...| 2015-03-17|\n",
            "|         US|   15939872|R1A0ESHUTLYUXO|B00U30R8DO|     425014166|Sid Meier's Stars...|Digital_Video_Games|          5|           20|         27|   N|                Y|Sid Meier strikes...|Unlike his well k...| 2015-03-13|\n",
            "|         US|   49962789|R2DQIIM6YLXD03|B00TDGD1WG|     600391932|The Heroes [Downl...|Digital_Video_Games|          1|           19|         21|   N|                Y| Wow.. just.. wow...|This game is so b...| 2015-03-11|\n",
            "|         US|    3617317| R7P3GFJ7N4OPB|B00T8NURF8|     181827382|Star Wars The Old...|Digital_Video_Games|          5|           22|         24|   N|                Y| Great overall deal.|Amazon immediatel...| 2015-03-10|\n",
            "|         US|      76481|R3QOL0VKHV66T0|B00ENQXEX2|     289370895|              Sims 4|Digital_Video_Games|          5|           32|         34|   N|                Y|     Love Love LOVE!|I have a Mac and ...| 2015-03-08|\n",
            "|         US|    6331747|R3QH1EUQKZS4GA|B00TDGD1WG|     600391932|The Heroes [Downl...|Digital_Video_Games|          1|           43|         48|   N|                Y|Honest review - R...|One of those pict...| 2015-03-02|\n",
            "|         US|   13423995|R12S08LG89D6PH|B00TUIGLLU|     597707745|Homeworld Remaste...|Digital_Video_Games|          3|           28|         28|   N|                Y|wondrous to behol...|As a long-time fa...| 2015-02-27|\n",
            "|         US|   35668617| RG8KDH72PN7NG|B00PZ0DT4E|     425680398|SimCity Complete ...|Digital_Video_Games|          4|           66|         69|   N|                N|Worth having if t...|I played SimCity ...| 2015-02-24|\n",
            "|         US|   50797343| RWIO795TJYGVT|B00PYJT30A|     999631304|Grand Theft Auto ...|Digital_Video_Games|          5|           22|         25|   N|                Y|Best money ever s...|Cash therapy is a...| 2015-02-18|\n",
            "|         US|   48402538|R19ET5HSYLRPS5|B00RTG7LUA|     960520374|   INSIDE [Download]|Digital_Video_Games|          1|           21|         21|   N|                Y|There's Nobody Ho...|Not quite sure wh...| 2015-02-18|\n",
            "|         US|   18752482|R227MXQUEJ624T|B00PZ0DT4E|     425680398|SimCity Complete ...|Digital_Video_Games|          1|           19|         27|   N|                Y|  t waste your money|Don;t waste your ...| 2015-02-16|\n",
            "|         US|     452646| RJO4V2TEQF827|B00SZ9EHP2|     481793394|Resident Evil (PS...|Digital_Video_Games|          4|           16|         21|   N|                N|A creepy visit to...|Resident Evil was...| 2015-02-16|\n",
            "|         US|   11823591|R32AQRRVHCMM5L|B00O15486W|     703303364|Final Fantasy XIV...|Digital_Video_Games|          5|           19|         20|   N|                N|this game is far ...|this game is far ...| 2015-02-11|\n",
            "|         US|   42970141|R20LW09KOMOF14|B00S8ONSFY|     628601344|              Evolve|Digital_Video_Games|          1|           20|         32|   N|                N|The most overhype...|Horribly over hyp...| 2015-02-10|\n",
            "|         US|   14222166|R22I6YEQVED7BG|B00SRZH210|     517154715|Life is Strange -...|Digital_Video_Games|          5|           19|         21|   N|                N|Absolutely love t...|I really enjoyed ...| 2015-02-08|\n",
            "|         US|   35663986| RRSBCZGWR7AKY|B002VBWIP6|     232803743|Xbox Live Subscri...|Digital_Video_Games|          1|           56|         65|   N|                Y|            One Star|dont work, invali...| 2015-02-05|\n",
            "|         US|    2237019|R3NGOQR4YY0NJ7|B00PZ0DT4E|     425680398|SimCity Complete ...|Digital_Video_Games|          4|           22|         25|   N|                Y|Fun, but disappoi...|Nice graphics.<br...| 2015-02-04|\n",
            "|         US|   48044193| RCAQ43755222B|B00SRZH210|     517154715|Life is Strange -...|Digital_Video_Games|          5|           25|         28|   N|                N|A great start to ...|This is an episod...| 2015-02-04|\n",
            "|         US|   21840866| RJ281SB999AFL|B004RMK4P8|     384246568|Playstation Netwo...|Digital_Video_Games|          1|          371|        456|   N|                Y|        Invalid code|When i went to th...| 2015-01-30|\n",
            "|         US|   28415195|R2U4R1BVZ2TJE7|B00S00IJH8|     215163395|              Sims 4|Digital_Video_Games|          4|           80|         81|   N|                N|Outdoor Retreat a...|I was torn on whe...| 2015-01-25|\n",
            "|         US|    5855955| RTWHBP3IJ352B|B00F4CEOS8|     341969535| Xbox Live Gift Card|Digital_Video_Games|          1|          137|        178|   N|                Y|I didn't receive ...|I didn't receive ...| 2015-01-22|\n",
            "|         US|   13076392|R1L06JPWBHORFH|B00F4CFAV8|     341969535| Xbox Live Gift Card|Digital_Video_Games|          5|           94|        115|   N|                Y|    X Marks the Spot|OVERVIEW:  Someti...| 2015-01-20|\n",
            "|         US|   21157253|R14DH73EUDRWN8|B00NMWLB3I|     842722368|              Sims 4|Digital_Video_Games|          5|           30|         32|   N|                Y|          Five Stars|works perfectly a...| 2015-01-05|\n",
            "|         US|    2919462| RIAVFDN42E92P|B00JAPIWQK|     815593032|Grand Theft Auto ...|Digital_Video_Games|          1|           12|         20|   N|                N|          Dont buy..|Wow... 8MILL for ...| 2015-01-01|\n",
            "|         US|    4074606|R1JAC2227JD4C2|B004RMK5QG|     395682204|Playstation Plus ...|Digital_Video_Games|          1|           27|         40|   N|                Y|     DO NOT BUY THIS|This does not wor...| 2014-12-28|\n",
            "|         US|   46554824|R21XP0MRWVNG52|B00NMWLB3I|     842722368|              Sims 4|Digital_Video_Games|          3|           30|         32|   N|                N|It's alright. Not...|It's okay and dec...| 2014-12-27|\n",
            "|         US|   43004870|R3JXMSPZ6IU7TI|B00LLIQWKC|     864535992|Destiny - Expansi...|Digital_Video_Games|          2|           68|         76|   N|                N|Expansion is Misl...|Unfortunately thi...| 2014-12-25|\n",
            "|         US|   35968755|R1PFCCXYMEH2TZ|B00JU9NV3K|     483903773|Dragon Age Inquis...|Digital_Video_Games|          1|           17|         25|   N|                N|Slap in the face ...|Cons :  Poor UI. ...| 2014-12-25|\n",
            "|         US|   45239720|R3IUGSGN12QFOZ|B00R2478C0|     866172014|       Marvel Heroes|Digital_Video_Games|          5|           25|         26|   N|                N|      F2P done right|I've put a ton of...| 2014-12-22|\n",
            "|         US|   12383639|R2YTSCJ7CUJEDP|B00NMWLB3I|     842722368|              Sims 4|Digital_Video_Games|          5|           26|         31|   N|                N|        it was awsom|       it was awsome| 2014-12-20|\n",
            "|         US|   10649950|R3V9MFEWYIV0TU|B00JU9NV3K|     483903773|Dragon Age Inquis...|Digital_Video_Games|          1|           68|         92|   N|                Y|             Garbage|I'm usually a Bio...| 2014-12-18|\n",
            "|         US|   47619340| RF9SW46TTS2Y1|B00LLIQWKC|     864535992|Destiny - Expansi...|Digital_Video_Games|          1|           76|         87|   N|                N|Bungie should fee...|Please boycott th...| 2014-12-16|\n",
            "|         US|   22840130|R1O24GWEYWE6DX|B00LLIQWKC|     864535992|Destiny - Expansi...|Digital_Video_Games|          1|           15|         20|   N|                N|don't even think ...|don't even think ...| 2014-12-14|\n",
            "|         US|   21070127|R2SMMR4EINITES|B00LLIQUWM|       8149159|             Destiny|Digital_Video_Games|          1|           17|         21|   N|                N|       Huge let down|If you're like me...| 2014-12-13|\n",
            "|         US|   49644589| RVX55D8X5MT01|B00LLIQWKC|     864535992|Destiny - Expansi...|Digital_Video_Games|          1|           14|         21|   N|                N| Leaves a bad taste.|Too little game f...| 2014-12-12|\n",
            "|         US|   20348990|R3A1OV7FUXQATY|B00LLIQWKC|     864535992|Destiny - Expansi...|Digital_Video_Games|          3|           22|         29|   N|                N|I don't compete i...|Seriously, that's...| 2014-12-11|\n",
            "|         US|   35719931| RO1DWXXEV8589|B00JU9NV3K|     483903773|Dragon Age Inquis...|Digital_Video_Games|          1|           17|         25|   N|                Y|I can't recommend...|I can't recommend...| 2014-12-11|\n",
            "|         US|   14783982|R1K5NNFH42L991|B00LLIQWKC|     864535992|Destiny - Expansi...|Digital_Video_Games|          1|           84|        103|   N|                Y|Calling it an exp...|Very disappointed...| 2014-12-10|\n",
            "|         US|   12105050| R94OFJEJQ01PU|B00LLIQWKC|     864535992|Destiny - Expansi...|Digital_Video_Games|          2|          146|        171|   N|                N|   Pass on this pass|First off all - p...| 2014-12-10|\n",
            "|         US|   29092136|R2IQEPE0L48J5D|B00LLIQWKC|     864535992|Destiny - Expansi...|Digital_Video_Games|          1|          107|        123|   N|                N|        Don't bother|If you're thinkin...| 2014-12-10|\n",
            "|         US|   13488851| R72G91ZTOVVZP|B00Q7IO4FQ|     987501101|Game Of Thrones: ...|Digital_Video_Games|          5|           23|         24|   N|                N|Game of Thrones S...|Telltale did it a...| 2014-12-06|\n",
            "|         US|   39877988|R36153VNDPVZ17|B00MEQPM60|     264846636|Call of Duty: Adv...|Digital_Video_Games|          2|           24|         38|   N|                N|You already pay $...|You already pay $...| 2014-12-03|\n",
            "|         US|   13639872|R16J5DV0GJEQN9|B00JU9NV3K|     483903773|Dragon Age Inquis...|Digital_Video_Games|          3|           27|         36|   N|                N|Returned it, but ...|Played about 3 ho...| 2014-12-02|\n",
            "|         US|   36133085|R22BUAMB5V1LOR|B00JU9NV3K|     483903773|Dragon Age Inquis...|Digital_Video_Games|          3|           19|         26|   N|                Y|I wouldn't have w...|\\\\\"Origin account...| 2014-12-02|\n",
            "|         US|   13924483|R2K8H0NDCTVJB7|B00JU9NV3K|     483903773|Dragon Age Inquis...|Digital_Video_Games|          4|          211|        252|   N|                N|it's always amazi...|Reading the revie...| 2014-12-01|\n",
            "|         US|   45053787|R2JV34C4Z7SOSS|B004RMK5QG|     395682204|Playstation Plus ...|Digital_Video_Games|          5|           40|         46|   N|                Y|works perfect!! i...|works perfect!!  ...| 2014-12-01|\n",
            "|         US|   50557060|R3OAK2G059NWYU|B004RMK4BC|     384246568|Playstation Netwo...|Digital_Video_Games|          1|           24|         35|   N|                Y|The Gift Card has...|Sony is telling m...| 2014-12-01|\n",
            "|         US|   43711713|R1JQ7JAJA5ZNVP|B00JU9NV3K|     483903773|Dragon Age Inquis...|Digital_Video_Games|          5|           14|         27|   N|                N|The most immersiv...|A masterpiece. Wh...| 2014-11-27|\n",
            "|         US|   21519771|R282FEWDX8889V|B00JU9NV3K|     483903773|Dragon Age Inquis...|Digital_Video_Games|          2|           23|         35|   N|                N|wait till after t...|simplified so idi...| 2014-11-25|\n",
            "|         US|   51702069|R332SHWTSCLA66|B00JU9NV3K|     483903773|Dragon Age Inquis...|Digital_Video_Games|          1|           34|         56|   N|                Y|Console Port ALER...|Console port all ...| 2014-11-24|\n",
            "|         US|   52148503|R3V9EO7Z4HBGPA|B00JU9NV3K|     483903773|Dragon Age Inquis...|Digital_Video_Games|          1|           14|         26|   N|                Y|Terminal Technica...|*Will happily upd...| 2014-11-24|\n",
            "|         US|   47740555| RVB8LVIOUV6X6|B00IA9K940|     889945114|Bookworm Deluxe [...|Digital_Video_Games|          1|           25|         25|   N|                Y|  Buy the CD instead|The game is great...| 2014-11-24|\n",
            "|         US|   18393778| RYP4FB3VOFY02|B00JU9NV3K|     483903773|Dragon Age Inquis...|Digital_Video_Games|          3|          148|        194|   N|                N|An Offline MMO Th...|Dragon Age: Origi...| 2014-11-23|\n",
            "|         US|   24086611| RHNTJ4Q4DCG01|B00JU9NV3K|     483903773|Dragon Age Inquis...|Digital_Video_Games|          3|           17|         26|   N|                Y|If you liked Drag...|If you liked Drag...| 2014-11-21|\n",
            "|         US|   21423806|R1KX4X7WLKFGTK|B00JU9NV3K|     483903773|Dragon Age Inquis...|Digital_Video_Games|          1|           34|         56|   N|                N|Bioware seems lik...|Do yourself a fav...| 2014-11-21|\n",
            "|         US|   12512744|R3TZ6YZIRQQN7O|B00KYYTOLI|     154373185|           Far Cry 4|Digital_Video_Games|          1|           41|         55|   N|                N|UNPLUG YOUR USB G...|Ubisoft did a rea...| 2014-11-19|\n",
            "|         US|   36340682| RTCD3KQRT6RNK|B004RMK4P8|     384246568|Playstation Netwo...|Digital_Video_Games|          1|           23|         33|   N|                Y|Wow... so I have ...|Wow... so I have ...| 2014-11-19|\n",
            "|         US|   43796190|R3L6K8YAV4MHRO|B00KYYTOLI|     154373185|           Far Cry 4|Digital_Video_Games|          4|           59|         67|   N|                N|welcome to the......|I, like many othe...| 2014-11-18|\n",
            "|         US|   32322378|R2H1U6T3XMU6UO|B00PJ6ZF1E|     435870759|Five Nights at Fr...|Digital_Video_Games|          5|           25|         28|   N|                Y|I thought the fir...|This game is terr...| 2014-11-16|\n",
            "|         US|   48400240|R282VYCS9VHRX6|B00JU9NV3K|     483903773|Dragon Age Inquis...|Digital_Video_Games|          4|           20|         40|   N|                N|Based on my 6 hou...|I got to play tho...| 2014-11-16|\n",
            "|         US|    4909983| R20QLND4ZQJE7|B00PJ6ZF1E|     435870759|Five Nights at Fr...|Digital_Video_Games|          5|           21|         24|   N|                Y|           I love it|I thought Five Ni...| 2014-11-14|\n",
            "|         US|   23123176|R2N9MNES4DDX3I|B00KYDEWHA|     687673913|Assassin's Creed ...|Digital_Video_Games|          1|          162|        181|   N|                N|One of the worst ...|I'm a huge fan of...| 2014-11-13|\n",
            "|         US|   13246660|R1HKUA52KYI40G|B00KYDEWHA|     687673913|Assassin's Creed ...|Digital_Video_Games|          1|           60|         77|   N|                N|False advertisement!|Ok first off, I h...| 2014-11-13|\n",
            "|         US|   39352088|R21SEXPOQ85XG0|B00KYDEWHA|     687673913|Assassin's Creed ...|Digital_Video_Games|          1|           25|         32|   N|                Y|It'd be nice if w...|This will be my l...| 2014-11-12|\n",
            "|         US|   19123083|R2ZMVAIO1Q2DHZ|B00KYDEWHA|     687673913|Assassin's Creed ...|Digital_Video_Games|          1|           59|         68|   N|                N|Purchasing a beta...|Assassin's Creed ...| 2014-11-12|\n",
            "|         US|   24060305|R1D1QDDGB3VU1V|B00K32Y7NQ|     432932520|Call of Duty: Adv...|Digital_Video_Games|          2|           20|         23|   N|                Y|Fun at first... n...|This game started...| 2014-11-12|\n",
            "|         US|   13530102|R2QPEPVIBT4GUX|B00KYDEWHA|     687673913|Assassin's Creed ...|Digital_Video_Games|          1|           27|         38|   N|                Y|A cheap shot at P...|PC minimum requir...| 2014-11-12|\n",
            "|         US|   52542000| R8O4XL77KS4C3|B00NBBMH5Q|     253097398|     The Evil Within|Digital_Video_Games|          5|           19|         20|   N|                N|Best game of it's...|I'm not going to ...| 2014-11-11|\n",
            "|         US|   47856607|R1RRX372F2J6ZH|B00MEQPM60|     264846636|Call of Duty: Adv...|Digital_Video_Games|          1|           40|         57|   N|                N|     Great game, but|Great game, but.....| 2014-11-09|\n",
            "|         US|   22869860|R2UQSC1BZLTPV2|B00LLIQUWM|       8149159|             Destiny|Digital_Video_Games|          5|           17|         23|   N|                N|This is a great g...|This is a great g...| 2014-11-09|\n",
            "|         US|   49559921|R12SYEDWL2WYA0|B00MJ21VQO|     520928840|Call of Duty: Adv...|Digital_Video_Games|          1|           14|         23|   N|                Y|Didn't run proper...|Well I checked th...| 2014-11-07|\n",
            "|         US|   14638002|R2CU91BDBODF5W|B00JLK6ULS|     216162264|Sid Meier's Civil...|Digital_Video_Games|          2|           19|         21|   N|                Y|The Dan Quayle of...|Were you looking ...| 2014-11-04|\n",
            "|         US|   17043438| RC7VIBQXNJ2D5|B00LAVKYUO|     269404039|Space Engineers [...|Digital_Video_Games|          2|           18|         28|   N|                N|Game is NOT compl...|****BUYER BEWARE*...| 2014-10-31|\n",
            "|         US|   16041581| RHOSA13DCRI1X|B00O38RDV4|     641370044|        Freedom Wars|Digital_Video_Games|          5|           16|         24|   N|                Y|Best game I playe...|GOTY Seriously!<b...| 2014-10-28|\n",
            "|         US|   52735520|R3UK7H34ZT501R|B00JLK6ULS|     216162264|Sid Meier's Civil...|Digital_Video_Games|          2|           28|         30|   N|                Y|I suspect most of...|Not worth $50.  F...| 2014-10-27|\n",
            "|         US|   34303714|R13I590JCUDN02|B00JLK6ULS|     216162264|Sid Meier's Civil...|Digital_Video_Games|          4|           76|         83|   N|                Y|Better than I exp...|I purchased this ...| 2014-10-27|\n",
            "|         US|   36075183|R3CYIJF2V1FF30|B00JLK6ULS|     216162264|Sid Meier's Civil...|Digital_Video_Games|          1|           21|         25|   N|                Y|Overpriced and Un...|I had really hope...| 2014-10-26|\n",
            "|         US|   12918723|R1JZUGF1T1ZKFO|B00JLK6ULS|     216162264|Sid Meier's Civil...|Digital_Video_Games|          3|          105|        113|   N|                N|Main issue is thi...|Just okay. Main i...| 2014-10-25|\n",
            "|         US|   49712781|R3L7IAGSMRAZBV|B00JLK6ULS|     216162264|Sid Meier's Civil...|Digital_Video_Games|          1|           16|         30|   N|                N|      Craptastic!!!!|No movie cut scen...| 2014-10-25|\n",
            "|         US|    9946096|R3MTK0F8HJPG6P|B00JLK6ULS|     216162264|Sid Meier's Civil...|Digital_Video_Games|          3|           89|         99|   N|                Y|Launch day issues...|UPDATED: 10/27  T...| 2014-10-24|\n",
            "|         US|   38612353|R2I0LWHVEQJ1B3|B00JLK6ULS|     216162264|Sid Meier's Civil...|Digital_Video_Games|          5|           18|         24|   N|                N|Great civ game so...|Great civ game so...| 2014-10-24|\n",
            "|         US|   17779303|R101FBWNTMUD83|B00JLK6ULS|     216162264|Sid Meier's Civil...|Digital_Video_Games|          4|           16|         23|   N|                N|Great Civilizatio...|This is a great c...| 2014-10-24|\n",
            "|         US|   44672813|R3IYJSU10NK09A|B00NBBMH5Q|     253097398|     The Evil Within|Digital_Video_Games|          5|           31|         36|   N|                N|A real review fro...|When it comes to ...| 2014-10-21|\n",
            "|         US|   50042745|R2K6Q6URX7S8CW|B00EZAWV6W|     745786495|Plants vs. Zombie...|Digital_Video_Games|          3|           19|         27|   N|                N|EA ruins another ...|The idea of a sil...| 2014-10-17|\n",
            "|         US|   44386844|R10D31KVNNIPRT|B00GDHD3LW|     805824890|1 Month Subscript...|Digital_Video_Games|          5|           18|         20|   N|                Y|Good game and no,...|EVE Online is unl...| 2014-10-16|\n",
            "|         US|   44790557|R3K35CQ8VD5L7O|B00HQ0WNI4|     617135562|    Alien: Isolation|Digital_Video_Games|          5|           42|         46|   N|                N|By far the best A...|Creative Assembly...| 2014-10-09|\n",
            "|         US|   42865129|R14PFZZUPT3QAZ|B00O4CVJ9Q|     848318760|The Long Dark [On...|Digital_Video_Games|          5|           18|         20|   N|                N|A unique and unfo...|Even though this ...| 2014-10-08|\n",
            "|         US|   15357822| RUA4QAXL953P5|B00HQ0WNI4|     617135562|    Alien: Isolation|Digital_Video_Games|          5|           16|         20|   N|                N|Forget the IGN re...|I had some seriou...| 2014-10-07|\n",
            "|         US|   14334165|R34NKV1XM2N1PJ|B00ENQXEX2|     289370895|              Sims 4|Digital_Video_Games|          4|           23|         30|   N|                N|        Fun GamePlay|When you start pl...| 2014-10-04|\n",
            "|         US|   43070302|R2TVNDPWEG7V6G|B00JWZ2480|     487125991|Endless Legend (C...|Digital_Video_Games|          5|           26|         26|   N|                N|4x Strategy Gamer...|I am a die hard 4...| 2014-10-03|\n",
            "|         US|   28174682|R1QVA5KCKQ961H|B00LLIQWKC|     864535992|Destiny - Expansi...|Digital_Video_Games|          5|           27|         43|   N|                N|As much of a life...|Destiny is not a ...| 2014-10-03|\n",
            "|         US|   36972519|R3DLD7CLCNEMRX|B00JV3B3MQ|     798311713|Middle Earth: Sha...|Digital_Video_Games|          5|           27|         28|   N|                Y|and you have to f...|This is a must-ha...| 2014-10-02|\n",
            "|         US|   41594273|R3MDUDEUO2R0OS|B00H7KDPK8|     661696783|              Sims 4|Digital_Video_Games|          4|           28|         28|   N|                N|Plays like a sequ...|Controversially, ...| 2014-10-02|\n",
            "|         US|     884129| RUI72DDEXWWGR|B00945156U|     903280277|       Borderlands 2|Digital_Video_Games|          5|          109|        114|   N|                N|If you love buyin...|If you love buyin...| 2014-10-01|\n",
            "|         US|   13051368|R192TBQM2GS702|B00MR3V3EA|     386077723|Middle Earth: Sha...|Digital_Video_Games|          5|           20|         29|   N|                Y|Hey just letting ...|Hey just letting ...| 2014-09-30|\n",
            "|         US|   24141564| RLQJRUJLFADTK|B00LF1LGB0|     691800873|             FIFA 15|Digital_Video_Games|          1|           34|         46|   N|                N|Just a warning fo...|Hi all,  I am one...| 2014-09-28|\n",
            "|         US|   43001447|R37YNY2TGTCFOF|B00LLIQWKC|     864535992|Destiny - Expansi...|Digital_Video_Games|          5|           44|         71|   N|                N|      Waste of Life.|Wasting my life a...| 2014-09-27|\n",
            "|         US|   50573861|R2DXWEARM5XU71|B00NMO0IA8|     567442793|Minecraft - Xbox ...|Digital_Video_Games|          5|           19|         20|   N|                N|Great new version...|Great new version...| 2014-09-25|\n",
            "|         US|   12397381|R3GHFRP0VKK2EY|B00LLIQWKC|     864535992|Destiny - Expansi...|Digital_Video_Games|          5|          215|        312|   N|                N|  It'll get ya laid.|Knowing I have pu...| 2014-09-24|\n",
            "|         US|   51089290| R96B8FL1D2DFK|B00NLW3VDM|     973631751|         Wasteland 2|Digital_Video_Games|          4|           23|         23|   N|                N|Fantastic dose of...|Wasteland 2 isn't...| 2014-09-23|\n",
            "|         US|   19227107|R1JKTU3PNVH137|B00LF1LGB0|     691800873|             FIFA 15|Digital_Video_Games|          1|           21|         33|   N|                N|Best to hold off ...|Warning to those ...| 2014-09-23|\n",
            "|         US|   12763453|R2TPXF2U41TFTU|B00NMWLB3I|     842722368|              Sims 4|Digital_Video_Games|          1|           19|         31|   N|                N|        No, just no.|No, just no. I fe...| 2014-09-18|\n",
            "|         US|    8169073|R363FMUCZJAY5Q|B00JAPIWQK|     815593032|Grand Theft Auto ...|Digital_Video_Games|          1|           20|         29|   N|                N|ALMOST 100 DOLLAR...|A hundred dollars...| 2014-09-10|\n",
            "|         US|   31999100|R1NA4P30KYCJ1S|B00LLIQS6U|     661910695|             Destiny|Digital_Video_Games|          2|           27|         38|   N|                N|The same thing OV...|Unfortunately, Im...| 2014-09-10|\n",
            "|         US|   16186384|R15EZZBP72GMAA|B00ENQXEX2|     289370895|              Sims 4|Digital_Video_Games|          2|           84|         96|   N|                N|Feels like a Weir...|The Sims 4, is wi...| 2014-09-09|\n",
            "|         US|   44451316|R2WYBE0VOUYP9Q|B00ENQXEX2|     289370895|              Sims 4|Digital_Video_Games|          1|          132|        148|   N|                N|Letdown of Epic P...|I did not want to...| 2014-09-07|\n",
            "|         US|   24839497|R10R6JB39J9CMB|B00LBD3AWK|      77373107|Metal Gear Solid ...|Digital_Video_Games|          1|           24|         41|   N|                Y|               A lie|The screenshot of...| 2014-09-07|\n",
            "|         US|   12805245|R1YJMK7N2P0ZEU|B00ENQXEX2|     289370895|              Sims 4|Digital_Video_Games|          1|           20|         25|   N|                N|        EPIC FAILURE|I have no idea wh...| 2014-09-06|\n",
            "|         US|   11468830|R2VANA9448P3J7|B00ENQXEX2|     289370895|              Sims 4|Digital_Video_Games|          1|           16|         21|   N|                N|but for those of ...|This game might b...| 2014-09-05|\n",
            "|         US|   10367913|R1R70HIBYZ67AV|B00ENQXEX2|     289370895|              Sims 4|Digital_Video_Games|          1|           20|         24|   N|                Y|Save your money. ...|Sims 4 is such an...| 2014-09-05|\n",
            "|         US|   46923815|R2S0U5WQTS5Z34|B00ENQXEX2|     289370895|              Sims 4|Digital_Video_Games|          1|          525|        587|   N|                N|I'm done with EA ...|I have been playi...| 2014-09-05|\n",
            "|         US|   41653225|R3P1VYT9GBUNTK|B00ENQXEX2|     289370895|              Sims 4|Digital_Video_Games|          2|           27|         31|   N|                Y|       Not worth $60|I knew when buyin...| 2014-09-04|\n",
            "|         US|   29557949|R1RKKOCLGRT7ZE|B00ENQXEX2|     289370895|              Sims 4|Digital_Video_Games|          1|           20|         27|   N|                Y|Dont waste your m...|This is a joke, t...| 2014-09-04|\n",
            "|         US|   35263149|R1OTT8X7UYT58U|B00ENQXEX2|     289370895|              Sims 4|Digital_Video_Games|          1|           57|         68|   N|                N|More like Sims 1....|They sold me with...| 2014-09-04|\n",
            "|         US|   48454582|R2R6OFBIJSIG1S|B00ENQXEX2|     289370895|              Sims 4|Digital_Video_Games|          1|           25|         32|   N|                N|Don't even bother...|I have been a sim...| 2014-09-04|\n",
            "|         US|   13454714|R19NQWQ5W9B3O3|B00ENQXEX2|     289370895|              Sims 4|Digital_Video_Games|          1|           49|         57|   N|                N|     Surprised much?|Surprised much?  ...| 2014-09-04|\n",
            "|         US|   32063991|R2UXKZ3RMHMSQK|B00ENQXEX2|     289370895|              Sims 4|Digital_Video_Games|          1|           20|         22|   N|                Y|Sims 2 with bette...|Sims 2 with bette...| 2014-09-04|\n",
            "|         US|   31463400|R2EC2YBT5I49QH|B00H7KDPK8|     661696783|              Sims 4|Digital_Video_Games|          3|           18|         20|   N|                N|Despite being a l...|Add me to the lis...| 2014-09-04|\n",
            "|         US|   36243753|R2J4VTB3Y8S3EN|B00ENQXEX2|     289370895|              Sims 4|Digital_Video_Games|          2|          121|        140|   N|                Y|        Disappointed|Got bored with th...| 2014-09-03|\n",
            "|         US|   11016655| RE45HVXFQIBEG|B00ENQXEX2|     289370895|              Sims 4|Digital_Video_Games|          1|           24|         28|   N|                Y|I wish I read the...|I did The Sims 4 ...| 2014-09-03|\n",
            "|         US|   34790962|R2BMTWWQRRXC32|B00ENQXEX2|     289370895|              Sims 4|Digital_Video_Games|          1|           37|         43|   N|                Y|EA, WHAT HAVE YOU...|I have been a Sim...| 2014-09-03|\n",
            "|         US|    2675687| RZG0VZSRHB8NH|B00ENQXEX2|     289370895|              Sims 4|Digital_Video_Games|          2|           18|         20|   N|                Y|  Lost of Basic Game|I am extremely di...| 2014-09-03|\n",
            "|         US|   11718947|R3IK4RFJ3IX8RU|B00ENQXEX2|     289370895|              Sims 4|Digital_Video_Games|          1|          134|        164|   N|                Y|Feels Like a Bad ...|My Dear Sims Fran...| 2014-09-03|\n",
            "|         US|   47560607| RL5E0XG2387R3|B00ENQXEX2|     289370895|              Sims 4|Digital_Video_Games|          1|           26|         31|   N|                Y|I am highly disap...|I am highly disap...| 2014-09-03|\n",
            "|         US|   39066827|R2L2B97TLJ9IPV|B00ENQXEX2|     289370895|              Sims 4|Digital_Video_Games|          1|           74|         88|   N|                N|Pathetic--This is...|This game has a T...| 2014-09-03|\n",
            "|         US|   11773262|R3UO0Z7QRBRIGC|B00ENQXEX2|     289370895|              Sims 4|Digital_Video_Games|          1|           41|         54|   N|                Y|What a disappoint...|Developers signif...| 2014-09-02|\n",
            "|         US|   22421901|R11H3LHKO52KI8|B00ENQXEX2|     289370895|              Sims 4|Digital_Video_Games|          1|           40|         48|   N|                Y|Already uninstall...|Already uninstall...| 2014-09-02|\n",
            "|         US|   21155796|R3RPKBD8J754TV|B00H7KDPK8|     661696783|              Sims 4|Digital_Video_Games|          3|           60|         61|   N|                N|Has future potent...|For what it is ri...| 2014-09-02|\n",
            "|         US|   24082618| RSGA1VJFN7TZY|B00ENQXEX2|     289370895|              Sims 4|Digital_Video_Games|          1|           40|         52|   N|                Y|Horrible controls...|Horrible controls...| 2014-09-02|\n",
            "|         US|   51217850| R2KA9JPFPAXJ9|B00ENQXEX2|     289370895|              Sims 4|Digital_Video_Games|          1|           33|         40|   N|                Y|This game has no ...|This game has no ...| 2014-09-02|\n",
            "|         US|   51542498|R27WFFRIMU2R3Q|B00ENQXEX2|     289370895|              Sims 4|Digital_Video_Games|          1|           39|         47|   N|                Y|Not worth your mo...|Awful game. It's ...| 2014-09-02|\n",
            "|         US|   23971101| RL5JORUWJQE6V|B00ENQXEX2|     289370895|              Sims 4|Digital_Video_Games|          1|           45|         53|   N|                Y|Like the sims 1 w...|Like the sims 1 w...| 2014-09-02|\n",
            "|         US|   27789381|R12ZTBKOOG27T8|B00ENQXEX2|     289370895|              Sims 4|Digital_Video_Games|          4|           69|         91|   N|                Y|What you have to ...|I originally didn...| 2014-09-02|\n",
            "|         US|    2081643|R1A2I0LVNPFAGL|B00GJ2HZ7E|     312829718|Sonic Hits Collec...|Digital_Video_Games|          1|           11|         21|   N|                N|            One Star|If there was a bu...| 2014-08-29|\n",
            "|         US|    9925640|R2C45ZWC7SU5J7|B009IR1SR0|     912779847|Command and Conqu...|Digital_Video_Games|          1|           46|         50|   N|                Y|Some work, some d...|I am an old fan o...| 2014-08-27|\n",
            "|         US|   20057760|R2P8B0KGAXY99R|B00IYWV5HS|     235429554|            Wildstar|Digital_Video_Games|          1|           21|         30|   N|                Y|Above Average Gam...|After having spen...| 2014-08-27|\n",
            "|         US|   15339968|R1KPCGTYD28FRE|B00KN7B338|     812220272|Metro Redux  [Onl...|Digital_Video_Games|          4|           18|         20|   N|                N|Don't buy if you ...|Don't buy this fr...| 2014-08-26|\n",
            "|         US|   37721717|R3C8G9Z2SXV9LZ|B00LMKJ91I|     211599987|Risen 3: Titan Lords|Digital_Video_Games|          4|           15|         22|   N|                N|More like Risen 2...|If you know Piran...| 2014-08-17|\n",
            "|         US|   31575614|R13BEI14HZQRQS|B00LMKJ91I|     211599987|Risen 3: Titan Lords|Digital_Video_Games|          1|           14|         28|   N|                N|            One Star|the combat is bro...| 2014-08-15|\n",
            "|         US|   36249056|R1MGVY2YKFLI1P|B00LMKJ91I|     211599987|Risen 3: Titan Lords|Digital_Video_Games|          1|           31|         58|   N|                N|Combat system is ...|Combat system is ...| 2014-08-12|\n",
            "|         US|   47209689|R2C4ICB0ZD6C7D|B00EZAWV6W|     745786495|Plants vs. Zombie...|Digital_Video_Games|          2|           17|         23|   N|                N|No party system, ...|There isn't a way...| 2014-08-05|\n",
            "|         US|   22290407| R6LI1S8MNF2O9|B00KIY806Y|     741457109|Heroes of Might a...|Digital_Video_Games|          1|           23|         24|   N|                Y|Heroes III online...|One of my favorit...| 2014-07-21|\n",
            "|         US|   29680573|R31H8FOTEGSVIV|B00IKU482S|     488836250|Universe Sandbox ...|Digital_Video_Games|          5|           20|         20|   N|                Y|  Go have a blast ;D|Played this for a...| 2014-07-04|\n",
            "|         US|   28106268|R31AKLW4Y0954F|B00KYF7XBA|     311282759|Fortune Winds: An...|Digital_Video_Games|          1|           28|         39|   N|                N|            One Star|Obvious scam is o...| 2014-06-30|\n",
            "|         US|   13303606|R1QYQ6QPLTCRRA|B00EZAWV6W|     745786495|Plants vs. Zombie...|Digital_Video_Games|          5|           15|         20|   N|                Y|   Worth every penny|Been waiting for ...| 2014-06-28|\n",
            "|         US|   27478848|R3MBPOA4ZJ5SX6|B00EZAWV6W|     745786495|Plants vs. Zombie...|Digital_Video_Games|          4|           33|         34|   N|                Y|A Third Person Sh...|This game is a br...| 2014-06-26|\n",
            "|         US|   14334641| RZ113MUWXILFJ|B00GDHDEAM|     628010429|1 PLEX: EVE Onlin...|Digital_Video_Games|          5|           37|         46|   N|                Y|  A review for PLEX?|Uh, sure...  It w...| 2014-06-25|\n",
            "|         US|   33250978|R18DVFI4VB3NIN|B00EZAWV6W|     745786495|Plants vs. Zombie...|Digital_Video_Games|          4|           28|         32|   N|                Y|        Kids love it|For those complai...| 2014-06-24|\n",
            "|         US|   52495728|R3UCGL85L9R1W4|B00IA9K940|     889945114|Bookworm Deluxe [...|Digital_Video_Games|          1|           20|         20|   N|                Y|Do not buy this! ...|I love the game b...| 2014-06-24|\n",
            "|         US|   49222567|R2OOQEAOP1CK2K|B00GU043AW|     896939288|Age of Empires II...|Digital_Video_Games|          5|           62|         70|   N|                Y|This currently ac...|6/22/2014 UPDATE:...| 2014-06-22|\n",
            "|         US|   52542000|R1QA8RTI9ELGPT|B00FPQFQMQ|     481218603|          Watch Dogs|Digital_Video_Games|          5|           37|         43|   N|                Y|Doesn't re-invent...|First of all, I d...| 2014-06-18|\n",
            "|         US|   14395679|R1Y49KS8NSVV3N|B00IA9K940|     889945114|Bookworm Deluxe [...|Digital_Video_Games|          5|           20|         21|   N|                Y|           Fun Game!|I had purchased t...| 2014-06-18|\n",
            "|         US|   20274034|R1OD6FOXE1I8OY|B00FPQFQMQ|     481218603|          Watch Dogs|Digital_Video_Games|          3|           30|         36|   N|                N|    An honest review|Okay everybody, i...| 2014-06-11|\n",
            "|         US|   51774691| RG6I5073GK59P|B00I4BGNVM|     351918761|The Elder Scrolls...|Digital_Video_Games|          1|           13|         24|   N|                Y|Super Boring Butt...|I have played and...| 2014-06-09|\n",
            "|         US|    5404921| R1JX5LL4BFQC2|B00HQLEITK|     977352044|Mass Effect 2 DLC...|Digital_Video_Games|          1|           21|         21|   N|                N| READ BEFORE YOU BUY|I think that The ...| 2014-06-09|\n",
            "|         US|   11862332|R214KEG45TTZNS|B00IYWV5HS|     235429554|            Wildstar|Digital_Video_Games|          2|           11|         22|   N|                N|interesting ideas...|My first impressi...| 2014-06-02|\n",
            "|         US|   20381952|R2MN4GK40Y9EN5|B00IYWV5HS|     235429554|            Wildstar|Digital_Video_Games|          5|           21|         27|   N|                Y|A very promising MMO|Hi there, I have ...| 2014-05-31|\n",
            "|         US|   34563927| R3SLVKMQQZY69|B00FPQFXGK|     613534992|          Watch Dogs|Digital_Video_Games|          2|           71|         79|   N|                N|Watch Dogs is a C...|This review is fo...| 2014-05-30|\n",
            "|         US|   41919263| R4E34EWYRH2YU|B00FPQFQMQ|     481218603|          Watch Dogs|Digital_Video_Games|          1|          104|        139|   N|                N|Horrendous port f...|I have a pretty p...| 2014-05-28|\n",
            "|         US|   11230463|R1JPQYSNRZ4WML|B00FPQFXGK|     613534992|          Watch Dogs|Digital_Video_Games|          1|           15|         22|   N|                N|Ubisoft, take Upl...|I can't log-in to...| 2014-05-28|\n",
            "|         US|   45164686|R3RV9F80TV1A7N|B00FPQFXGK|     613534992|          Watch Dogs|Digital_Video_Games|          1|           13|         24|   N|                Y|Can't log into Uplay|Wow Ubisoft way t...| 2014-05-27|\n",
            "|         US|   13237547|R3KY83ZNXO89FE|B00FPQFXGK|     613534992|          Watch Dogs|Digital_Video_Games|          4|           17|         21|   N|                N|Great game so far...|So I preordered s...| 2014-05-27|\n",
            "|         US|   21593495|R3P4QHDMPMIVQI|B00EIN266Q|     282445312|SEGA 48-Game Mega...|Digital_Video_Games|          4|           66|         69|   N|                Y|If this is still ...|It was very hard ...| 2014-05-26|\n",
            "|         US|   11138270|R13KDM60QM49PQ|B006J97RSO|     216081588|SEGA 48-Game Mega...|Digital_Video_Games|          3|           24|         28|   N|                Y|Games Do not regi...|Be advised  that ...| 2014-05-26|\n",
            "|         US|   32500000|R30KC5F88J6EWF|B00KH6BLKU|     850331422|Assassin's Creed ...|Digital_Video_Games|          1|           14|         22|   N|                Y| This is not Steam !|The reason that I...| 2014-05-25|\n",
            "|         US|   35782265|R1FJ0B9UYJZV70|B00JMM1GP0|     130809373|           Tropico 5|Digital_Video_Games|          4|           19|         20|   N|                Y|El Presidente is ...|So Let me start o...| 2014-05-25|\n",
            "|         US|   26639593|  RQC9XSYVQ7WG|B00JMM1GP0|     130809373|           Tropico 5|Digital_Video_Games|          4|           69|         77|   N|                N|Best Tropico so f...|I have logged abo...| 2014-05-24|\n",
            "|         US|   30776950|R1CSJRNYQF39S6|B00K5VVXJ6|     283642247|Killer is Dead - ...|Digital_Video_Games|          4|           30|         37|   N|                Y|       Region Locked|A word of warning...| 2014-05-23|\n",
            "|         US|   24806194|R29QRUOSSV7BP4|B00HQNYMQ2|     152009116|Wolfenstein: The ...|Digital_Video_Games|          4|           31|         33|   N|                Y|Wonderful game (w...|Seeing that many ...| 2014-05-22|\n",
            "|         US|   45184473| RJ8O6HNW4YZOV|B00HQNYMQ2|     152009116|Wolfenstein: The ...|Digital_Video_Games|          3|           20|         29|   N|                N|Very smooth FPS g...|It's not going to...| 2014-05-20|\n",
            "|         US|   36676450|R22Z48XKYFTYJ9|B00I4BGNVM|     351918761|The Elder Scrolls...|Digital_Video_Games|          1|           13|         23|   N|                N|Beware of being s...|Hi all,<br />Will...| 2014-05-16|\n",
            "|         US|   32945414|R2V7K4MEFD862G|B00GHTP25G|     266231679|Baldur's Gate II:...|Digital_Video_Games|          5|           22|         24|   N|                Y|          OH BOY!!!!|I played this gam...| 2014-05-15|\n",
            "|         US|   25114491|R3FGCKZ3NQDEA9|B00CQOG8LI|     388933938|          The Sims 3|Digital_Video_Games|          5|           49|         51|   N|                Y|It works but you ...|It is super fun. ...| 2014-05-14|\n",
            "|         US|   14127630|R2A84EHT6PD4BD|B00IA962EQ|      98305855|Child of Light [O...|Digital_Video_Games|          3|           20|         22|   N|                N|   Cute little game.|(I played this on...| 2014-05-11|\n",
            "|         US|   33977130|R393EU3Y6K7ZZZ|B00JX0V82C|     591747068|Tesla Effect: A T...|Digital_Video_Games|          5|           19|         21|   N|                N|Long time fan ext...|Tesla Effect is S...| 2014-05-08|\n",
            "|         US|   16586137|R3O8LUQ4Q8I3OO|B00IYWV5HS|     235429554|            Wildstar|Digital_Video_Games|          4|           17|         23|   N|                N|Impressions from ...|Based on having p...| 2014-05-05|\n",
            "|         US|   31741384|R2YPOCTNLFY1Z9|B002VBWIP6|     232803743|Xbox Live Subscri...|Digital_Video_Games|          3|           16|         23|   N|                Y|Why do I Keep Pay...|I have a somewhat...| 2014-05-04|\n",
            "|         US|   16711219|R2AF4WSG53LUSH|B00GDHD3LW|     805824890|1 Month Subscript...|Digital_Video_Games|          5|           67|         76|   N|                N|it’s all about wh...|EVE Online: The s...| 2014-05-03|\n",
            "|         US|   38185964| RVV602PZY54JX|B00GDHD3LW|     805824890|1 Month Subscript...|Digital_Video_Games|          1|           10|         20|   N|                Y|         Didn't work|Does not work. I ...| 2014-05-02|\n",
            "|         US|   49652931|R3KY5G8WCSUEWJ|B00HEO4MHM|     192606640|GODUS (Early Acce...|Digital_Video_Games|          1|           21|         21|   N|                N|No fun, No Commun...|Godus is a landsc...| 2014-05-02|\n",
            "|         US|   36421789| RVUAQK8AOC3JX|B00IA962EQ|      98305855|Child of Light [O...|Digital_Video_Games|          5|           87|         97|   N|                Y|Incredible game b...|No seriously, it'...| 2014-05-01|\n",
            "|         US|   52738196|R31YGNAVTXFGJ0|B00JJYTICE|     353584012|Goat Simulator [O...|Digital_Video_Games|          5|           15|         20|   N|                N|A Technical and G...|Not really. It's ...| 2014-04-29|\n",
            "|         US|   20628942|R2AIFXDL1DUHJ6|B00DGZDFLW|     740994580|        Dark Souls 2|Digital_Video_Games|          5|           31|         37|   N|                N|Exceptional Game....|I got this game t...| 2014-04-28|\n",
            "|         US|   45246483| RI2ZJFG2PTQOT|B00I4BGNVM|     351918761|The Elder Scrolls...|Digital_Video_Games|          1|           15|         26|   N|                Y|         Console mmo|-Ability's are la...| 2014-04-28|\n",
            "|         US|   45503112|R104OBYLJ6UBFB|B00DTWEOZ8|     869820667|Titanfall [Online...|Digital_Video_Games|          1|           14|         22|   N|                Y|Ridiculous Online...|How can you sell ...| 2014-04-26|\n",
            "|         US|   34580009|R2GZHI3PVXK6SE|B00I4BGNVM|     351918761|The Elder Scrolls...|Digital_Video_Games|          1|           14|         22|   N|                Y|Just not really a...|TESO plays like s...| 2014-04-26|\n",
            "|         US|   20401965| R8ISVLV21HWGB|B00DGZDFLW|     740994580|        Dark Souls 2|Digital_Video_Games|          5|           17|         21|   N|                Y|PC version is the...|I bought the 360 ...| 2014-04-26|\n",
            "|         US|   34563927|R1A8UIWRWLRVHO|B00I4BGNVM|     351918761|The Elder Scrolls...|Digital_Video_Games|          1|           81|        116|   N|                N|Zenimax Lacks A C...|I purchased this ...| 2014-04-26|\n",
            "|         US|   40761471|R1GBKDK2NXWEUE|B00I4BGNVM|     351918761|The Elder Scrolls...|Digital_Video_Games|          2|           20|         29|   N|                Y|Disappointing mes...|Dear Customer Sup...| 2014-04-25|\n",
            "|         US|   20698809|R2BFTWW672PD15|B00I4BGNVM|     351918761|The Elder Scrolls...|Digital_Video_Games|          3|           19|         27|   N|                Y|Haven't logged on...|This game is extr...| 2014-04-24|\n",
            "|         US|   27268765|R2XX8DOECGY68V|B00I4BGNVM|     351918761|The Elder Scrolls...|Digital_Video_Games|          1|           26|         40|   N|                N|In a word... Lacking|I love MMO's. I l...| 2014-04-23|\n",
            "|         US|   11610564|R1848ZQXSWSQR5|B00DTWEOZ8|     869820667|Titanfall [Online...|Digital_Video_Games|          4|           49|         56|   N|                Y|Easy to Get into ...|This could have b...| 2014-04-22|\n",
            "|         US|   36997813|R3F3RUL0CTP5E7|B00I4BGLOG|     433924898|The Elder Scrolls...|Digital_Video_Games|          1|           20|         29|   N|                N|The game is overr...|After the startin...| 2014-04-21|\n",
            "|         US|   39466383|R3S7VLBIY0RLW8|B00I4BGNVM|     351918761|The Elder Scrolls...|Digital_Video_Games|          1|           18|         29|   N|                N|  Very disappointing|I bought the game...| 2014-04-21|\n",
            "|         US|   19403581|R1HDKUQYROIR3P|B00IYWV5HS|     235429554|            Wildstar|Digital_Video_Games|          5|           15|         20|   N|                N|new and old combi...|Playing the beta ...| 2014-04-21|\n",
            "|         US|   52519307|R3LCJ3VTZPWPTG|B00I4BGLOG|     433924898|The Elder Scrolls...|Digital_Video_Games|          1|           18|         29|   N|                N|Bank bug, lost it...|I don't think I w...| 2014-04-19|\n",
            "|         US|   51898887|R343GNBLCEXT8R|B00I4BGLOG|     433924898|The Elder Scrolls...|Digital_Video_Games|          3|           13|         20|   N|                N|                Meh.|Like most ambitio...| 2014-04-16|\n",
            "|         US|   19483780|R2BNN6HKIMIBFX|B00JJYTICE|     353584012|Goat Simulator [O...|Digital_Video_Games|          4|           19|         21|   N|                Y|Good for a few ho...|Goat Simulator is...| 2014-04-14|\n",
            "|         US|   22208845|R3CWJAAED8Q0M9|B00IZ5RXYS|     638226942|MineGame - a Fun ...|Digital_Video_Games|          1|           40|         41|   N|                N|       Absolute crap|Beware the viruse...| 2014-04-14|\n",
            "|         US|   11733950|R33BJK5GWYEZMJ|B00H7KDNBO|     721195064|Titanfall [Instan...|Digital_Video_Games|          2|           15|         23|   N|                Y|Lots of shine ove...|Technically speak...| 2014-04-13|\n",
            "|         US|   52479818|R1VBCUYOALJN26|B00I4BGLOG|     433924898|The Elder Scrolls...|Digital_Video_Games|          2|           20|         29|   N|                N|You may want to r...|If you're looking...| 2014-04-13|\n",
            "|         US|   50958218|R2D0YD9CX4QEV0|B00I4BGLOG|     433924898|The Elder Scrolls...|Digital_Video_Games|          1|           12|         24|   N|                N|           Too buggy|The game is somew...| 2014-04-12|\n",
            "|         US|   12633472|R2TZ044KO4PHDF|B00I4BGNVM|     351918761|The Elder Scrolls...|Digital_Video_Games|          3|          186|        212|   N|                Y|Not a typical eld...|I am a huge fan o...| 2014-04-11|\n",
            "|         US|   25604934| RAB7TOJBOL4PD|B00I4BGNVM|     351918761|The Elder Scrolls...|Digital_Video_Games|          5|           12|         22|   N|                N|Without a doubt t...|I totally forgot ...| 2014-04-10|\n",
            "|         US|   49222567|R1U46C1NVZVAMV|B00I4BGLOG|     433924898|The Elder Scrolls...|Digital_Video_Games|          2|          342|        420|   N|                N|LOTS of issues: D...|Let me start off ...| 2014-04-08|\n",
            "|         US|   20572768|R1VOW9DSHASGA0|B00I4BGLOG|     433924898|The Elder Scrolls...|Digital_Video_Games|          5|           13|         20|   N|                Y|Great Game / Acti...|The game is great...| 2014-04-07|\n",
            "|         US|    9501355|R38YVI7YFSDI7X|B00I4BGLOG|     433924898|The Elder Scrolls...|Digital_Video_Games|          5|           25|         39|   N|                Y|    A Refreshing MMO|To start, I have ...| 2014-04-07|\n",
            "|         US|   10805676|R351E7W3YMEO94|B00I4BGLOG|     433924898|The Elder Scrolls...|Digital_Video_Games|          4|           12|         20|   N|                Y|The best new olds...|I've really been ...| 2014-04-07|\n",
            "|         US|   27550870| RNWH8YGI045J6|B00I4BGNVM|     351918761|The Elder Scrolls...|Digital_Video_Games|          2|           17|         27|   N|                Y|It Is Not Skyrim ...|As a casual gamer...| 2014-04-07|\n",
            "|         US|   39512349|R1V2Q8TVK39XMS|B00I4BGNVM|     351918761|The Elder Scrolls...|Digital_Video_Games|          5|           34|         54|   N|                N|Only review that ...|(I will write mor...| 2014-04-05|\n",
            "|         US|   37202593|R1GO7334KP80AI|B00I4BGLOG|     433924898|The Elder Scrolls...|Digital_Video_Games|          4|           13|         21|   N|                Y|Good game can onl...|I'm an experience...| 2014-04-04|\n",
            "|         US|   32263044|R19U3XIZAEIF82|B00DTWEOZ8|     869820667|Titanfall [Online...|Digital_Video_Games|          1|           19|         28|   N|                N|Regret Buying Aft...|After the changes...| 2014-04-04|\n",
            "|         US|   10233948| RBZHMZPV9EM39|B00I4BGNVM|     351918761|The Elder Scrolls...|Digital_Video_Games|          5|           36|         58|   N|                N|Not much else I c...|As a fan of the E...| 2014-04-04|\n",
            "|         US|   13637013| RA5OPE1FN7VRD|B00I4BGLOG|     433924898|The Elder Scrolls...|Digital_Video_Games|          5|           19|         31|   N|                N|WAY better than e...|I've never seen s...| 2014-04-04|\n",
            "|         US|    4110951|R3V1E249GORI28|B00I4BGLOG|     433924898|The Elder Scrolls...|Digital_Video_Games|          5|           13|         22|   N|                N|                TESO|TESO is one of th...| 2014-04-04|\n",
            "|         US|   30934539|R1MUZA6QFICC2K|B00IYWV5HS|     235429554|            Wildstar|Digital_Video_Games|          5|           52|         60|   N|                N|My Worries Put to...|This is a game I ...| 2014-04-01|\n",
            "|         US|   32008098|R3N9ORQUX279T9|B009IR1SR0|     912779847|Command and Conqu...|Digital_Video_Games|          1|           18|         20|   N|                Y|Doesn't work on w...|I couldn't get mo...| 2014-04-01|\n",
            "|         US|   47411432|R3NT056A1VHRGK|B00IZ5RXYS|     638226942|MineGame - a Fun ...|Digital_Video_Games|          1|           31|         32|   N|                N|               What.|Kinda interesting...| 2014-03-28|\n",
            "|         US|   44690428|R1ZHVE2DBMCEWU|B00HG0B8NA|     860280326|All-in-One Solitaire|Digital_Video_Games|          4|           32|         32|   N|                Y|All-in one Salita...|I bought this gam...| 2014-03-26|\n",
            "|         US|   16057648|R3SZ0BQ6QBG27Y|B00GHTP4ZY|     123443363|SimCity: Cities o...|Digital_Video_Games|          1|           21|         27|   N|                N|An improvement, b...|First off, I will...| 2014-03-24|\n",
            "|         US|   24827340|R3IKDS918NQXIU|B00IYWV852|     254324966|            Wildstar|Digital_Video_Games|          5|           17|         23|   N|                N|      MMOs are back?|I have been playi...| 2014-03-20|\n",
            "|         US|   17939348|R38GKLJISMGYKI|B00IYWV5HS|     235429554|            Wildstar|Digital_Video_Games|          5|           21|         36|   N|                N|A Beta Tester Say...|this game is abso...| 2014-03-20|\n",
            "|         US|   30318858|R33R4GTR3SUVFZ|B00IYWV852|     254324966|            Wildstar|Digital_Video_Games|          3|           15|         30|   N|                N|Better than avera...|Wildstar is a gam...| 2014-03-19|\n",
            "|         US|   10392767|R18WM42X9DBWPM|B00BPEBG8A|     635823935|               Thief|Digital_Video_Games|          1|           16|         22|   N|                N|This IS NOT a thi...|This isn't a thie...| 2014-03-17|\n",
            "|         US|   40996451| RRXXESIYTNH2G|B002VBWIP6|     232803743|Xbox Live Subscri...|Digital_Video_Games|          2|           23|         36|   N|                Y|Convenience at an...|While I am please...| 2014-03-14|\n",
            "|         US|   47451208| R1OUGKT1CQH4N|B00GGUD578|     577811463|Capcom vs SNK2: M...|Digital_Video_Games|          1|           19|         22|   N|                N|A Terrible Port o...|If you haven't pl...| 2014-03-13|\n",
            "|         US|   26798772|R1MWSQGH59CE55|B00BPEBG8A|     635823935|               Thief|Digital_Video_Games|          2|           31|         36|   N|                N| All the Fun removed|Have been playing...| 2014-03-12|\n",
            "|         US|   44605346|R3GB8EZKNN5JL0|B00DTWEOZ8|     869820667|Titanfall [Online...|Digital_Video_Games|          3|           26|         38|   N|                Y|FPS that doesn't ...|No I don't hate t...| 2014-03-12|\n",
            "|         US|   39512349| RVQD45U00W3OS|B00BPEBG8A|     635823935|               Thief|Digital_Video_Games|          1|           59|         77|   N|                N|The only thief re...|Please read this ...| 2014-03-11|\n",
            "|         US|   33635137|R24JSSWJX9VWOR|B00DTWEOZ8|     869820667|Titanfall [Online...|Digital_Video_Games|          2|          131|        192|   N|                N|Not what I had ho...|Titanfall sounds ...| 2014-03-11|\n",
            "|         US|   19529793| RJ58IPNXGJ631|B00DTWEOZ8|     869820667|Titanfall [Online...|Digital_Video_Games|          4|           23|         34|   N|                N|Great game, but n...|I played this gam...| 2014-03-11|\n",
            "|         US|   43254541|R2HWQMJL7ABD34|B00DTWEOZ8|     869820667|Titanfall [Online...|Digital_Video_Games|          4|           60|         68|   N|                N|Very Good As Long...|I'll start by say...| 2014-03-11|\n",
            "|         US|   20630377| RJRF9SHZVLD03|B00GDHD74A|     305088428|1 Month Subscript...|Digital_Video_Games|          5|           17|         21|   N|                Y|        Worked great|I love being able...| 2014-03-11|\n",
            "|         US|   11059089|R1FRRLB0D1K693|B00CIBCTLC|     962553140|Sid Meier's Civil...|Digital_Video_Games|          3|           63|         65|   N|                Y|Don't bother with...|This review is fo...| 2014-03-10|\n",
            "|         US|   52837153|R1PVZ6O6PGJG07|B00GMTKMHY|     686779980|The Last of Us: L...|Digital_Video_Games|          5|           22|         24|   N|                N|Outing the Elepha...|Ok so first thing...| 2014-03-06|\n",
            "|         US|   24949469|R133MIHF3LNFWM|B0088Q2JUW|      52903949|South Park:  The ...|Digital_Video_Games|          5|           15|         24|   N|                N|This is simply pe...|My goodness.  It ...| 2014-03-04|\n",
            "|         US|   48376119|R3SFQ4Y7IGWHJF|B0091UYJ66|     685599512|Max Payne 3 Compl...|Digital_Video_Games|          1|           22|         25|   N|                N| Good Price, bad DRM|There are a coupl...| 2014-03-01|\n",
            "|         US|   48376119| R7OJHEXV9UHXV|B00IIRWH4O|     415882859|GTA TRILOGY + GTA...|Digital_Video_Games|          1|           25|         29|   N|                N|Very good price, ...|OK, so this game ...| 2014-03-01|\n",
            "|         US|   43458202|R1CFP7WSKJ3QWZ|B00BPEBG8A|     635823935|               Thief|Digital_Video_Games|          4|           14|         20|   N|                N|   Thief 2014 Review|I never played th...| 2014-02-25|\n",
            "|         US|   38069232| RFGAXH5OXBD1K|B00BPEBG8A|     635823935|               Thief|Digital_Video_Games|          4|           42|         48|   N|                N|Be sneaky, in a s...|Thief is the four...| 2014-02-25|\n",
            "|         US|   14012426|R2X6336Z9S4B63|B00CQOG8MM|     422725673|The Sims 3 Starte...|Digital_Video_Games|          1|           22|         27|   N|                Y|   Origin is a joke.|I was able to dow...| 2014-02-23|\n",
            "|         US|   10641730|R1BDXU0M45QCXI|B00EP13M28|     542350089|       Battlefield 4|Digital_Video_Games|          1|           39|         46|   N|                Y|Key \"code has alr...|I bought this on ...| 2014-02-20|\n",
            "|         US|    6554620| R58J9R4VURPMY|B00IAZP28W|     689133161|The LEGO Movie Vi...|Digital_Video_Games|          5|           20|         28|   N|                N|Ignore the two on...|Steam works fine ...| 2014-02-17|\n",
            "|         US|   17249166| R1QYOVEE1P1HT|B00GMTKMHY|     686779980|The Last of Us: L...|Digital_Video_Games|          5|           24|         29|   N|                N|Excellent additio...|I'm going to make...| 2014-02-15|\n",
            "|         US|    3052130| RR5BWLQNSRGDK|B00CQOG8MM|     422725673|The Sims 3 Starte...|Digital_Video_Games|          5|           89|         93|   N|                Y|Download is Possi...|Sims runs through...| 2014-02-12|\n",
            "|         US|   35847581|R39VCLQGKL75DC|B00G6YJ60E|     915973711|Outlast [Online G...|Digital_Video_Games|          5|           41|         44|   N|                N|Outlast is a must...|This review is fo...| 2014-02-10|\n",
            "|         US|   48186439|R1726T5LF6FKTD|B00EPOTBUC|     961200726|Guild Wars 2 Hero...|Digital_Video_Games|          4|           46|         49|   N|                Y|   The MMO, upgraded|I'll be honest: I...| 2014-02-07|\n",
            "|         US|   17933944| RVH0ZL1F2W1QO|B00I0A3914|     628527631|       Path of Exile|Digital_Video_Games|          5|           20|         23|   N|                N|    Best game. Ever!|Since the game is...| 2014-02-04|\n",
            "|         US|    5214724|R1Z47FF08807DW|B00GDHDGG4|     559459593|2 PLEX: EVE Onlin...|Digital_Video_Games|          5|           88|        107|   N|                Y|game that isn't f...|If you want your ...| 2014-02-04|\n",
            "|         US|   41286903| RSYD7SJVR6ONK|B00I0A363A|     628527631|       Path of Exile|Digital_Video_Games|          5|           29|         34|   N|                Y|         so much fun|if you were a fan...| 2014-02-04|\n",
            "|         US|   35385546| R1OMQGCP5XEFW|B00I0A363A|     628527631|       Path of Exile|Digital_Video_Games|          5|           48|         49|   N|                Y|You HAVE to try this|Many call this ga...| 2014-02-04|\n",
            "|         US|   35041183| RS8OCDBPKQN25|B00I0A363A|     628527631|       Path of Exile|Digital_Video_Games|          5|           23|         25|   N|                N|The BEST of the H...|Path of Exile is ...| 2014-02-04|\n",
            "|         US|   39561191|R20RCTQLIGM0BR|B009SPZ11Q|     826849966|   BioShock Infinite|Digital_Video_Games|          1|           19|         27|   N|                Y|Beyond disappoint...|I will start by s...| 2014-01-30|\n",
            "|         US|   51158863|R1LGP2M2UT151U|B007W3ZZS0|     242374038|            Crysis 3|Digital_Video_Games|          1|           20|         29|   N|                Y|Game Is Great But...|First off, in a n...| 2014-01-29|\n",
            "|         US|    4687682|R3R7M3GBZ1SO4F|B002VBWIP6|     232803743|Xbox Live Subscri...|Digital_Video_Games|          5|           16|         20|   N|                Y|               GREAT|This is probably ...| 2014-01-28|\n",
            "|         US|   17056027|R19QIBZXSZ1UWC|B00ESN8XPY|     127823947|Might & Magic X L...|Digital_Video_Games|          1|           11|         20|   N|                N|                 DRM|Bundled with UPla...| 2014-01-25|\n",
            "|         US|   43294293|R1BB54VT2D8TEH|B00GDHD74A|     305088428|1 Month Subscript...|Digital_Video_Games|          5|           21|         26|   N|                Y|          Great Game|It took me awhile...| 2014-01-22|\n",
            "|         US|    4228165|R3J43UHGC9YETE|B007VTVRFA|     402222185|SimCity - Limited...|Digital_Video_Games|          5|           11|         20|   N|                Y|Ignore the bad re...|The other reviews...| 2014-01-15|\n",
            "|         US|   52695857|R3HP07B0M56073|B00GT1YCRG|     399666800|  All-in-One Mahjong|Digital_Video_Games|          5|           30|         31|   N|                Y|Great game for an...|I purchased a new...| 2014-01-12|\n",
            "|         US|   15130402|R3KTOAPRWRK2QP|B00HQLEITK|     977352044|Mass Effect 2 DLC...|Digital_Video_Games|          1|           37|         46|   N|                N|     Very low value.|At the end of the...| 2014-01-11|\n",
            "|         US|   13350443|R1L7SWYJSBPI41|B00HQLEITK|     977352044|Mass Effect 2 DLC...|Digital_Video_Games|          1|           21|         39|   N|                N|IS NOT ENOUGH FOR...|Let me preface th...| 2014-01-11|\n",
            "|         US|   51477521|R3V9IULCLGD8HA|B00HQLEITK|     977352044|Mass Effect 2 DLC...|Digital_Video_Games|          1|           76|        120|   N|                N|Intelligent consu...|It doesn't matter...| 2014-01-09|\n",
            "|         US|    5214822| RUYMOGMZ7LYI1|B00HRCQ8OQ|      94111684|Freyja's Bundle [...|Digital_Video_Games|          5|           21|         22|   N|                N|        Great value.|Update/Edit: they...| 2014-01-09|\n",
            "|         US|   35233626| R7XLD1L8JHDA8|B00FQPQM42|     838659950|SimCity: Cities o...|Digital_Video_Games|          1|           20|         24|   N|                Y|       Dissapointed.|As with the base ...| 2014-01-07|\n",
            "|         US|   14637800|R12930RK075N9J|B002VBWIP6|     232803743|Xbox Live Subscri...|Digital_Video_Games|          5|          623|        688|   N|                Y|Kid needed and I ...|My kid needed thi...| 2014-01-07|\n",
            "|         US|   50397283|R3O7QZZF23PDVM|B00HERCRAI|      66279163|Metal Gear Rising...|Digital_Video_Games|          4|           39|         54|   N|                Y|Changing a review...|My apologies, for...| 2014-01-07|\n",
            "|         US|   34563927|R3IGKKRJTDKMOU|B00GU041PY|     936224290|State of Decay [O...|Digital_Video_Games|          3|           35|         38|   N|                N|Exhilirating Game...|Have you ever met...| 2014-01-07|\n",
            "|         US|   19593347|R3CJ3OPHGKB2YH|B00HJA4TPG|     813742627|Ace Patrol Pack [...|Digital_Video_Games|          5|           23|         36|   N|                N|Don't listen to p...|This game started...| 2014-01-06|\n",
            "|         US|    8430424|R1HBA7B9DSYVTU|B00AR05D7I|     151974959|Age of Empires II...|Digital_Video_Games|          5|           48|         51|   N|                Y|Great game after ...|I was a little le...| 2014-01-06|\n",
            "|         US|    7280537|R2NQ8JVCGO94VV|B00F4CEWOY|     341969535| Xbox Live Gift Card|Digital_Video_Games|          5|           37|         50|   N|                Y|           brilliant|All purchase was ...| 2014-01-05|\n",
            "|         US|   11629396| R6YSJPCU5V2ZX|B00B1VJZNK|     705986605|Baldur's Gate Enh...|Digital_Video_Games|          5|           38|         39|   N|                N|After several pat...|Let me just get t...| 2014-01-03|\n",
            "|         US|   18103749|R3NQ715E8AKP2T|B00CMSCV4Q|     954148166|Final Fantasy XIV...|Digital_Video_Games|          4|           37|         43|   N|                Y|Pretty great game...|I've just finishe...| 2014-01-01|\n",
            "|         US|   14408156| RAIO3OLJFLT61|B009XDMQ0W|     223982723| Mass Effect Trilogy|Digital_Video_Games|          4|           17|         21|   N|                Y|Great Games; WATC...|I played the Mass...| 2013-12-31|\n",
            "|         US|   21850189|R1DZL5AATT12Q9|B00FQPQM42|     838659950|SimCity: Cities o...|Digital_Video_Games|          1|           16|         21|   N|                N|              Broken|This game is frus...| 2013-12-29|\n",
            "|         US|   42861195|R1L0SDNVAGOM0B|B00FENO3OC|     240170359|Scribblenauts Unm...|Digital_Video_Games|          3|           18|         24|   N|                Y|instructions for ...|To use your produ...| 2013-12-28|\n",
            "|         US|    2650892| RVFTUPH79JW24|B00GAC1BN2|     911700949|Dead Space 3 Comp...|Digital_Video_Games|          2|           25|         27|   N|                N|not actually comp...|once you install ...| 2013-12-28|\n",
            "|         US|   36834120|R1WVLD1VM6Z5Y0|B00EPOTBUC|     961200726|Guild Wars 2 Hero...|Digital_Video_Games|          5|           19|         20|   N|                Y|         Happy Gamer|I was directed he...| 2013-12-27|\n",
            "|         US|   18103218| RN8LPZ1V46HSJ|B00GAC1D2G|     384246568|Playstation Netwo...|Digital_Video_Games|          2|          141|        190|   N|                Y|This Playstation ...|HORRIBLE.  DO NOT...| 2013-12-26|\n",
            "|         US|   50904666| RIRV1I3Z77FLK|B00FY3BD0E|     434641816|How to Survive [O...|Digital_Video_Games|          3|           47|         47|   N|                N|Interesting gamep...|This game starts ...| 2013-12-25|\n",
            "|         US|   52591230|R29IX17G3Y6GTF|B00HDPDEVM|     786942327|XCOM EU and EW Pa...|Digital_Video_Games|          5|           17|         20|   N|                Y|  Works for Mac, too|Haven't actually ...| 2013-12-25|\n",
            "|         US|   43114270|R3L35RT6ZBXYGN|B009IR1SR0|     912779847|Command and Conqu...|Digital_Video_Games|          1|          256|        286|   N|                Y|Great Games, Terr...|The games themsel...| 2013-12-25|\n",
            "|         US|   52439164|R352BAOE856IKH|B00AYZMZ9K|     805012571|Might & Magic Her...|Digital_Video_Games|          1|           23|         24|   N|                Y|Most current vers...|Loved HOMM I-V an...| 2013-12-23|\n",
            "|         US|   19508880|R28R59AAMA27SN|B00GXM640Y|      20387167|Xbox $50 Gift Car...|Digital_Video_Games|          1|           19|         21|   N|                Y|          misleading|this is not the s...| 2013-12-20|\n",
            "|         US|   18032501|R2RV6V7KG1J5JA|B00FQPQGSY|     867016258|Brothers: A Tale ...|Digital_Video_Games|          5|           28|         29|   N|                N|Brilliant design,...|This is, without ...| 2013-12-20|\n",
            "|         US|   42111532|R23XT2MJQKVIR5|B00H2008JO|      97837545|Saints Row IV - T...|Digital_Video_Games|          5|           39|         40|   N|                Y|No, Thank you, De...|They gave everybo...| 2013-12-20|\n",
            "|         US|   19733529| R520S1569UPV3|B00GDHCY7G|     491904507|The Walking Dead:...|Digital_Video_Games|          2|           43|         50|   N|                Y|Horrible DRM, buy...|I preordered this...| 2013-12-18|\n",
            "|         US|   22855339|R3K2C16UI7L0KX|B00FEOUDUE|     214875305|XCOM: Enemy Withi...|Digital_Video_Games|          5|           22|         26|   N|                Y|Hands Down my fav...|XCom: Enemy Unkno...| 2013-12-18|\n",
            "|         US|   17058574|R21NFT8J4X2T6E|B00H2W0DIS|      61216505|Final Fantasy VII...|Digital_Video_Games|          4|           21|         24|   N|                N|Little to complai...|As with the recen...| 2013-12-16|\n",
            "|         US|   11163294|R32CLFW5CE75W7|B00F4CEHNK|     341969535| Xbox Live Gift Card|Digital_Video_Games|          5|           18|         24|   N|                Y|           Gift card|My son is always ...| 2013-12-15|\n",
            "|         US|   23418709|R1BAYUHGMK6LBE|B00FQPQM42|     838659950|SimCity: Cities o...|Digital_Video_Games|          1|           75|         82|   N|                N|Another buggy, po...|This expansion ex...| 2013-12-14|\n",
            "|         US|   47501113|R36TFXKSIEWGUL|B00FQPQM42|     838659950|SimCity: Cities o...|Digital_Video_Games|          1|           47|         63|   N|                N|Cynically manipul...|EA, we are disapp...| 2013-12-12|\n",
            "|         US|   12050373|R19CXPQ4L9WFRR|B00GGUN3FW|     906842963|Batman Arkham Ori...|Digital_Video_Games|          1|           15|         22|   N|                N|Does not give you...|I assumed that ge...| 2013-12-11|\n",
            "|         US|   34502609| RSG5NAKKR5SSK|B00ET6LPJ6|     380110318|SimCity - Limited...|Digital_Video_Games|          1|           21|         21|   N|                Y|SimCity: A Failed...|I have been a loy...| 2013-12-10|\n",
            "|         US|   33868919|R1H5JTXYL57MXM|B00DNHLFQA|     951665344|Command & Conquer...|Digital_Video_Games|          3|           20|         20|   N|                Y|Great games, but ...|The games are fan...| 2013-12-08|\n",
            "|         US|   11025013|R1WIPUL43M79JL|B00FQPQGSY|     867016258|Brothers: A Tale ...|Digital_Video_Games|          2|           46|         79|   N|                Y|Brothers - A Tale...|If I told you tha...| 2013-12-08|\n",
            "|         US|   50904666|R2IKKP8PBQL8MS|B00GHTP7SS|     656929875|Injustice: Gods A...|Digital_Video_Games|          4|           35|         35|   N|                N|Enjoyable game. P...|For the record, I...| 2013-12-08|\n",
            "|         US|   37844015| RJI50RE0AHVM7|B00FQPQM42|     838659950|SimCity: Cities o...|Digital_Video_Games|          2|           22|         29|   N|                N|Unnecessarily exp...|The expansion pac...| 2013-12-05|\n",
            "|         US|   45298305|R37V1KRK7IUTE1|B00FY7VKBW|     941993087|SimCity: Cities o...|Digital_Video_Games|          1|           17|         21|   N|                N|    Save yourself...|First they give u...| 2013-12-04|\n",
            "|         US|   47035543|R3FT03V9FTF1LX|B00GXHIM2M|     227932044|Dishonored: Game ...|Digital_Video_Games|          5|           23|         26|   N|                N|Excellent Stealth...|This is one of th...| 2013-12-03|\n",
            "|         US|   25586830|R31D7HV7XI09GD|B00FJHG42W|     936403901|Battlefield 4 + B...|Digital_Video_Games|          1|           21|         31|   N|                Y|THE worst $110 I ...|A theft, a lie, a...| 2013-12-02|\n",
            "|         US|   37892978|R2OCICP4RYY8UX|B00GMPJMLA|     962163389|              Flower|Digital_Video_Games|          1|           45|         54|   N|                N|Awesome game.., L...|STOP!!<br /><br /...| 2013-12-02|\n",
            "|         US|   27994472|R38CQQ5OLLDIZJ|B00G3K2JEG|     358871811|Max Payne Complet...|Digital_Video_Games|          5|           20|         22|   N|                Y| Max Payne Game Pack|The game packs co...| 2013-12-01|\n",
            "|         US|   38688251|R3KHBZ37T04180|B004RMK5QG|     395682204|Playstation Plus ...|Digital_Video_Games|          5|           24|         35|   N|                Y|How to make your ...|For the ones havi...| 2013-11-30|\n",
            "|         US|   15258651| RQO523LQKOW5W|B004RMK5QG|     395682204|Playstation Plus ...|Digital_Video_Games|          5|           28|         38|   N|                Y|Black Friday Code...|From the PS3 Home...| 2013-11-30|\n",
            "|         US|   12217802| RWA2937CON9F6|B004RMK5QG|     395682204|Playstation Plus ...|Digital_Video_Games|          5|           20|         29|   N|                N|It's not Amazon, ...|It's not Amazon, ...| 2013-11-30|\n",
            "|         US|   10704542|R2RNKUI35AM07J|B009XIHR5Q|     273122858|Assassin's Creed ...|Digital_Video_Games|          4|           16|         23|   N|                N|Of course it requ...|Works fine -- Ste...| 2013-11-29|\n",
            "|         US|   11947910| R3C82M7BIR9SM|B009IR1SR0|     912779847|Command and Conqu...|Digital_Video_Games|          4|           18|         23|   N|                Y|You might have to...|After some work w...| 2013-11-29|\n",
            "|         US|   11978838|R17VIS284LPS17|B00GGUVS5Y|     898333217|Call of Duty: Ghosts|Digital_Video_Games|          2|           17|         24|   N|                Y|         PS4 Upgrade|This version can'...| 2013-11-29|\n",
            "|         US|   30053005|R2GSP6YIJOD5KR|B004RMK5QG|     395682204|Playstation Plus ...|Digital_Video_Games|          3|           12|         24|   N|                Y|Problems with Cod...|I tried to redeem...| 2013-11-29|\n",
            "|         US|   19536096|R2C11SCVK4UO4P|B004RMK5QG|     395682204|Playstation Plus ...|Digital_Video_Games|          1|           23|         44|   N|                Y|Not Amazon's faul...|The codes not wor...| 2013-11-29|\n",
            "|         US|   30124846|R3HW1C9TSH4BE6|B004RMK5QG|     395682204|Playstation Plus ...|Digital_Video_Games|          5|           93|        123|   N|                N|PS UPDATE 29th No...|''We are aware th...| 2013-11-29|\n",
            "|         US|   43265145|R1K5CFYBP183VL|B004RMK5QG|     395682204|Playstation Plus ...|Digital_Video_Games|          5|          229|        273|   N|                Y|FOR THOSE OF YOU ...|The Card works fi...| 2013-11-29|\n",
            "|         US|   49160130|R3VNBUO73LYV2X|B00GGUVI5Y|      18715758|      The Last of Us|Digital_Video_Games|          5|           22|         26|   N|                N|Easily one of the...|After three, roll...| 2013-11-28|\n",
            "|         US|   52156768|R278CDROTHBO4F|B00GGUVS5Y|     898333217|Call of Duty: Ghosts|Digital_Video_Games|          2|           44|         60|   N|                Y|This version will...|Do not buy this c...| 2013-11-28|\n",
            "|         US|   47723771| R4EG1X4PIM1D2|B00ELJROFA|     338659565|CIV V GOLD + Brav...|Digital_Video_Games|          5|           20|         20|   N|                Y|Also works on Mac...|I can't say anyth...| 2013-11-27|\n",
            "|         US|   35155715|R200YZPZCGE81Q|B00A9XQ83Q|     363781726|Max Payne 3: The ...|Digital_Video_Games|          1|           14|         20|   N|                Y|Great game if you...|For the hour I wa...| 2013-11-26|\n",
            "|         US|   16039971|R2OOBZFJRSCV1C|B00GMPJL4I|     759781759|              Flower|Digital_Video_Games|          5|           34|         38|   N|                N|Flower is a great...|&#34;Flower&#34; ...| 2013-11-26|\n",
            "|         US|    6623068| R5L2OJ4ACFXJH|B00CPBZDQ8|     341966223|BORDERLANDS 2 AND...|Digital_Video_Games|          3|           22|         28|   N|                N|If you don't need...|Borderlands 1 and...| 2013-11-25|\n",
            "|         US|   39736583|R1UDY8IHKRM6CJ|B00GGUUFUI|     721570092|Battlefield 4: Pr...|Digital_Video_Games|          5|           31|         36|   N|                Y|Great!! But had a...|This code was mes...| 2013-11-25|\n",
            "|         US|   23369530| RO0GRG7K87XEZ|B00FMB3B0S|     463388471| Warframe [Download]|Digital_Video_Games|          5|           25|         27|   N|                Y|Space Ninjas with...|EDIT: This review...| 2013-11-25|\n",
            "|         US|   35572812|R2I1ZR9817PLFD|B00BFZEREY|     999017331|Max Payne 3 and G...|Digital_Video_Games|          1|           13|         21|   N|                Y|DON'T waste your ...|DO NOT buy this p...| 2013-11-25|\n",
            "|         US|   51209362| RYTM5A8HZYDJ2|B00GHTP25G|     266231679|Baldur's Gate II:...|Digital_Video_Games|          5|           21|         22|   N|                N|Butt-Kicking for ...|I was initially a...| 2013-11-25|\n",
            "|         US|   14064368| RI0IBORV7G1JP|B00GBDCS2S|     716267365|Lord of the Rings...|Digital_Video_Games|          1|           14|         21|   N|                N|Tales Minstrel is...|If you loved your...| 2013-11-24|\n",
            "|         US|   47678405| RJDCETSM8YR4V|B00GJ1X4TS|     979014788|Bully + MANHUNT +...|Digital_Video_Games|          5|           23|         23|   N|                N|Initial problems ...|The games are red...| 2013-11-24|\n",
            "|         US|   20274837|R37SHOD4MOFE16|B00GGUUFUI|     721570092|Battlefield 4: Pr...|Digital_Video_Games|          5|           15|         21|   N|                Y|Great for those t...|Great price & gre...| 2013-11-23|\n",
            "|         US|   24594001|R2L6S5E2Z1ZUPX|B00F4CEOS8|     341969535| Xbox Live Gift Card|Digital_Video_Games|          5|           17|         26|   N|                Y|Good To Know You ...|Helps when you're...| 2013-11-23|\n",
            "|         US|   15935688| R12698NWG7DX8|B00A9XQ83Q|     363781726|Max Payne 3: The ...|Digital_Video_Games|          1|           35|         50|   N|                Y|BEWARE THE NEGLEC...|I would give this...| 2013-11-23|\n",
            "|         US|   47639733|R36KXFRH5WU0QL|B00EIN237S|     638812704|The Sims 3 Into T...|Digital_Video_Games|          5|           33|         37|   N|                Y|  not rocket science|the game worked g...| 2013-11-22|\n",
            "|         US|   18358741|R1KCN5W4GLIMCL|B00GJ1X1SM|     558851256|MANHUNT/MANHUNT 2...|Digital_Video_Games|          3|           35|         37|   N|                Y|     Only Part Steam|Only Manhunt 1 is...| 2013-11-22|\n",
            "|         US|   46749533|R2RI4MSZZ5F32A|B00D2CZS9Q|     473564914|Need for Speed Ri...|Digital_Video_Games|          1|           57|         65|   N|                N|No Racing Wheels ...|Racing game where...| 2013-11-22|\n",
            "|         US|   50397211|R1ELPKVKHKX1FM|B00ECHYTKY|     160243390|The XCOM Collecti...|Digital_Video_Games|          3|           55|         62|   N|                Y|Only 1 bundle key...|FYI: This bundle ...| 2013-11-22|\n",
            "|         US|   29191205|R3K6C8QL5LLS45|B00D2CZS9Q|     473564914|Need for Speed Ri...|Digital_Video_Games|          1|           36|         47|   N|                Y|Don't waste the m...|Can't get it to r...| 2013-11-21|\n",
            "|         US|   45477934|R11ZOWPEEVTVIO|B00GJXMRX0|     261938406|  Assassin's Creed 4|Digital_Video_Games|          5|           21|         21|   N|                Y|Best game in series!|This is probably ...| 2013-11-21|\n",
            "|         US|   32850674|R3ORWGFI6HCLXU|B00BZCX3MO|     315192501|Anno 2070 Complet...|Digital_Video_Games|          3|           45|         51|   N|                Y|Frustrating activ...|Frustrating Activ...| 2013-11-21|\n",
            "|         US|   50443615|R2QKCNCM5SXUGZ|B00EPOTBUC|     961200726|Guild Wars 2 Hero...|Digital_Video_Games|          5|           21|         22|   N|                Y|Simply A Great Ga...|47 yr old gamer h...| 2013-11-21|\n",
            "|         US|   40057992|R3PYME28JR59XZ|B00EP13M28|     542350089|       Battlefield 4|Digital_Video_Games|          5|           86|         97|   N|                Y|An ACTUAL Review ...|Let me start off ...| 2013-11-21|\n",
            "|         US|    2993509|R19JXZSAYAOMHD|B004ZUFJ02|     538157675|        Dragon Age 2|Digital_Video_Games|          1|           20|         21|   N|                Y|         Doesnt Work|The download is f...| 2013-11-21|\n",
            "|         US|   14274503| REI8YT9QMB0C1|B00GJ1X4TS|     979014788|Bully + MANHUNT +...|Digital_Video_Games|          3|           50|         56|   N|                Y|The lowdown on co...|Manhunt is not co...| 2013-11-21|\n",
            "|         US|   39885386| RODM5JQ3F4WN3|B00CX6G1IE|     161335416|Burnout Paradise ...|Digital_Video_Games|          2|           18|         22|   N|                Y|It's the missing ...|These are really ...| 2013-11-20|\n",
            "|         US|   16919667|R397WITJIYBNCB|B00GHTP25G|     266231679|Baldur's Gate II:...|Digital_Video_Games|          4|           28|         31|   N|                N|Improvements and ...|EE Baldurs Gate c...| 2013-11-20|\n",
            "|         US|   12922049|R3G75TKS70WW4Q|B00FJHG42W|     936403901|Battlefield 4 + B...|Digital_Video_Games|          2|           15|         21|   N|                Y|Full of crashes a...|Battlefield is a ...| 2013-11-19|\n",
            "|         US|   52499887|R15ABLN7172PHN|B00D2CZS9Q|     473564914|Need for Speed Ri...|Digital_Video_Games|          1|          180|        201|   N|                Y|Extremely poor PC...|First off, I was ...| 2013-11-19|\n",
            "|         US|   49014668|R1RTJ34FFOQP64|B00BXONG7G|     240448759|       Battlefield 4|Digital_Video_Games|          1|           20|         26|   N|                N|EA - Worst Compan...|I bought the PC g...| 2013-11-19|\n",
            "|         US|    9965445|R2L3DW2D1T25PN|B00BXONG7G|     240448759|       Battlefield 4|Digital_Video_Games|          1|           18|         24|   N|                Y|The changes have ...|I'm typing this r...| 2013-11-19|\n",
            "|         US|   50376458|R3Q9Z8H1G8SJ8T|B00DOD0TZG|     908769412|Bioshock Triple P...|Digital_Video_Games|          5|           63|         66|   N|                Y|Great bundle of B...|I have finished b...| 2013-11-18|\n",
            "|         US|   52300382|R1L1VC863SV5P2|B00CLW3TZS|     603505561|Call of Duty: Ghosts|Digital_Video_Games|          1|          139|        161|   N|                N|An insult to PC g...|This is the worst...| 2013-11-18|\n",
            "|         US|   32592160|R3K8BVNIRM7TO9|B00BXONG7G|     240448759|       Battlefield 4|Digital_Video_Games|          1|           16|         20|   N|                Y|Avoid the PC vers...|This is one of th...| 2013-11-18|\n",
            "|         US|   15360176|R3RKBAR37UGU23|B00CLW3TZS|     603505561|Call of Duty: Ghosts|Digital_Video_Games|          1|           24|         26|   N|                Y|           THIS SUX!|I can't believe I...| 2013-11-16|\n",
            "|         US|   13852483| R2H8PCHIQJQT9|B00GGURUTW|     383684836|Angry Birds Star ...|Digital_Video_Games|          2|           15|         23|   N|                N|          HOW MUCH?!|Fun game, totally...| 2013-11-16|\n",
            "|         US|   31675323| R1JLDUM6V6KRD|B00B29S1JK|     339304182|           Far Cry 3|Digital_Video_Games|          3|           31|         33|   N|                Y|Works thru Steam ...|Bought off Amazon...| 2013-11-16|\n",
            "|         US|   36276340|R3884XQ1B21OSL|B00FQPQM42|     838659950|SimCity: Cities o...|Digital_Video_Games|          4|           22|         38|   N|                N|Good fix for a fl...|Quite the improve...| 2013-11-15|\n",
            "|         US|   52505451| R3AM7DVE6XCMT|B00FEOUDUE|     214875305|XCOM: Enemy Withi...|Digital_Video_Games|          5|           16|         21|   N|                N|Better then the o...|I played the orig...| 2013-11-15|\n",
            "|         US|   36274464|R2LDNYA2G8HR7B|B00F4CF39C|     341969535| Xbox Live Gift Card|Digital_Video_Games|          5|           62|         84|   N|                Y|I love using Xbox...|I love the use of...| 2013-11-14|\n",
            "|         US|   28722277| R4DEJ07L11QLJ|B00BXONG7G|     240448759|       Battlefield 4|Digital_Video_Games|          1|           35|         46|   N|                Y|Unfinished, buggy...|Don't waste your ...| 2013-11-14|\n",
            "|         US|   43397498| R8IITESID5CNZ|B00EPOTBUC|     961200726|Guild Wars 2 Hero...|Digital_Video_Games|          5|           76|         83|   N|                Y|      For Mac users!|For MAC users: bu...| 2013-11-14|\n",
            "|         US|   13350436|R1ZXY7IHG0TEL6|B00GGU4W16|     692279813|       Fatal Frame 2|Digital_Video_Games|          5|           27|         29|   N|                N|we don't have goo...|to understand the...| 2013-11-14|\n",
            "|         US|   44692602|R28IYKQ2AM70KM|B004RMK4P8|     384246568|Playstation Netwo...|Digital_Video_Games|          5|         2384|       2541|   N|                N|Why buy the $50 w...|$49.99 for $50 of...| 2013-11-14|\n",
            "|         US|    6014648|R2FWU6EZ74KZI3|B00BXONG7G|     240448759|       Battlefield 4|Digital_Video_Games|          1|           27|         36|   N|                Y|           Horrible!|This game would b...| 2013-11-14|\n",
            "|         US|   10176349|R23MO6MCHTTIBO|B00EP13M28|     542350089|       Battlefield 4|Digital_Video_Games|          5|           33|         39|   N|                N|Premium is good a...|Don't buy if you ...| 2013-11-12|\n",
            "|         US|   38396821|R1WHTSQ0K2ZX88|B00F4CFHFC|     341969535| Xbox Live Gift Card|Digital_Video_Games|          5|           19|         29|   N|                Y|               Great|Great, fast and e...| 2013-11-11|\n",
            "|         US|   14339316|R16CLSYJCN57Y4|B00FQPQGSY|     867016258|Brothers: A Tale ...|Digital_Video_Games|          5|           89|        102|   N|                N|Best Single Playe...|BUY THIS GAME!  T...| 2013-11-11|\n",
            "|         US|   24745373| RDQ5EAKBJ8ONZ|B00CLW3TZS|     603505561|Call of Duty: Ghosts|Digital_Video_Games|          3|           28|         32|   N|                Y|Don't waste your ...|Yes, we've all le...| 2013-11-10|\n",
            "|         US|   14445060| R9JFSFCZBP05E|B00GBDCMWO|     106242649|Lord of the Rings...|Digital_Video_Games|          4|           14|         20|   N|                N|Helms Deep Expansion|(HD Beta tester a...| 2013-11-08|\n",
            "|         US|   10184900|R3461R76EW5ISV|B00BXONG7G|     240448759|       Battlefield 4|Digital_Video_Games|          4|           51|         68|   N|                N|BF4 is to BF3 as ...|Let's start by sa...| 2013-11-08|\n",
            "|         US|   23415961|R142GRJX7XGLRZ|B00BXONG7G|     240448759|       Battlefield 4|Digital_Video_Games|          1|           41|         55|   N|                Y|Dont waste your m...|I love the Battle...| 2013-11-06|\n",
            "|         US|   20343082|R2RW3BNATWNS9W|B00FT2UU5E|     696798751|      Rocksmith 2014|Digital_Video_Games|          5|           21|         21|   N|                N|  2014 gets it right|PC version, bough...| 2013-11-06|\n",
            "|         US|   24015873|R1EY0CI9SB4TP9|B00CLW3TZS|     603505561|Call of Duty: Ghosts|Digital_Video_Games|          2|           46|         56|   N|                N|Read This First i...|I'm just as disap...| 2013-11-06|\n",
            "|         US|   41082824|R2QUDJYTM3RS4N|B00CLW3TZS|     603505561|Call of Duty: Ghosts|Digital_Video_Games|          2|           79|         94|   N|                Y|Long time Battlef...|EDIT: I want to a...| 2013-11-06|\n",
            "|         US|   45822985|R39705ANVLVDRC|B00CLW3TZS|     603505561|Call of Duty: Ghosts|Digital_Video_Games|          1|           40|         49|   N|                N|   I'm done with CoD|I bought this exp...| 2013-11-06|\n",
            "|         US|   21094496|R33QKJXLLO06C0|B00BXONG7G|     240448759|       Battlefield 4|Digital_Video_Games|          1|           23|         31|   N|                N|Really can't find...|Felt like the gam...| 2013-11-05|\n",
            "|         US|   37784747|R3HDCOE6VIIRC3|B00CLW3TZS|     603505561|Call of Duty: Ghosts|Digital_Video_Games|          2|          322|        365|   N|                Y|        Make a stand|IGN: This game bl...| 2013-11-05|\n",
            "|         US|   13302497|R18A1ESH3NQMQG|B00CXTUBH8|     836413916|Batman Arkham Ori...|Digital_Video_Games|          3|           41|         51|   N|                N|  All over the place|This game is turn...| 2013-11-05|\n",
            "|         US|   24170533| RPTL3FUKPAR1G|B00BXONG7G|     240448759|       Battlefield 4|Digital_Video_Games|          1|           17|         22|   N|                N|MEH..It's not eve...|Amazon code redem...| 2013-11-05|\n",
            "|         US|   23836072| RL1Y8BPWVK0RB|B00CLW3TZS|     603505561|Call of Duty: Ghosts|Digital_Video_Games|          1|           13|         20|   N|                N|\"Next gen\" this g...|Definitely doesn'...| 2013-11-05|\n",
            "|         US|    5437541| RDIQDE0WJXQE8|B00BXONG7G|     240448759|       Battlefield 4|Digital_Video_Games|          1|           41|         55|   N|                Y|Rushed and worse ...|I preodered this ...| 2013-11-04|\n",
            "|         US|   48769068| RQMMIFLTAVU2Z|B00FZ20KNU|     167170796|DeusEx Human Revo...|Digital_Video_Games|          5|           21|         22|   N|                N|A new edition tha...|DEUS EX: HUMAN RE...| 2013-11-04|\n",
            "|         US|   26480189|R1JHYKGP22LSTQ|B00BXONG7G|     240448759|       Battlefield 4|Digital_Video_Games|          2|           24|         32|   N|                Y|              boring|I am finally not ...| 2013-11-04|\n",
            "|         US|   39157135| R1385H2A2JXE3|B00BXONG7G|     240448759|       Battlefield 4|Digital_Video_Games|          2|           49|         66|   N|                N|game is unfinishe...|do not support ba...| 2013-11-03|\n",
            "|         US|   50489513| RX3X8LSNQUY9P|B00F4CFBUS|     341969535| Xbox Live Gift Card|Digital_Video_Games|          5|          110|        149|   N|                Y|       Fast and easy|I used to get the...| 2013-11-03|\n",
            "|         US|   30245045|R3D2YQN9QKH5E9|B00BXONG7G|     240448759|       Battlefield 4|Digital_Video_Games|          1|           75|        101|   N|                N|could have been g...|DO NOT BUY THIS G...| 2013-11-03|\n",
            "|         US|   44287277| RZZUPQMGYU8VH|B00GAC1AUQ|      91131278|Crysis 3 Complete...|Digital_Video_Games|          5|           11|         20|   N|                N|Best Benchmark on...|Great benchmark, ...| 2013-11-03|\n",
            "|         US|   23081794|R1DA7XV2VGG0PI|B00BXONG7G|     240448759|       Battlefield 4|Digital_Video_Games|          1|           51|         69|   N|                Y|         Thumbs down|Absolutely unusab...| 2013-11-03|\n",
            "|         US|   42799903|R39OVHGWPL5V5Q|B00CMSCWGS|     583284103|FIFA 14 [Online G...|Digital_Video_Games|          1|           18|         28|   N|                N|One of the wors F...|Let me get straig...| 2013-11-02|\n",
            "|         US|   46223433|R3UT7OWUQYRR48|B00ESN8YGW|     284345000|Football Manager ...|Digital_Video_Games|          2|           45|         49|   N|                N|Its FM13 with a n...|Im a HUGE fan of ...| 2013-11-02|\n",
            "|         US|   48905356|R1EN7N4OS7YS36|B00BXONG7G|     240448759|       Battlefield 4|Digital_Video_Games|          1|          224|        304|   N|                N|Worthless on PC i...|Don't spend you m...| 2013-11-02|\n",
            "|         US|   10936973|R1JCTUECCF6JNY|B00BXONG7G|     240448759|       Battlefield 4|Digital_Video_Games|          1|           23|         30|   N|                Y|pre-ordered....st...|I have now spent ...| 2013-11-01|\n",
            "|         US|   22509873|R3N3GFSZVOEUSY|B00FMB3DG0|     286821639|Warframe Splinter...|Digital_Video_Games|          4|           17|         23|   N|                N|Warframe, or \"Who...|Warframe is a thi...| 2013-10-31|\n",
            "|         US|    7929343|R1BWFPR7HP3193|B00BXONG7G|     240448759|       Battlefield 4|Digital_Video_Games|          1|           99|        134|   N|                Y|Not Ready for Rel...|As you can see in...| 2013-10-31|\n",
            "|         US|   17119188| R3T3G4ACE8U15|B00BXONG7G|     240448759|       Battlefield 4|Digital_Video_Games|          1|           89|        122|   N|                Y|Why EA? After yea...|Ive been a fan of...| 2013-10-31|\n",
            "|         US|   47383104|R2YX97B6LJBTAA|B00BXONG7G|     240448759|       Battlefield 4|Digital_Video_Games|          5|           13|         25|   N|                N|Stellar multiplay...|Battlefield 4 PC ...| 2013-10-29|\n",
            "|         US|   51565378|R2R4W0R1FG5HAI|B00BXONG7G|     240448759|       Battlefield 4|Digital_Video_Games|          2|           19|         28|   N|                N|Status Quo for Ba...|EDIT: The game ha...| 2013-10-29|\n",
            "|         US|   47090186|R2WPSB0RGEAD41|B00FJHG42W|     936403901|Battlefield 4 + B...|Digital_Video_Games|          3|           22|         35|   N|                Y| Code already in use|I pre-ordered, an...| 2013-10-28|\n",
            "|         US|   50978503|R3KMX7YGKH46UC|B00CXTUBH8|     836413916|Batman Arkham Ori...|Digital_Video_Games|          3|           21|         28|   N|                N|Direct to DVD Die...|I was one of the ...| 2013-10-27|\n",
            "|         US|   43086780| RXRKK7825YB0U|B00EPOTBUC|     961200726|Guild Wars 2 Hero...|Digital_Video_Games|          5|           46|         52|   N|                Y|         OUTSTANDING|Have played World...| 2013-10-23|\n",
            "|         US|   15609090| RZFVHRTHPAGWS|B00F4CDIR6|     716333327|Xbox $5 Gift Card...|Digital_Video_Games|          3|           36|         56|   N|                Y|Price increase wi...|This change from ...| 2013-10-22|\n",
            "|         US|   25739400|R30Q69FLOUGHVG|B00F4CEHNK|     341969535| Xbox Live Gift Card|Digital_Video_Games|          5|           62|         87|   N|                Y|             Perfect|I had no problem ...| 2013-10-22|\n",
            "|         US|   21155796|R1EW7PVIGIV4RJ|B00EIN237S|     638812704|The Sims 3 Into T...|Digital_Video_Games|          5|           37|         40|   N|                N|Back to the Futur...|Please note that ...| 2013-10-22|\n",
            "|         US|   52221911|R29QERCB16WYBK|B00B29S1JK|     339304182|           Far Cry 3|Digital_Video_Games|          4|           21|         23|   N|                N|   GTA in the Jungle|OK, as you might ...| 2013-10-15|\n",
            "|         US|   45053277|R3RHK0J5JN0XY5|B00ELJROFA|     338659565|CIV V GOLD + Brav...|Digital_Video_Games|          5|           30|         30|   N|                Y|Complete Gold = G...|With this pack yo...| 2013-10-12|\n",
            "|         US|   38649405|R2J5U4E3N2C9L4|B00FENO3OC|     240170359|Scribblenauts Unm...|Digital_Video_Games|          3|           17|         21|   N|                N|Didn't seem worth...|After purchasing ...| 2013-10-12|\n",
            "|         US|   15323020|R15OD6EYAWHBE7|B00FP2OJMS|      21177046|Street Fighter X ...|Digital_Video_Games|          3|           16|         21|   N|                N|Good game, but be...|Microsoft is disc...| 2013-10-10|\n",
            "|         US|   21758385| R2XEIO3I9AZDK|B00D93B5VI|      99954883|            NBA 2K14|Digital_Video_Games|          1|           70|         79|   N|                N|   Don't buy from 2K|They didn't relea...| 2013-10-08|\n",
            "|         US|    3609242|R1U64Y3CDBOC8O|B008BKEWMI|      57554399|RuneScape [Game C...|Digital_Video_Games|          4|           55|         63|   N|                Y|Pretty Easy to Aq...|This was a relati...| 2013-10-08|\n",
            "|         US|   51440899| RVOR2L50QECLJ|B00FL13YEC|     178654435|Rise of Venice [O...|Digital_Video_Games|          1|           14|         21|   N|                N|       Not worth $40|I bought this gam...| 2013-10-06|\n",
            "|         US|    7704473|R35NIE08803MZY|B00ECHYTKY|     160243390|The XCOM Collecti...|Digital_Video_Games|          5|           33|         35|   N|                Y|  Cheaper than Steam|This contains all...| 2013-10-04|\n",
            "|         US|   12423387|R3DJXHJ5O0H51M|B00CX9L30W|     310138095|Final Fantasy XIV...|Digital_Video_Games|          2|           61|         76|   N|                N|Customer Service ...|--Updates below a...| 2013-10-03|\n",
            "|         US|    8963471|R1FULTSP1QDMHZ|B00BUQA14I|     385818120|Star Trek [Online...|Digital_Video_Games|          5|           23|         29|   N|                Y|         Under-rated|This game gets to...| 2013-10-03|\n",
            "|         US|   48816046|R1BB22TSGECXL3|B00D6K41V0|     267374195|Europa Universali...|Digital_Video_Games|          3|           32|         40|   N|                N|       Disappointing|EU4 released to g...| 2013-10-02|\n",
            "|         US|   12167909|R1LDJ69QOONP8A|B00D93B5VI|      99954883|            NBA 2K14|Digital_Video_Games|          5|           13|         20|   N|                N|To the poor reviw...|Please you folks ...| 2013-10-02|\n",
            "|         US|   46486652| RAGG2EZ7KYSJ1|B00D93B5VI|      99954883|            NBA 2K14|Digital_Video_Games|          5|           14|         26|   N|                Y|             NBA2k14|(Edit: Oct 2nd, 2...| 2013-10-01|\n",
            "|         US|   36593432|R15BNJEN6JR1AB|B00D93B5VI|      99954883|            NBA 2K14|Digital_Video_Games|          1|           19|         36|   N|                Y|            NBA 2k14|Same experience a...| 2013-10-01|\n",
            "|         US|    7719993|R27FNWQECTR33O|B00D93B5VI|      99954883|            NBA 2K14|Digital_Video_Games|          5|           20|         31|   N|                Y|[EDIT: Just appea...|I Just bought thi...| 2013-10-01|\n",
            "|         US|   19403642| R2IBA18YRZBO0|B00CB0ZBWY|      90970857|StarDrive [Online...|Digital_Video_Games|          1|           21|         23|   N|                Y|Will most likely ...|The developer has...| 2013-10-01|\n",
            "|         US|   48354499|R1WAYSSVCGUV7U|B009K6YJTS|     148061521|Aliens: Colonial ...|Digital_Video_Games|          4|           35|         40|   N|                N|         After Patch|I bought this gam...| 2013-09-29|\n",
            "|         US|   42268415| RFE0GTW509TQ5|B00COC4N8M|      78092616|         Machinarium|Digital_Video_Games|          5|           22|         24|   N|                N|Machinarium saved...|I am sure I am no...| 2013-09-24|\n",
            "|         US|   36334724|R3KHDANZ3606E7|B00EYMCT8Q|     876577979|Total War: Rome I...|Digital_Video_Games|          5|           13|         21|   N|                N|  Ignore the others.|I reordered the g...| 2013-09-20|\n",
            "|         US|   34715574|R2YYI11FG7IXSZ|B00CMSCV4Q|     954148166|Final Fantasy XIV...|Digital_Video_Games|          5|           33|         37|   N|                N|My new online hom...|I've been jumping...| 2013-09-16|\n",
            "|         US|   49924042|R17IXFK3XGCEGB|B00ET6LPJ6|     380110318|SimCity - Limited...|Digital_Video_Games|          2|           27|         28|   N|                N|Sim Village would...|I have been an av...| 2013-09-11|\n",
            "|         US|   24914601| RHDUXKXURSARG|B00EVY80IU|     854262263|  Borderland 2 Packs|Digital_Video_Games|          4|           20|         22|   N|                N|Buy it for the +1...|Let's get this st...| 2013-09-09|\n",
            "|         US|   23234639| RQWSZSNNYOJ38|B00CQOG8LI|     388933938|          The Sims 3|Digital_Video_Games|          5|          121|        130|   N|                Y|           Addicting|So lot's of peopl...| 2013-09-08|\n",
            "|         US|   37054832|R1CB2EVTDNU41S|B00D6K41VA|     399341350|Europa Universali...|Digital_Video_Games|          4|           34|         39|   N|                N|Comparing EU4 to ...|Paradox has a rep...| 2013-09-07|\n",
            "|         US|   17265319|R39PUG8HEO597Y|B00CMSCV4Q|     954148166|Final Fantasy XIV...|Digital_Video_Games|          5|           51|         58|   N|                Y|     Worth the wait.|So first off read...| 2013-09-07|\n",
            "|         US|   39723391|R33P3TK1RXXXM9|B009IR1SR0|     912779847|Command and Conqu...|Digital_Video_Games|          1|           18|         26|   N|                Y|EA games is a ter...|The programs in t...| 2013-09-06|\n",
            "|         US|   34246977|R1J2L9BXACKRPK|B00ELJRCDO|      60021262|Walking Dead Pack...|Digital_Video_Games|          5|           22|         23|   N|                N|The most heart-wr...|To start, this ga...| 2013-09-05|\n",
            "|         US|   23427411|R3LBUZOV9HV5J3|B00D3TT69G|     771172755|Chivalry: Medieva...|Digital_Video_Games|          4|           15|         20|   N|                Y|This is a Steam A...|This is a Steam a...| 2013-09-04|\n",
            "|         US|   45713997| RNVN4WEMV52AW|B00CMSCV4Q|     954148166|Final Fantasy XIV...|Digital_Video_Games|          5|           29|         40|   N|                Y|The game itself i...|I know a number o...| 2013-09-03|\n",
            "|         US|   11603322|R3B6UEH0V01IXA|B00CMSCV4Q|     954148166|Final Fantasy XIV...|Digital_Video_Games|          5|           14|         20|   N|                N|             amazing|Despite some logi...| 2013-09-03|\n",
            "|         US|   14298932|R3R0022LU3BUHG|B00D6K44BW|     183740083|Europa Universali...|Digital_Video_Games|          1|           15|         30|   N|                Y|   Steam not working|I am used to both...| 2013-09-01|\n",
            "|         US|    2818607|R37YIGX406384M|B00DOD0TZG|     908769412|Bioshock Triple P...|Digital_Video_Games|          5|           67|         76|   N|                Y|HOT DIGGITY! You ...|This game pack is...| 2013-09-01|\n",
            "|         US|   26721845|R18L5UI421RZJF|B00EHZRW14|     958310539|Castlevania: Lord...|Digital_Video_Games|          5|           17|         20|   N|                N|   Wonderfully Done!|I have played Cas...| 2013-09-01|\n",
            "|         US|   42806445|R35OVFGWED4LSI|B00ET6LPJ6|     380110318|SimCity - Limited...|Digital_Video_Games|          1|           19|         22|   N|                N|Unplayable. Chopp...|Choppy graphics m...| 2013-08-31|\n",
            "|         US|   28900687|R3UCDSNT5I8T6I|B00CMSCTA2|     971767807|Age of Empires II...|Digital_Video_Games|          1|           13|         21|   N|                Y|Great - unless yo...|I bought two copi...| 2013-08-31|\n",
            "|         US|   42638923|R3670WNDQERTNN|B00D6K41TW|     797906095|Crysis 3: The Los...|Digital_Video_Games|          2|           44|         46|   N|                Y|beautifull maps b...|this DLC could ha...| 2013-08-30|\n",
            "|         US|   11962656|R3ICO99M6896UZ|B00ET6LPJ6|     380110318|SimCity - Limited...|Digital_Video_Games|          1|           25|         30|   N|                Y|           Not good.|Before you buy th...| 2013-08-30|\n",
            "+-----------+-----------+--------------+----------+--------------+--------------------+-------------------+-----------+-------------+-----------+----+-----------------+--------------------+--------------------+-----------+\n",
            "only showing top 500 rows\n",
            "\n"
          ]
        },
        {
          "output_type": "execute_result",
          "data": {
            "text/plain": [
              "1685"
            ]
          },
          "metadata": {},
          "execution_count": 73
        }
      ]
    },
    {
      "cell_type": "code",
      "source": [
        "# 3 - Filter the DataFrame or table created in Step 2, and create a new DataFrame or table that retrieves all the rows where a review was written as part of the Vine program (paid), vine == 'Y'.\n",
        "pd_vine_df = helpful_votes_50plus_df.filter (col(\"vine\")== 'Y')\n",
        "pd_vine_df.show(5)\n",
        "pd_vine_df.count()"
      ],
      "metadata": {
        "colab": {
          "base_uri": "https://localhost:8080/"
        },
        "id": "ljYwdGhza62r",
        "outputId": "1f3520e1-5324-4fe6-84a1-667baeba6d6b"
      },
      "execution_count": 64,
      "outputs": [
        {
          "output_type": "stream",
          "name": "stdout",
          "text": [
            "+-----------+-----------+---------+----------+--------------+-------------+----------------+-----------+-------------+-----------+----+-----------------+---------------+-----------+-----------+\n",
            "|marketplace|customer_id|review_id|product_id|product_parent|product_title|product_category|star_rating|helpful_votes|total_votes|vine|verified_purchase|review_headline|review_body|review_date|\n",
            "+-----------+-----------+---------+----------+--------------+-------------+----------------+-----------+-------------+-----------+----+-----------------+---------------+-----------+-----------+\n",
            "+-----------+-----------+---------+----------+--------------+-------------+----------------+-----------+-------------+-----------+----+-----------------+---------------+-----------+-----------+\n",
            "\n"
          ]
        },
        {
          "output_type": "execute_result",
          "data": {
            "text/plain": [
              "0"
            ]
          },
          "metadata": {},
          "execution_count": 64
        }
      ]
    },
    {
      "cell_type": "code",
      "source": [
        "# 4 - Repeat Step 3, but this time retrieve all the rows where the review was not part of the Vine program (unpaid), vine == 'N'.\n",
        "unpd_vine_df = helpful_votes_50plus_df.filter (col(\"vine\")== 'N')\n",
        "unpd_vine_df.show(50)\n",
        "unpd_vine_df.count()"
      ],
      "metadata": {
        "colab": {
          "base_uri": "https://localhost:8080/"
        },
        "id": "iHQZ7AsUfEXE",
        "outputId": "df5c6a8b-2ef0-44f0-ed85-2d0b996068ac"
      },
      "execution_count": 65,
      "outputs": [
        {
          "output_type": "stream",
          "name": "stdout",
          "text": [
            "+-----------+-----------+--------------+----------+--------------+--------------------+-------------------+-----------+-------------+-----------+----+-----------------+--------------------+--------------------+-----------+\n",
            "|marketplace|customer_id|     review_id|product_id|product_parent|       product_title|   product_category|star_rating|helpful_votes|total_votes|vine|verified_purchase|     review_headline|         review_body|review_date|\n",
            "+-----------+-----------+--------------+----------+--------------+--------------------+-------------------+-----------+-------------+-----------+----+-----------------+--------------------+--------------------+-----------+\n",
            "|         US|   12569493| RV4UH0OWW97K4|B0149HT55K|     947161997|Megaman Legacy Co...|Digital_Video_Games|          5|           19|         22|   N|                N|Mega Man Legacy C...|What is Mega Man?...| 2015-08-29|\n",
            "|         US|   40702997| RG6GT6G9WNYT1|B013XJ2M8M|     628348017|Rocket League [On...|Digital_Video_Games|          5|           22|         22|   N|                N|A multiplayer mas...|At its core, Rock...| 2015-08-22|\n",
            "|         US|   10139402| RFBXE3Q3GYQYO|B013XJ2M8M|     628348017|Rocket League [On...|Digital_Video_Games|          5|           68|         70|   N|                Y|Comes with Steam ...|When you buy this...| 2015-08-22|\n",
            "|         US|   22035782|R34S64NPUZOS90|B013TVXHYC|     774364132|ARK: Survival Evo...|Digital_Video_Games|          5|           23|         24|   N|                N|        Amazing game|[[VIDEOID:e5a8be6...| 2015-08-15|\n",
            "|         US|   21767922|R35O3GV3HZUX8B|B013TVXHYC|     774364132|ARK: Survival Evo...|Digital_Video_Games|          5|           58|         63|   N|                N|more than my mone...|This is definitel...| 2015-08-13|\n",
            "|         US|   47875352|R2AZAMZCEUOKQT|B00F4CF39C|     341969535| Xbox Live Gift Card|Digital_Video_Games|          1|           29|         40|   N|                Y|Complete waste of...|When I tried to r...| 2015-08-10|\n",
            "|         US|   51358050|R103RUVEH5YWQ4|B00F4CFHFC|     341969535| Xbox Live Gift Card|Digital_Video_Games|          1|           69|         90|   N|                Y|  Code already used?|Getting error tel...| 2015-08-08|\n",
            "|         US|   25803630|R2QNPQLXMCXOH3|B010KYDNDG|     835376637|Minecraft for PC/...|Digital_Video_Games|          5|           35|         37|   N|                Y|Very simple to do...|I was very nervou...| 2015-08-06|\n",
            "|         US|   52685108| R1JENRRBQ1YMY|B010KYDNDG|     835376637|Minecraft for PC/...|Digital_Video_Games|          5|           35|         36|   N|                N|Can Never Get Tir...|I have played thi...| 2015-07-22|\n",
            "|         US|   45470246|R2NS0HPQ2DD5XU|B010GVEYYK|     987484751|  EA SPORTS PGA TOUR|Digital_Video_Games|          1|           35|         45|   N|                N|  Absolutely Amazing|This game is so a...| 2015-07-20|\n",
            "|         US|   45726489| RIRX9H2QJFD1P|B010KYDNDG|     835376637|Minecraft for PC/...|Digital_Video_Games|          5|           49|         53|   N|                Y|   Minecraft for Mac|Great buy! I rece...| 2015-07-15|\n",
            "|         US|   42822633|R39R2LEKGIEUFS|B010KYDNDG|     835376637|Minecraft for PC/...|Digital_Video_Games|          5|           69|         77|   N|                Y|Fun game for kids...|Was a little skep...| 2015-07-12|\n",
            "|         US|   16925078|R2NCX85FTSTWHC|B010R8DUFQ|     473214709|Rocket League - P...|Digital_Video_Games|          5|           65|         68|   N|                N|Unbelievably addi...|Unbelievably addi...| 2015-07-10|\n",
            "|         US|    1176971|R1IN7ZA9ZCZEVM|B00XUYIOX8|     760479841|        Project CARS|Digital_Video_Games|          5|           17|         25|   N|                Y|r/PS4 Has arrived...| Hi reddit thanks op| 2015-07-07|\n",
            "|         US|   11389919|R253TQ098JL914|B00YQ2TXA6|      67665333|The Elder Scrolls...|Digital_Video_Games|          2|           22|         23|   N|                Y|Good gameplay, ho...|This may be the w...| 2015-06-29|\n",
            "|         US|   20084014|R3OPTDO4EDS6LN|B00WOXKBMS|     811744232|Kerbal Space Program|Digital_Video_Games|          5|           30|         30|   N|                Y|BUY THIS GAME!! ....|***AMAZON VERSION...| 2015-06-25|\n",
            "|         US|   45351550|R1FGHHDQ4P21C0|B00JV3B5RE|     430590615|Batman: Arkham Kn...|Digital_Video_Games|          1|           30|         33|   N|                N|BUY AT YOUR OWN RISK|I've been looking...| 2015-06-23|\n",
            "|         US|   39163813|R3FQ1CSDIOWWRY|B00JV3B5RE|     430590615|Batman: Arkham Kn...|Digital_Video_Games|          1|           71|         80|   N|                N|        Caveat Empor|Copied from my St...| 2015-06-23|\n",
            "|         US|   16910537|R3NJE21NUCII5L|B002VBWIP6|     232803743|Xbox Live Subscri...|Digital_Video_Games|          5|          135|        144|   N|                Y|Typically saves m...|I purchased a 12 ...| 2015-06-23|\n",
            "|         US|   37805211| RRXJ8H18EFNFZ|B00TUEOSMS|      47086315|FINAL FANTASY XIV...|Digital_Video_Games|          4|           26|         32|   N|                Y|1. if you bought ...|1.if you bought f...| 2015-06-19|\n",
            "|         US|    3375391| RVK8IX75BLKHG|B00GAC1D2G|     384246568|Playstation Netwo...|Digital_Video_Games|          5|           75|         94|   N|                Y|I ordered this it...|I ordered this it...| 2015-06-15|\n",
            "|         US|    1185486|R2U89MYPQ8PB0U|B008BKF2FO|      57554399|RuneScape [Game C...|Digital_Video_Games|          5|          299|        338|   N|                Y|          Five Stars|                Nice| 2015-06-04|\n",
            "|         US|   18530826|R1Q8YSXEXHP1G6|B00WV7Q1ZI|     795766745|The Witcher 3: Wi...|Digital_Video_Games|          5|           48|         50|   N|                Y| A pretty solid game|It's a pretty gre...| 2015-05-27|\n",
            "|         US|   50997094|R29H3IX0EL2VZR|B00XLT8338|     384025590|Galactic Civiliza...|Digital_Video_Games|          4|           20|         23|   N|                N|4X strategy game ...|Galactic Civiliza...| 2015-05-26|\n",
            "|         US|   49754399|R236DXKNBQ3KST|B00WV7Q1ZI|     795766745|The Witcher 3: Wi...|Digital_Video_Games|          5|           33|         35|   N|                Y|A pretty well fin...|I can say that is...| 2015-05-26|\n",
            "|         US|   14863874|R39XEAKCN4QCCX|B00XUY48LA|     880949239|Destiny Expansion...|Digital_Video_Games|          1|           14|         22|   N|                N|Without matchmaki...|On the surface, i...| 2015-05-25|\n",
            "|         US|   11522891|R1QR93IXID7UDG|B002VBWIP6|     232803743|Xbox Live Subscri...|Digital_Video_Games|          1|           24|         28|   N|                Y|BUYER BEWARE!!!! ...|Bought this card ...| 2015-05-22|\n",
            "|         US|   23699329|R296WSUBEZI4TT|B00US75R5S|     864458598|         Borderlands|Digital_Video_Games|          5|           18|         21|   N|                Y|             Amazing|Before i played t...| 2015-05-21|\n",
            "|         US|    2049596|R2LU04F4H220GZ|B00WV7Q1ZI|     795766745|The Witcher 3: Wi...|Digital_Video_Games|          5|           60|         66|   N|                N|18 hours in (upda...|Update: Bump to 5...| 2015-05-20|\n",
            "|         US|   39312047| RVGYML8F2AJPJ|B00WV7Q1ZI|     795766745|The Witcher 3: Wi...|Digital_Video_Games|          5|           61|         63|   N|                N|           DAMN GOOD|Witcher 3 is a go...| 2015-05-20|\n",
            "|         US|   50648042|  R98EK4PVUGUM|B00XCRT0GS|     297504293|The Witcher 3: Wi...|Digital_Video_Games|          5|           21|         22|   N|                N|THE GAME OF THE D...|The original Witc...| 2015-05-20|\n",
            "|         US|   32996328|R1A7HL7K4Y3VIQ|B00VMUELSO|     344046210|Nancy Drew®: Sea ...|Digital_Video_Games|          4|           21|         24|   N|                N|   A solid swan song|Sea of Darkness i...| 2015-05-20|\n",
            "|         US|   31290646|R2Z0OD9LTWR1N7|B00XCRT0GS|     297504293|The Witcher 3: Wi...|Digital_Video_Games|          5|           44|         47|   N|                N|The Witcher 3: Th...|I will keep this ...| 2015-05-19|\n",
            "|         US|   37129962|R1T5YMLKF58B2R|B00WV7Q1ZI|     795766745|The Witcher 3: Wi...|Digital_Video_Games|          5|           56|         61|   N|                Y|first time playin...|so fun to play i ...| 2015-05-19|\n",
            "|         US|   37310659| RLEQZDVBVCEJ9|B00UKHU5I0|     109762576|     Mortal Kombat X|Digital_Video_Games|          5|           28|         28|   N|                Y|        Awesome game|Played it my enti...| 2015-05-19|\n",
            "|         US|   36228907|R1Z7QLYE24VDXA|B00UKHU5I0|     109762576|     Mortal Kombat X|Digital_Video_Games|          5|           31|         32|   N|                Y|Best Mortal Komba...|Mortal Kombat X h...| 2015-05-18|\n",
            "|         US|    2929040| RDLNSM9SQIBAS|B00UKHU5I0|     109762576|     Mortal Kombat X|Digital_Video_Games|          3|           30|         31|   N|                Y|  Not as good as MK9|Its a fun game, b...| 2015-05-17|\n",
            "|         US|   14307089|R1DFY65UMMEMNJ|B00UKHU5I0|     109762576|     Mortal Kombat X|Digital_Video_Games|          5|           30|         30|   N|                Y|          Five Stars|        Nice game :)| 2015-05-15|\n",
            "|         US|   20200811|R1TYS3VCSK9CVU|B00WIOOTO4|     278141001|Wolfenstein The O...|Digital_Video_Games|          4|           22|         24|   N|                N|Classic-Style, Go...|I loved [[ASIN:B0...| 2015-05-11|\n",
            "|         US|   31737821|R1FWGAYBFPU41R|B00PZ0DT4E|     425680398|SimCity Complete ...|Digital_Video_Games|          2|           35|         37|   N|                Y|Great Graphics, T...|I wanted to like ...| 2015-05-10|\n",
            "|         US|   35989260|R3PVVQ36IFZE8X|B00GDHDI26|     465482536|6 PLEX: EVE Onlin...|Digital_Video_Games|          5|           44|         48|   N|                Y|      Jita IV Moon 4|Buy 6 plex. Put i...| 2015-05-10|\n",
            "|         US|    1432368| RJ40H7M3FYF6Y|B00UKHU5I0|     109762576|     Mortal Kombat X|Digital_Video_Games|          3|           30|         32|   N|                Y|the game is quite...|the game is quite...| 2015-05-08|\n",
            "|         US|   42642972|R33WE6S43QT33E|B00WIOOTO4|     278141001|Wolfenstein The O...|Digital_Video_Games|          5|           22|         26|   N|                N|  Great game for $20|Wow.  Was not exp...| 2015-05-08|\n",
            "|         US|   43628101|R2I8GZJBLXMO7C|B00WIOOTO4|     278141001|Wolfenstein The O...|Digital_Video_Games|          5|           31|         35|   N|                N|More of the same ...|First off: if you...| 2015-05-07|\n",
            "|         US|   21316804|R2EY2QRC1JDMN3|B00UKHU5I0|     109762576|     Mortal Kombat X|Digital_Video_Games|          5|           27|         29|   N|                Y|        Best MK yet!|Game is awesome. ...| 2015-05-06|\n",
            "|         US|   12816098| R39O5EDFE44NC|B00WIOOTO4|     278141001|Wolfenstein The O...|Digital_Video_Games|          5|           31|         36|   N|                N|   Ignore the trolls|Amazon needs to r...| 2015-05-06|\n",
            "|         US|   46139850|R1MVU06CRKIC3G|B00WIOOTO4|     278141001|Wolfenstein The O...|Digital_Video_Games|          5|           37|         43|   N|                N|This game is pret...|That guy is a bun...| 2015-05-05|\n",
            "|         US|   47418662|R3E4HC7YGI267K|B00UKHU5I0|     109762576|     Mortal Kombat X|Digital_Video_Games|          4|          112|        117|   N|                N|Great game.  Blat...|Love the game but...| 2015-04-20|\n",
            "|         US|   35575466|R24N8YV1UFA849|B00PYJSSWO|     317179057|Grand Theft Auto ...|Digital_Video_Games|          5|           62|         66|   N|                Y|I feel like I'm l...|I spent real mone...| 2015-04-16|\n",
            "|         US|    7184336|R3LJ907BN0WCPC|B00KXAGTV6|     879556367|  Grand Theft Auto V|Digital_Video_Games|          4|           37|         41|   N|                Y|DO NOT USE AMAZON...|Fantastic game, a...| 2015-04-15|\n",
            "+-----------+-----------+--------------+----------+--------------+--------------------+-------------------+-----------+-------------+-----------+----+-----------------+--------------------+--------------------+-----------+\n",
            "only showing top 50 rows\n",
            "\n"
          ]
        },
        {
          "output_type": "execute_result",
          "data": {
            "text/plain": [
              "1685"
            ]
          },
          "metadata": {},
          "execution_count": 65
        }
      ]
    },
    {
      "cell_type": "code",
      "source": [
        "# 5 - Determine the total number of reviews, the number of 5-star reviews, and the percentage of 5-star reviews for the two types of review (paid vs unpaid).\n",
        "#total count of paid reviews\n",
        "pd_vine_df.count()\n"
      ],
      "metadata": {
        "colab": {
          "base_uri": "https://localhost:8080/"
        },
        "id": "pxa1aM_VgG7N",
        "outputId": "a0dd96a1-d2a8-4936-ee39-04d80cc4b4be"
      },
      "execution_count": 66,
      "outputs": [
        {
          "output_type": "execute_result",
          "data": {
            "text/plain": [
              "0"
            ]
          },
          "metadata": {},
          "execution_count": 66
        }
      ]
    },
    {
      "cell_type": "code",
      "source": [
        "#total count of unpaid reviews\n",
        "unpd_vine_df.count()"
      ],
      "metadata": {
        "colab": {
          "base_uri": "https://localhost:8080/"
        },
        "id": "Ivq4AxpPyW0p",
        "outputId": "4d44630e-54c4-4919-fdc8-ec9e239d5609"
      },
      "execution_count": 67,
      "outputs": [
        {
          "output_type": "execute_result",
          "data": {
            "text/plain": [
              "1685"
            ]
          },
          "metadata": {},
          "execution_count": 67
        }
      ]
    },
    {
      "cell_type": "code",
      "source": [
        "totnum_5str_pd_reviews_df = pd_vine_df.filter(col(\"star_rating\")==5)\n",
        "totnum_5str_pd_reviews_df.count()\n"
      ],
      "metadata": {
        "colab": {
          "base_uri": "https://localhost:8080/"
        },
        "id": "un8B6OB6kNbH",
        "outputId": "46f97a05-0f65-48c9-c746-8cc57950ff93"
      },
      "execution_count": 68,
      "outputs": [
        {
          "output_type": "execute_result",
          "data": {
            "text/plain": [
              "0"
            ]
          },
          "metadata": {},
          "execution_count": 68
        }
      ]
    },
    {
      "cell_type": "code",
      "source": [
        "totnum_5str_unpd_reviews_df = unpd_vine_df.filter(col(\"star_rating\")==5)\n",
        "totnum_5str_pd_reviews_df.count()"
      ],
      "metadata": {
        "colab": {
          "base_uri": "https://localhost:8080/"
        },
        "id": "_7CfRm790kae",
        "outputId": "0e5bc0b3-e83f-415b-b01b-9b2f6a8b7764"
      },
      "execution_count": 72,
      "outputs": [
        {
          "output_type": "execute_result",
          "data": {
            "text/plain": [
              "0"
            ]
          },
          "metadata": {},
          "execution_count": 72
        }
      ]
    },
    {
      "cell_type": "code",
      "source": [
        "# 4 - Repeat Step 3, but this time retrieve all the rows where the review was not part of the Vine program (unpaid), vine == 'N'.\n",
        "unpd_vine_df = helpful_votes_50plus_df.filter (col(\"vine\")== 'N')\n",
        "unpd_vine_df.show(20)\n",
        "unpd_vine_df.count()"
      ],
      "metadata": {
        "colab": {
          "base_uri": "https://localhost:8080/"
        },
        "outputId": "024fdbfe-5ee9-4d34-9a0e-18e2858699e3",
        "id": "3nY0NLCh8auY"
      },
      "execution_count": 90,
      "outputs": [
        {
          "output_type": "stream",
          "name": "stdout",
          "text": [
            "+-----------+-----------+--------------+----------+--------------+--------------------+-------------------+-----------+-------------+-----------+----+-----------------+--------------------+--------------------+-----------+\n",
            "|marketplace|customer_id|     review_id|product_id|product_parent|       product_title|   product_category|star_rating|helpful_votes|total_votes|vine|verified_purchase|     review_headline|         review_body|review_date|\n",
            "+-----------+-----------+--------------+----------+--------------+--------------------+-------------------+-----------+-------------+-----------+----+-----------------+--------------------+--------------------+-----------+\n",
            "|         US|   12569493| RV4UH0OWW97K4|B0149HT55K|     947161997|Megaman Legacy Co...|Digital_Video_Games|          5|           19|         22|   N|                N|Mega Man Legacy C...|What is Mega Man?...| 2015-08-29|\n",
            "|         US|   40702997| RG6GT6G9WNYT1|B013XJ2M8M|     628348017|Rocket League [On...|Digital_Video_Games|          5|           22|         22|   N|                N|A multiplayer mas...|At its core, Rock...| 2015-08-22|\n",
            "|         US|   10139402| RFBXE3Q3GYQYO|B013XJ2M8M|     628348017|Rocket League [On...|Digital_Video_Games|          5|           68|         70|   N|                Y|Comes with Steam ...|When you buy this...| 2015-08-22|\n",
            "|         US|   22035782|R34S64NPUZOS90|B013TVXHYC|     774364132|ARK: Survival Evo...|Digital_Video_Games|          5|           23|         24|   N|                N|        Amazing game|[[VIDEOID:e5a8be6...| 2015-08-15|\n",
            "|         US|   21767922|R35O3GV3HZUX8B|B013TVXHYC|     774364132|ARK: Survival Evo...|Digital_Video_Games|          5|           58|         63|   N|                N|more than my mone...|This is definitel...| 2015-08-13|\n",
            "|         US|   47875352|R2AZAMZCEUOKQT|B00F4CF39C|     341969535| Xbox Live Gift Card|Digital_Video_Games|          1|           29|         40|   N|                Y|Complete waste of...|When I tried to r...| 2015-08-10|\n",
            "|         US|   51358050|R103RUVEH5YWQ4|B00F4CFHFC|     341969535| Xbox Live Gift Card|Digital_Video_Games|          1|           69|         90|   N|                Y|  Code already used?|Getting error tel...| 2015-08-08|\n",
            "|         US|   25803630|R2QNPQLXMCXOH3|B010KYDNDG|     835376637|Minecraft for PC/...|Digital_Video_Games|          5|           35|         37|   N|                Y|Very simple to do...|I was very nervou...| 2015-08-06|\n",
            "|         US|   52685108| R1JENRRBQ1YMY|B010KYDNDG|     835376637|Minecraft for PC/...|Digital_Video_Games|          5|           35|         36|   N|                N|Can Never Get Tir...|I have played thi...| 2015-07-22|\n",
            "|         US|   45470246|R2NS0HPQ2DD5XU|B010GVEYYK|     987484751|  EA SPORTS PGA TOUR|Digital_Video_Games|          1|           35|         45|   N|                N|  Absolutely Amazing|This game is so a...| 2015-07-20|\n",
            "|         US|   45726489| RIRX9H2QJFD1P|B010KYDNDG|     835376637|Minecraft for PC/...|Digital_Video_Games|          5|           49|         53|   N|                Y|   Minecraft for Mac|Great buy! I rece...| 2015-07-15|\n",
            "|         US|   42822633|R39R2LEKGIEUFS|B010KYDNDG|     835376637|Minecraft for PC/...|Digital_Video_Games|          5|           69|         77|   N|                Y|Fun game for kids...|Was a little skep...| 2015-07-12|\n",
            "|         US|   16925078|R2NCX85FTSTWHC|B010R8DUFQ|     473214709|Rocket League - P...|Digital_Video_Games|          5|           65|         68|   N|                N|Unbelievably addi...|Unbelievably addi...| 2015-07-10|\n",
            "|         US|    1176971|R1IN7ZA9ZCZEVM|B00XUYIOX8|     760479841|        Project CARS|Digital_Video_Games|          5|           17|         25|   N|                Y|r/PS4 Has arrived...| Hi reddit thanks op| 2015-07-07|\n",
            "|         US|   11389919|R253TQ098JL914|B00YQ2TXA6|      67665333|The Elder Scrolls...|Digital_Video_Games|          2|           22|         23|   N|                Y|Good gameplay, ho...|This may be the w...| 2015-06-29|\n",
            "|         US|   20084014|R3OPTDO4EDS6LN|B00WOXKBMS|     811744232|Kerbal Space Program|Digital_Video_Games|          5|           30|         30|   N|                Y|BUY THIS GAME!! ....|***AMAZON VERSION...| 2015-06-25|\n",
            "|         US|   45351550|R1FGHHDQ4P21C0|B00JV3B5RE|     430590615|Batman: Arkham Kn...|Digital_Video_Games|          1|           30|         33|   N|                N|BUY AT YOUR OWN RISK|I've been looking...| 2015-06-23|\n",
            "|         US|   39163813|R3FQ1CSDIOWWRY|B00JV3B5RE|     430590615|Batman: Arkham Kn...|Digital_Video_Games|          1|           71|         80|   N|                N|        Caveat Empor|Copied from my St...| 2015-06-23|\n",
            "|         US|   16910537|R3NJE21NUCII5L|B002VBWIP6|     232803743|Xbox Live Subscri...|Digital_Video_Games|          5|          135|        144|   N|                Y|Typically saves m...|I purchased a 12 ...| 2015-06-23|\n",
            "|         US|   37805211| RRXJ8H18EFNFZ|B00TUEOSMS|      47086315|FINAL FANTASY XIV...|Digital_Video_Games|          4|           26|         32|   N|                Y|1. if you bought ...|1.if you bought f...| 2015-06-19|\n",
            "+-----------+-----------+--------------+----------+--------------+--------------------+-------------------+-----------+-------------+-----------+----+-----------------+--------------------+--------------------+-----------+\n",
            "only showing top 20 rows\n",
            "\n"
          ]
        },
        {
          "output_type": "execute_result",
          "data": {
            "text/plain": [
              "1685"
            ]
          },
          "metadata": {},
          "execution_count": 90
        }
      ]
    },
    {
      "cell_type": "code",
      "source": [
        "# 5 Determine the total number of reviews, the number of 5-star reviews, and the percentage of 5-star reviews for the two types of review (paid vs unpaid).\n",
        "pd_vine_df.count() # total number of paid reviews"
      ],
      "metadata": {
        "colab": {
          "base_uri": "https://localhost:8080/"
        },
        "id": "sKwf7AbwkRwH",
        "outputId": "ea9c9b84-0162-421c-be8c-1d4165240b71"
      },
      "execution_count": 76,
      "outputs": [
        {
          "output_type": "execute_result",
          "data": {
            "text/plain": [
              "0"
            ]
          },
          "metadata": {},
          "execution_count": 76
        }
      ]
    },
    {
      "cell_type": "code",
      "source": [
        "unpd_vine_df.count() # total number of unpaid reviews"
      ],
      "metadata": {
        "colab": {
          "base_uri": "https://localhost:8080/"
        },
        "id": "mJwcdaIo9alh",
        "outputId": "84b1a468-6766-4462-9d95-0f3844f21552"
      },
      "execution_count": 77,
      "outputs": [
        {
          "output_type": "execute_result",
          "data": {
            "text/plain": [
              "1685"
            ]
          },
          "metadata": {},
          "execution_count": 77
        }
      ]
    },
    {
      "cell_type": "code",
      "source": [
        "#total number of paid 5 star reviews\n",
        "totnum_5str_pd_reviews_df = pd_vine_df.filter(col(\"star_rating\")==5)\n",
        "totnum_5str_pd_reviews_df.count()"
      ],
      "metadata": {
        "colab": {
          "base_uri": "https://localhost:8080/"
        },
        "id": "87qJC-RA9aq1",
        "outputId": "d8ed228a-838c-476d-cc8b-ebcec4828085"
      },
      "execution_count": 78,
      "outputs": [
        {
          "output_type": "execute_result",
          "data": {
            "text/plain": [
              "0"
            ]
          },
          "metadata": {},
          "execution_count": 78
        }
      ]
    },
    {
      "cell_type": "code",
      "source": [
        "#total number of unpaid 5 star reviews\n",
        "totnum_5str_unpd_reviews_df = unpd_vine_df.filter(col(\"star_rating\")==5)\n",
        "totnum_5str_unpd_reviews_df.count()"
      ],
      "metadata": {
        "colab": {
          "base_uri": "https://localhost:8080/"
        },
        "id": "xwq7wtud9XQ1",
        "outputId": "87a47c94-63de-4014-e77a-265782726dd4"
      },
      "execution_count": 79,
      "outputs": [
        {
          "output_type": "execute_result",
          "data": {
            "text/plain": [
              "631"
            ]
          },
          "metadata": {},
          "execution_count": 79
        }
      ]
    },
    {
      "cell_type": "code",
      "source": [
        "# percentage of 5-star reviews for the two types of review (paid vs unpaid)\n",
        "prcnt_pd = (totnum_5str_pd_reviews_df.count()/pd_vine_df.count())*100  # dataset has zero   paid vine review  countr esulting to zero division error\n",
        "print(\" 5-star percentage reviews for unpaid Vine program was: %f\" % prcnt_pd + \"%\")"
      ],
      "metadata": {
        "colab": {
          "base_uri": "https://localhost:8080/",
          "height": 200
        },
        "id": "2PVkgP1_-Kbo",
        "outputId": "78e7a27e-3da5-44a5-b440-e2cdc64e1c22"
      },
      "execution_count": 89,
      "outputs": [
        {
          "output_type": "error",
          "ename": "ZeroDivisionError",
          "evalue": "ignored",
          "traceback": [
            "\u001b[0;31m---------------------------------------------------------------------------\u001b[0m",
            "\u001b[0;31mZeroDivisionError\u001b[0m                         Traceback (most recent call last)",
            "\u001b[0;32m<ipython-input-89-16b01e57b581>\u001b[0m in \u001b[0;36m<module>\u001b[0;34m()\u001b[0m\n\u001b[1;32m      1\u001b[0m \u001b[0;31m# percentage of 5-star reviews for the two types of review (paid vs unpaid)\u001b[0m\u001b[0;34m\u001b[0m\u001b[0;34m\u001b[0m\u001b[0;34m\u001b[0m\u001b[0m\n\u001b[0;32m----> 2\u001b[0;31m \u001b[0mprcnt_pd\u001b[0m \u001b[0;34m=\u001b[0m \u001b[0;34m(\u001b[0m\u001b[0mtotnum_5str_pd_reviews_df\u001b[0m\u001b[0;34m.\u001b[0m\u001b[0mcount\u001b[0m\u001b[0;34m(\u001b[0m\u001b[0;34m)\u001b[0m\u001b[0;34m/\u001b[0m\u001b[0mpd_vine_df\u001b[0m\u001b[0;34m.\u001b[0m\u001b[0mcount\u001b[0m\u001b[0;34m(\u001b[0m\u001b[0;34m)\u001b[0m\u001b[0;34m)\u001b[0m\u001b[0;34m*\u001b[0m\u001b[0;36m100\u001b[0m  \u001b[0;31m# dataset has zero   paid vine review  countr esulting to zero division error\u001b[0m\u001b[0;34m\u001b[0m\u001b[0;34m\u001b[0m\u001b[0m\n\u001b[0m\u001b[1;32m      3\u001b[0m \u001b[0mprint\u001b[0m\u001b[0;34m(\u001b[0m\u001b[0;34m\" 5-star percentage reviews for unpaid Vine program was: %f\"\u001b[0m \u001b[0;34m%\u001b[0m \u001b[0mprcnt_pd\u001b[0m \u001b[0;34m+\u001b[0m \u001b[0;34m\"%\"\u001b[0m\u001b[0;34m)\u001b[0m\u001b[0;34m\u001b[0m\u001b[0;34m\u001b[0m\u001b[0m\n",
            "\u001b[0;31mZeroDivisionError\u001b[0m: division by zero"
          ]
        }
      ]
    },
    {
      "cell_type": "code",
      "source": [
        "# percentage of 5-star reviews for the two types of review (paid vs unpaid)\n",
        "prcnt_unpd = (totnum_5str_unpd_reviews_df.count()/unpd_vine_df.count())*100 \n",
        "print(\" 5-star percentage reviews for unpaid Vine program was: %f\" % prcnt_unpd + \"%\")"
      ],
      "metadata": {
        "colab": {
          "base_uri": "https://localhost:8080/"
        },
        "id": "313WDZOQADhC",
        "outputId": "10402ddf-7517-4987-da72-e3decbba1058"
      },
      "execution_count": 87,
      "outputs": [
        {
          "output_type": "stream",
          "name": "stdout",
          "text": [
            " 5-star percentage reviews for unpaid Vine program was: 37.448071%\n"
          ]
        }
      ]
    }
  ]
}