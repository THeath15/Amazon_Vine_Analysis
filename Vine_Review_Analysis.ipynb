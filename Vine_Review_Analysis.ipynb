{
  "nbformat": 4,
  "nbformat_minor": 0,
  "metadata": {
    "colab": {
      "name": "Vine_Review_Analysis",
      "provenance": [],
      "collapsed_sections": []
    },
    "kernelspec": {
      "name": "python3",
      "display_name": "Python 3"
    },
    "nteract": {
      "version": "0.12.3"
    },
    "language_info": {
      "name": "python"
    }
  },
  "cells": [
    {
      "cell_type": "code",
      "metadata": {
        "id": "V58rxea0HqSa",
        "colab": {
          "base_uri": "https://localhost:8080/"
        },
        "outputId": "9c7fedbd-1ec6-4646-c4d6-a1a878b38209"
      },
      "source": [
        "# Deliverable2 : Determine Bias of Vine Reviews\n",
        "\n",
        "import os\n",
        "# Find the latest version of spark 3.0 from http://www.apache.org/dist/spark/ and enter as the spark version\n",
        "# For example:\n",
        "# spark_version = 'spark-3.0.3'\n",
        "spark_version = 'spark-3.2.1'\n",
        "os.environ['SPARK_VERSION']=spark_version\n",
        "\n",
        "# Install Spark and Java\n",
        "!apt-get update\n",
        "!apt-get install openjdk-11-jdk-headless -qq > /dev/null\n",
        "!wget -q http://www.apache.org/dist/spark/$SPARK_VERSION/$SPARK_VERSION-bin-hadoop3.2.tgz\n",
        "!tar xf $SPARK_VERSION-bin-hadoop3.2.tgz\n",
        "!pip install -q findspark\n",
        "\n",
        "# Set Environment Variables\n",
        "import os\n",
        "os.environ[\"JAVA_HOME\"] = \"/usr/lib/jvm/java-11-openjdk-amd64\"\n",
        "os.environ[\"SPARK_HOME\"] = f\"/content/{spark_version}-bin-hadoop3.2\"\n",
        "\n",
        "# Start a SparkSession\n",
        "import findspark\n",
        "findspark.init()"
      ],
      "execution_count": 1,
      "outputs": [
        {
          "output_type": "stream",
          "name": "stdout",
          "text": [
            "\r0% [Working]\r            \rHit:1 https://cloud.r-project.org/bin/linux/ubuntu bionic-cran40/ InRelease\n",
            "\r0% [Connecting to archive.ubuntu.com (91.189.88.142)] [Waiting for headers] [Co\r                                                                               \rIgn:2 https://developer.download.nvidia.com/compute/cuda/repos/ubuntu1804/x86_64  InRelease\n",
            "\r0% [Connecting to archive.ubuntu.com (91.189.88.142)] [Waiting for headers] [Co\r0% [1 InRelease gpgv 3,626 B] [Connecting to archive.ubuntu.com (91.189.88.142)\r                                                                               \rIgn:3 https://developer.download.nvidia.com/compute/machine-learning/repos/ubuntu1804/x86_64  InRelease\n",
            "\r0% [1 InRelease gpgv 3,626 B] [Connecting to archive.ubuntu.com (91.189.88.142)\r                                                                               \rHit:4 https://developer.download.nvidia.com/compute/cuda/repos/ubuntu1804/x86_64  Release\n",
            "Hit:5 https://developer.download.nvidia.com/compute/machine-learning/repos/ubuntu1804/x86_64  Release\n",
            "Get:6 http://security.ubuntu.com/ubuntu bionic-security InRelease [88.7 kB]\n",
            "Hit:7 http://archive.ubuntu.com/ubuntu bionic InRelease\n",
            "Hit:8 http://ppa.launchpad.net/c2d4u.team/c2d4u4.0+/ubuntu bionic InRelease\n",
            "Get:9 http://archive.ubuntu.com/ubuntu bionic-updates InRelease [88.7 kB]\n",
            "Hit:11 http://ppa.launchpad.net/cran/libgit2/ubuntu bionic InRelease\n",
            "Get:13 http://archive.ubuntu.com/ubuntu bionic-backports InRelease [74.6 kB]\n",
            "Hit:14 http://ppa.launchpad.net/deadsnakes/ppa/ubuntu bionic InRelease\n",
            "Hit:15 http://ppa.launchpad.net/graphics-drivers/ppa/ubuntu bionic InRelease\n",
            "Fetched 252 kB in 3s (72.5 kB/s)\n",
            "Reading package lists... Done\n"
          ]
        }
      ]
    },
    {
      "cell_type": "code",
      "metadata": {
        "id": "MMqDAjVS0KN9"
      },
      "source": [
        "from pyspark.sql import SparkSession\n",
        "spark = SparkSession.builder.appName(\"M16-Amazon-Challenge\").config(\"spark.driver.extraClassPath\",\"/content/postgresql-42.2.16.jar\").getOrCreate()"
      ],
      "execution_count": 2,
      "outputs": []
    },
    {
      "cell_type": "code",
      "metadata": {
        "id": "CtCmBhQJY-9Z",
        "colab": {
          "base_uri": "https://localhost:8080/"
        },
        "outputId": "abd68a9e-c124-4302-ff55-a88038093b89"
      },
      "source": [
        "from pyspark import SparkFiles\n",
        "url = \"https://s3.amazonaws.com/amazon-reviews-pds/tsv/amazon_reviews_us_Digital_Video_Games_v1_00.tsv.gz\"\n",
        "spark.sparkContext.addFile(url)\n",
        "df = spark.read.option(\"encoding\", \"UTF-8\").csv(SparkFiles.get(\"\"), sep=\"\\t\", header=True, inferSchema=True)\n",
        "df.show()\n",
        "df.count()"
      ],
      "execution_count": 3,
      "outputs": [
        {
          "output_type": "stream",
          "name": "stdout",
          "text": [
            "+-----------+-----------+--------------+----------+--------------+--------------------+-------------------+-----------+-------------+-----------+----+-----------------+--------------------+--------------------+-----------+\n",
            "|marketplace|customer_id|     review_id|product_id|product_parent|       product_title|   product_category|star_rating|helpful_votes|total_votes|vine|verified_purchase|     review_headline|         review_body|review_date|\n",
            "+-----------+-----------+--------------+----------+--------------+--------------------+-------------------+-----------+-------------+-----------+----+-----------------+--------------------+--------------------+-----------+\n",
            "|         US|   21269168| RSH1OZ87OYK92|B013PURRZW|     603406193|Madden NFL 16 - X...|Digital_Video_Games|          2|            2|          3|   N|                N|A slight improvem...|I keep buying mad...| 2015-08-31|\n",
            "|         US|     133437|R1WFOQ3N9BO65I|B00F4CEHNK|     341969535| Xbox Live Gift Card|Digital_Video_Games|          5|            0|          0|   N|                Y|          Five Stars|             Awesome| 2015-08-31|\n",
            "|         US|   45765011| R3YOOS71KM5M9|B00DNHLFQA|     951665344|Command & Conquer...|Digital_Video_Games|          5|            0|          0|   N|                Y|Hail to the great...|If you are preppi...| 2015-08-31|\n",
            "|         US|     113118|R3R14UATT3OUFU|B004RMK5QG|     395682204|Playstation Plus ...|Digital_Video_Games|          5|            0|          0|   N|                Y|          Five Stars|             Perfect| 2015-08-31|\n",
            "|         US|   22151364| RV2W9SGDNQA2C|B00G9BNLQE|     640460561|Saints Row IV - E...|Digital_Video_Games|          5|            0|          0|   N|                Y|          Five Stars|            Awesome!| 2015-08-31|\n",
            "|         US|   22151364|R3CFKLIZ0I2KOB|B00IMIL498|     621922192|Double Dragon: Ne...|Digital_Video_Games|          5|            0|          0|   N|                Y|          Five Stars|            Awesome!| 2015-08-31|\n",
            "|         US|   38426028|R1LRYU1V0T3O38|B00S00IJH8|     215163395|              Sims 4|Digital_Video_Games|          4|            0|          0|   N|                Y|i like the new sk...|i like the new sk...| 2015-08-31|\n",
            "|         US|    6057518| R44QKV6FE5CJ2|B004RMK4BC|     384246568|Playstation Netwo...|Digital_Video_Games|          5|            0|          0|   N|                Y|          Five Stars|               Super| 2015-08-31|\n",
            "|         US|   20715661|R2TX1KLPXXXNYS|B00K59HKIQ|     384246568|Playstation Netwo...|Digital_Video_Games|          5|            0|          0|   N|                Y|         Easy & Fast|Excellent, fast a...| 2015-08-31|\n",
            "|         US|   26540306|R1JEEW4C6R89BA|B00K59HKIQ|     384246568|Playstation Netwo...|Digital_Video_Games|          5|            0|          0|   N|                Y|          Five Stars|                  Ok| 2015-08-31|\n",
            "|         US|    8926809|R3B3UHK1FO0ERS|B004774IPU|     151985175|Sid Meier's Civil...|Digital_Video_Games|          1|            0|          0|   N|                N|I am still playin...|As has been writt...| 2015-08-31|\n",
            "|         US|   31525534|R2GVSDHW513SS1|B002LIT9EC|     695277014|Build-a-lot 4: Po...|Digital_Video_Games|          5|            0|          0|   N|                Y|Probably the best...|Probably the best...| 2015-08-31|\n",
            "|         US|   22151364|R1R1NT516PYT73|B008ALUBYQ|     112160022|       Borderlands 2|Digital_Video_Games|          5|            0|          0|   N|                Y|          Five Stars|            Awesome!| 2015-08-31|\n",
            "|         US|   22977584|R3K624QDQKENN9|B010KYDNDG|     835376637|Minecraft for PC/...|Digital_Video_Games|          4|            0|          0|   N|                Y|                 FUN|COOL BUT IT LAGES...| 2015-08-31|\n",
            "|         US|   45765011| R1FOXH7PCJX3V|B008ALUBYQ|     112160022|       Borderlands 2|Digital_Video_Games|          1|            0|          2|   N|                Y|            One Star|Lames purchase I ...| 2015-08-31|\n",
            "|         US|    2239522| RA1246M1OMDWC|B004RMK4P8|     384246568|Playstation Netwo...|Digital_Video_Games|          5|            0|          0|   N|                Y|          Five Stars|               Great| 2015-08-31|\n",
            "|         US|   48805811|R2I9SXWB0PAEKQ|B004RMK5QG|     395682204|Playstation Plus ...|Digital_Video_Games|          5|            0|          0|   N|                Y|          Five Stars|          Awesome!!!| 2015-08-31|\n",
            "|         US|   18646481|R3UGL544NA0G9C|B00BI16Z22|     552981447|Brink of Consciou...|Digital_Video_Games|          4|            0|          0|   N|                Y|       worth playing|pretty good but n...| 2015-08-31|\n",
            "|         US|   10310935|R1CBA4Y92GVAVM|B004VSTQ2A|     232803743|Xbox Live Subscri...|Digital_Video_Games|          5|            0|          0|   N|                Y|          Five Stars|What can I say......| 2015-08-31|\n",
            "|         US|    5587610|R24NEKNR01VEHU|B00GAC1D2G|     384246568|Playstation Netwo...|Digital_Video_Games|          5|            0|          0|   N|                Y|        Just amazing|Very fast to rece...| 2015-08-31|\n",
            "+-----------+-----------+--------------+----------+--------------+--------------------+-------------------+-----------+-------------+-----------+----+-----------------+--------------------+--------------------+-----------+\n",
            "only showing top 20 rows\n",
            "\n"
          ]
        },
        {
          "output_type": "execute_result",
          "data": {
            "text/plain": [
              "145431"
            ]
          },
          "metadata": {},
          "execution_count": 3
        }
      ]
    },
    {
      "cell_type": "code",
      "metadata": {
        "id": "C8REmY1aY-9u",
        "colab": {
          "base_uri": "https://localhost:8080/"
        },
        "outputId": "797456f2-c690-4818-b42f-3f566dfe2ae5"
      },
      "source": [
        "from pyspark.sql.functions import col\n",
        "# 1 -Filter the data and create a new DataFrame or table to retrieve all the rows where the total_votes count is equal to or greater than 20 to pick reviews that are more likely to be helpful and to avoid having division by zero errors later on.\n",
        "tot_votes_20plus_df = df.filter(col(\"total_votes\") >= 20)\n",
        "tot_votes_20plus_df.show()\n",
        "tot_votes_20plus_df.count()\n",
        "\n"
      ],
      "execution_count": 4,
      "outputs": [
        {
          "output_type": "stream",
          "name": "stdout",
          "text": [
            "+-----------+-----------+--------------+----------+--------------+--------------------+-------------------+-----------+-------------+-----------+----+-----------------+--------------------+--------------------+-----------+\n",
            "|marketplace|customer_id|     review_id|product_id|product_parent|       product_title|   product_category|star_rating|helpful_votes|total_votes|vine|verified_purchase|     review_headline|         review_body|review_date|\n",
            "+-----------+-----------+--------------+----------+--------------+--------------------+-------------------+-----------+-------------+-----------+----+-----------------+--------------------+--------------------+-----------+\n",
            "|         US|   12569493| RV4UH0OWW97K4|B0149HT55K|     947161997|Megaman Legacy Co...|Digital_Video_Games|          5|           19|         22|   N|                N|Mega Man Legacy C...|What is Mega Man?...| 2015-08-29|\n",
            "|         US|   40702997| RG6GT6G9WNYT1|B013XJ2M8M|     628348017|Rocket League [On...|Digital_Video_Games|          5|           22|         22|   N|                N|A multiplayer mas...|At its core, Rock...| 2015-08-22|\n",
            "|         US|   10139402| RFBXE3Q3GYQYO|B013XJ2M8M|     628348017|Rocket League [On...|Digital_Video_Games|          5|           68|         70|   N|                Y|Comes with Steam ...|When you buy this...| 2015-08-22|\n",
            "|         US|    2498805|R17V95WYC9ZXDD|B00WY2G178|     738740182|  Grand Theft Auto V|Digital_Video_Games|          1|            0|         20|   N|                Y|                 >:(|They name the gam...| 2015-08-17|\n",
            "|         US|   46312741|R235HEIYY15NZX|B013TVXHYC|     774364132|ARK: Survival Evo...|Digital_Video_Games|          1|            0|         26|   N|                Y|this sucks can't ...|this sucks can't ...| 2015-08-15|\n",
            "|         US|   11816220|R3BZ4DHX2YHC4V|B013TVXHYC|     774364132|ARK: Survival Evo...|Digital_Video_Games|          1|            1|         32|   N|                Y|            One Star|Terrible graphics...| 2015-08-15|\n",
            "|         US|    2158932| RZSC8Q4630BV1|B013TVXHYC|     774364132|ARK: Survival Evo...|Digital_Video_Games|          1|            1|         26|   N|                N|             1 Star!|The game code doe...| 2015-08-15|\n",
            "|         US|   22035782|R34S64NPUZOS90|B013TVXHYC|     774364132|ARK: Survival Evo...|Digital_Video_Games|          5|           23|         24|   N|                N|        Amazing game|[[VIDEOID:e5a8be6...| 2015-08-15|\n",
            "|         US|   21767922|R35O3GV3HZUX8B|B013TVXHYC|     774364132|ARK: Survival Evo...|Digital_Video_Games|          5|           58|         63|   N|                N|more than my mone...|This is definitel...| 2015-08-13|\n",
            "|         US|   47875352|R2AZAMZCEUOKQT|B00F4CF39C|     341969535| Xbox Live Gift Card|Digital_Video_Games|          1|           29|         40|   N|                Y|Complete waste of...|When I tried to r...| 2015-08-10|\n",
            "|         US|   51358050|R103RUVEH5YWQ4|B00F4CFHFC|     341969535| Xbox Live Gift Card|Digital_Video_Games|          1|           69|         90|   N|                Y|  Code already used?|Getting error tel...| 2015-08-08|\n",
            "|         US|   25803630|R2QNPQLXMCXOH3|B010KYDNDG|     835376637|Minecraft for PC/...|Digital_Video_Games|          5|           35|         37|   N|                Y|Very simple to do...|I was very nervou...| 2015-08-06|\n",
            "|         US|   19113385|R3IXRKTYAKSP3I|B010KYDNDG|     835376637|Minecraft for PC/...|Digital_Video_Games|          1|            2|         36|   N|                N|            One Star|Minecraft for psv...| 2015-08-01|\n",
            "|         US|   53021369|R2XR1JSAVZ4G8E|B010O9XWO2|     694952333|King's Quest Coll...|Digital_Video_Games|          1|            6|         23|   N|                Y|I've wasted an ho...|Um, can you give ...| 2015-07-29|\n",
            "|         US|   21468517| R93USRL9TCC0A|B010O9XWO2|     694952333|King's Quest Coll...|Digital_Video_Games|          1|            7|         22|   N|                Y|Interface is terr...|Interface is terr...| 2015-07-28|\n",
            "|         US|    1688095|R3F8QIC548OKSB|B010KYDNDG|     835376637|Minecraft for PC/...|Digital_Video_Games|          1|            4|         41|   N|                N|Mods is what make...|Mojang needs to s...| 2015-07-28|\n",
            "|         US|    7662466| RJHVI076CU1PK|B010KYDNDG|     835376637|Minecraft for PC/...|Digital_Video_Games|          1|            5|         74|   N|                N|            One Star|  graphics suck 0/10| 2015-07-27|\n",
            "|         US|   28371230|R2841JSGJYEO5X|B010R8DUFQ|     473214709|Rocket League - P...|Digital_Video_Games|          1|            1|         28|   N|                N|Uninteresting and...|I tried playing t...| 2015-07-26|\n",
            "|         US|   14355910|R2YK81PG05KMN8|B010KYDNDG|     835376637|Minecraft for PC/...|Digital_Video_Games|          1|            4|         33|   N|                Y|I have bought thi...|I have bought thi...| 2015-07-26|\n",
            "|         US|   14164552|R1RHI2XSCV52AI|B010KYDNDG|     835376637|Minecraft for PC/...|Digital_Video_Games|          1|            4|         61|   N|                Y|Stupidest thing e...|Absolutely useles...| 2015-07-24|\n",
            "+-----------+-----------+--------------+----------+--------------+--------------------+-------------------+-----------+-------------+-----------+----+-----------------+--------------------+--------------------+-----------+\n",
            "only showing top 20 rows\n",
            "\n"
          ]
        },
        {
          "output_type": "execute_result",
          "data": {
            "text/plain": [
              "3342"
            ]
          },
          "metadata": {},
          "execution_count": 4
        }
      ]
    },
    {
      "cell_type": "code",
      "source": [
        "# 2 -Filter the new DataFrame or table created in Step 1 and create a new DataFrame or table to retrieve all the rows where the number of helpful_votes divided by total_votes is equal to or greater than 50%\n",
        "helpful_votes_50plus_df = tot_votes_20plus_df.filter(col(\"helpful_votes\")/col(\"total_votes\") >= .50)\n",
        "helpful_votes_50plus_df.show (20)\n",
        "helpful_votes_50plus_df.count()\n",
        "\n",
        "\n"
      ],
      "metadata": {
        "colab": {
          "base_uri": "https://localhost:8080/"
        },
        "id": "d27jWUtyYr5N",
        "outputId": "077a54eb-d435-42b4-edcb-e6fa858d9f71"
      },
      "execution_count": 5,
      "outputs": [
        {
          "output_type": "stream",
          "name": "stdout",
          "text": [
            "+-----------+-----------+--------------+----------+--------------+--------------------+-------------------+-----------+-------------+-----------+----+-----------------+--------------------+--------------------+-----------+\n",
            "|marketplace|customer_id|     review_id|product_id|product_parent|       product_title|   product_category|star_rating|helpful_votes|total_votes|vine|verified_purchase|     review_headline|         review_body|review_date|\n",
            "+-----------+-----------+--------------+----------+--------------+--------------------+-------------------+-----------+-------------+-----------+----+-----------------+--------------------+--------------------+-----------+\n",
            "|         US|   12569493| RV4UH0OWW97K4|B0149HT55K|     947161997|Megaman Legacy Co...|Digital_Video_Games|          5|           19|         22|   N|                N|Mega Man Legacy C...|What is Mega Man?...| 2015-08-29|\n",
            "|         US|   40702997| RG6GT6G9WNYT1|B013XJ2M8M|     628348017|Rocket League [On...|Digital_Video_Games|          5|           22|         22|   N|                N|A multiplayer mas...|At its core, Rock...| 2015-08-22|\n",
            "|         US|   10139402| RFBXE3Q3GYQYO|B013XJ2M8M|     628348017|Rocket League [On...|Digital_Video_Games|          5|           68|         70|   N|                Y|Comes with Steam ...|When you buy this...| 2015-08-22|\n",
            "|         US|   22035782|R34S64NPUZOS90|B013TVXHYC|     774364132|ARK: Survival Evo...|Digital_Video_Games|          5|           23|         24|   N|                N|        Amazing game|[[VIDEOID:e5a8be6...| 2015-08-15|\n",
            "|         US|   21767922|R35O3GV3HZUX8B|B013TVXHYC|     774364132|ARK: Survival Evo...|Digital_Video_Games|          5|           58|         63|   N|                N|more than my mone...|This is definitel...| 2015-08-13|\n",
            "|         US|   47875352|R2AZAMZCEUOKQT|B00F4CF39C|     341969535| Xbox Live Gift Card|Digital_Video_Games|          1|           29|         40|   N|                Y|Complete waste of...|When I tried to r...| 2015-08-10|\n",
            "|         US|   51358050|R103RUVEH5YWQ4|B00F4CFHFC|     341969535| Xbox Live Gift Card|Digital_Video_Games|          1|           69|         90|   N|                Y|  Code already used?|Getting error tel...| 2015-08-08|\n",
            "|         US|   25803630|R2QNPQLXMCXOH3|B010KYDNDG|     835376637|Minecraft for PC/...|Digital_Video_Games|          5|           35|         37|   N|                Y|Very simple to do...|I was very nervou...| 2015-08-06|\n",
            "|         US|   52685108| R1JENRRBQ1YMY|B010KYDNDG|     835376637|Minecraft for PC/...|Digital_Video_Games|          5|           35|         36|   N|                N|Can Never Get Tir...|I have played thi...| 2015-07-22|\n",
            "|         US|   45470246|R2NS0HPQ2DD5XU|B010GVEYYK|     987484751|  EA SPORTS PGA TOUR|Digital_Video_Games|          1|           35|         45|   N|                N|  Absolutely Amazing|This game is so a...| 2015-07-20|\n",
            "|         US|   45726489| RIRX9H2QJFD1P|B010KYDNDG|     835376637|Minecraft for PC/...|Digital_Video_Games|          5|           49|         53|   N|                Y|   Minecraft for Mac|Great buy! I rece...| 2015-07-15|\n",
            "|         US|   42822633|R39R2LEKGIEUFS|B010KYDNDG|     835376637|Minecraft for PC/...|Digital_Video_Games|          5|           69|         77|   N|                Y|Fun game for kids...|Was a little skep...| 2015-07-12|\n",
            "|         US|   16925078|R2NCX85FTSTWHC|B010R8DUFQ|     473214709|Rocket League - P...|Digital_Video_Games|          5|           65|         68|   N|                N|Unbelievably addi...|Unbelievably addi...| 2015-07-10|\n",
            "|         US|    1176971|R1IN7ZA9ZCZEVM|B00XUYIOX8|     760479841|        Project CARS|Digital_Video_Games|          5|           17|         25|   N|                Y|r/PS4 Has arrived...| Hi reddit thanks op| 2015-07-07|\n",
            "|         US|   11389919|R253TQ098JL914|B00YQ2TXA6|      67665333|The Elder Scrolls...|Digital_Video_Games|          2|           22|         23|   N|                Y|Good gameplay, ho...|This may be the w...| 2015-06-29|\n",
            "|         US|   20084014|R3OPTDO4EDS6LN|B00WOXKBMS|     811744232|Kerbal Space Program|Digital_Video_Games|          5|           30|         30|   N|                Y|BUY THIS GAME!! ....|***AMAZON VERSION...| 2015-06-25|\n",
            "|         US|   45351550|R1FGHHDQ4P21C0|B00JV3B5RE|     430590615|Batman: Arkham Kn...|Digital_Video_Games|          1|           30|         33|   N|                N|BUY AT YOUR OWN RISK|I've been looking...| 2015-06-23|\n",
            "|         US|   39163813|R3FQ1CSDIOWWRY|B00JV3B5RE|     430590615|Batman: Arkham Kn...|Digital_Video_Games|          1|           71|         80|   N|                N|        Caveat Empor|Copied from my St...| 2015-06-23|\n",
            "|         US|   16910537|R3NJE21NUCII5L|B002VBWIP6|     232803743|Xbox Live Subscri...|Digital_Video_Games|          5|          135|        144|   N|                Y|Typically saves m...|I purchased a 12 ...| 2015-06-23|\n",
            "|         US|   37805211| RRXJ8H18EFNFZ|B00TUEOSMS|      47086315|FINAL FANTASY XIV...|Digital_Video_Games|          4|           26|         32|   N|                Y|1. if you bought ...|1.if you bought f...| 2015-06-19|\n",
            "+-----------+-----------+--------------+----------+--------------+--------------------+-------------------+-----------+-------------+-----------+----+-----------------+--------------------+--------------------+-----------+\n",
            "only showing top 20 rows\n",
            "\n"
          ]
        },
        {
          "output_type": "execute_result",
          "data": {
            "text/plain": [
              "1685"
            ]
          },
          "metadata": {},
          "execution_count": 5
        }
      ]
    },
    {
      "cell_type": "code",
      "source": [
        "# 3 - Filter the DataFrame or table created in Step 2, and create a new DataFrame or table that retrieves all the rows where a review was written as part of the Vine program (paid), vine == 'Y'.\n",
        "pd_vine_df = helpful_votes_50plus_df.filter (col(\"vine\")== 'Y')\n",
        "pd_vine_df.show(5)\n",
        "pd_vine_df.count()"
      ],
      "metadata": {
        "colab": {
          "base_uri": "https://localhost:8080/"
        },
        "id": "ljYwdGhza62r",
        "outputId": "bc339ee1-3b97-4f7e-aa65-4b17ca5177b0"
      },
      "execution_count": 6,
      "outputs": [
        {
          "output_type": "stream",
          "name": "stdout",
          "text": [
            "+-----------+-----------+---------+----------+--------------+-------------+----------------+-----------+-------------+-----------+----+-----------------+---------------+-----------+-----------+\n",
            "|marketplace|customer_id|review_id|product_id|product_parent|product_title|product_category|star_rating|helpful_votes|total_votes|vine|verified_purchase|review_headline|review_body|review_date|\n",
            "+-----------+-----------+---------+----------+--------------+-------------+----------------+-----------+-------------+-----------+----+-----------------+---------------+-----------+-----------+\n",
            "+-----------+-----------+---------+----------+--------------+-------------+----------------+-----------+-------------+-----------+----+-----------------+---------------+-----------+-----------+\n",
            "\n"
          ]
        },
        {
          "output_type": "execute_result",
          "data": {
            "text/plain": [
              "0"
            ]
          },
          "metadata": {},
          "execution_count": 6
        }
      ]
    },
    {
      "cell_type": "code",
      "source": [
        "# 4 - Repeat Step 3, but this time retrieve all the rows where the review was not part of the Vine program (unpaid), vine == 'N'.\n",
        "unpd_vine_df = helpful_votes_50plus_df.filter (col(\"vine\")== 'N')\n",
        "unpd_vine_df.show(50)\n",
        "unpd_vine_df.count()"
      ],
      "metadata": {
        "colab": {
          "base_uri": "https://localhost:8080/"
        },
        "id": "iHQZ7AsUfEXE",
        "outputId": "c4260384-ab1f-4413-f6c4-721e043f5634"
      },
      "execution_count": 7,
      "outputs": [
        {
          "output_type": "stream",
          "name": "stdout",
          "text": [
            "+-----------+-----------+--------------+----------+--------------+--------------------+-------------------+-----------+-------------+-----------+----+-----------------+--------------------+--------------------+-----------+\n",
            "|marketplace|customer_id|     review_id|product_id|product_parent|       product_title|   product_category|star_rating|helpful_votes|total_votes|vine|verified_purchase|     review_headline|         review_body|review_date|\n",
            "+-----------+-----------+--------------+----------+--------------+--------------------+-------------------+-----------+-------------+-----------+----+-----------------+--------------------+--------------------+-----------+\n",
            "|         US|   12569493| RV4UH0OWW97K4|B0149HT55K|     947161997|Megaman Legacy Co...|Digital_Video_Games|          5|           19|         22|   N|                N|Mega Man Legacy C...|What is Mega Man?...| 2015-08-29|\n",
            "|         US|   40702997| RG6GT6G9WNYT1|B013XJ2M8M|     628348017|Rocket League [On...|Digital_Video_Games|          5|           22|         22|   N|                N|A multiplayer mas...|At its core, Rock...| 2015-08-22|\n",
            "|         US|   10139402| RFBXE3Q3GYQYO|B013XJ2M8M|     628348017|Rocket League [On...|Digital_Video_Games|          5|           68|         70|   N|                Y|Comes with Steam ...|When you buy this...| 2015-08-22|\n",
            "|         US|   22035782|R34S64NPUZOS90|B013TVXHYC|     774364132|ARK: Survival Evo...|Digital_Video_Games|          5|           23|         24|   N|                N|        Amazing game|[[VIDEOID:e5a8be6...| 2015-08-15|\n",
            "|         US|   21767922|R35O3GV3HZUX8B|B013TVXHYC|     774364132|ARK: Survival Evo...|Digital_Video_Games|          5|           58|         63|   N|                N|more than my mone...|This is definitel...| 2015-08-13|\n",
            "|         US|   47875352|R2AZAMZCEUOKQT|B00F4CF39C|     341969535| Xbox Live Gift Card|Digital_Video_Games|          1|           29|         40|   N|                Y|Complete waste of...|When I tried to r...| 2015-08-10|\n",
            "|         US|   51358050|R103RUVEH5YWQ4|B00F4CFHFC|     341969535| Xbox Live Gift Card|Digital_Video_Games|          1|           69|         90|   N|                Y|  Code already used?|Getting error tel...| 2015-08-08|\n",
            "|         US|   25803630|R2QNPQLXMCXOH3|B010KYDNDG|     835376637|Minecraft for PC/...|Digital_Video_Games|          5|           35|         37|   N|                Y|Very simple to do...|I was very nervou...| 2015-08-06|\n",
            "|         US|   52685108| R1JENRRBQ1YMY|B010KYDNDG|     835376637|Minecraft for PC/...|Digital_Video_Games|          5|           35|         36|   N|                N|Can Never Get Tir...|I have played thi...| 2015-07-22|\n",
            "|         US|   45470246|R2NS0HPQ2DD5XU|B010GVEYYK|     987484751|  EA SPORTS PGA TOUR|Digital_Video_Games|          1|           35|         45|   N|                N|  Absolutely Amazing|This game is so a...| 2015-07-20|\n",
            "|         US|   45726489| RIRX9H2QJFD1P|B010KYDNDG|     835376637|Minecraft for PC/...|Digital_Video_Games|          5|           49|         53|   N|                Y|   Minecraft for Mac|Great buy! I rece...| 2015-07-15|\n",
            "|         US|   42822633|R39R2LEKGIEUFS|B010KYDNDG|     835376637|Minecraft for PC/...|Digital_Video_Games|          5|           69|         77|   N|                Y|Fun game for kids...|Was a little skep...| 2015-07-12|\n",
            "|         US|   16925078|R2NCX85FTSTWHC|B010R8DUFQ|     473214709|Rocket League - P...|Digital_Video_Games|          5|           65|         68|   N|                N|Unbelievably addi...|Unbelievably addi...| 2015-07-10|\n",
            "|         US|    1176971|R1IN7ZA9ZCZEVM|B00XUYIOX8|     760479841|        Project CARS|Digital_Video_Games|          5|           17|         25|   N|                Y|r/PS4 Has arrived...| Hi reddit thanks op| 2015-07-07|\n",
            "|         US|   11389919|R253TQ098JL914|B00YQ2TXA6|      67665333|The Elder Scrolls...|Digital_Video_Games|          2|           22|         23|   N|                Y|Good gameplay, ho...|This may be the w...| 2015-06-29|\n",
            "|         US|   20084014|R3OPTDO4EDS6LN|B00WOXKBMS|     811744232|Kerbal Space Program|Digital_Video_Games|          5|           30|         30|   N|                Y|BUY THIS GAME!! ....|***AMAZON VERSION...| 2015-06-25|\n",
            "|         US|   45351550|R1FGHHDQ4P21C0|B00JV3B5RE|     430590615|Batman: Arkham Kn...|Digital_Video_Games|          1|           30|         33|   N|                N|BUY AT YOUR OWN RISK|I've been looking...| 2015-06-23|\n",
            "|         US|   39163813|R3FQ1CSDIOWWRY|B00JV3B5RE|     430590615|Batman: Arkham Kn...|Digital_Video_Games|          1|           71|         80|   N|                N|        Caveat Empor|Copied from my St...| 2015-06-23|\n",
            "|         US|   16910537|R3NJE21NUCII5L|B002VBWIP6|     232803743|Xbox Live Subscri...|Digital_Video_Games|          5|          135|        144|   N|                Y|Typically saves m...|I purchased a 12 ...| 2015-06-23|\n",
            "|         US|   37805211| RRXJ8H18EFNFZ|B00TUEOSMS|      47086315|FINAL FANTASY XIV...|Digital_Video_Games|          4|           26|         32|   N|                Y|1. if you bought ...|1.if you bought f...| 2015-06-19|\n",
            "|         US|    3375391| RVK8IX75BLKHG|B00GAC1D2G|     384246568|Playstation Netwo...|Digital_Video_Games|          5|           75|         94|   N|                Y|I ordered this it...|I ordered this it...| 2015-06-15|\n",
            "|         US|    1185486|R2U89MYPQ8PB0U|B008BKF2FO|      57554399|RuneScape [Game C...|Digital_Video_Games|          5|          299|        338|   N|                Y|          Five Stars|                Nice| 2015-06-04|\n",
            "|         US|   18530826|R1Q8YSXEXHP1G6|B00WV7Q1ZI|     795766745|The Witcher 3: Wi...|Digital_Video_Games|          5|           48|         50|   N|                Y| A pretty solid game|It's a pretty gre...| 2015-05-27|\n",
            "|         US|   50997094|R29H3IX0EL2VZR|B00XLT8338|     384025590|Galactic Civiliza...|Digital_Video_Games|          4|           20|         23|   N|                N|4X strategy game ...|Galactic Civiliza...| 2015-05-26|\n",
            "|         US|   49754399|R236DXKNBQ3KST|B00WV7Q1ZI|     795766745|The Witcher 3: Wi...|Digital_Video_Games|          5|           33|         35|   N|                Y|A pretty well fin...|I can say that is...| 2015-05-26|\n",
            "|         US|   14863874|R39XEAKCN4QCCX|B00XUY48LA|     880949239|Destiny Expansion...|Digital_Video_Games|          1|           14|         22|   N|                N|Without matchmaki...|On the surface, i...| 2015-05-25|\n",
            "|         US|   11522891|R1QR93IXID7UDG|B002VBWIP6|     232803743|Xbox Live Subscri...|Digital_Video_Games|          1|           24|         28|   N|                Y|BUYER BEWARE!!!! ...|Bought this card ...| 2015-05-22|\n",
            "|         US|   23699329|R296WSUBEZI4TT|B00US75R5S|     864458598|         Borderlands|Digital_Video_Games|          5|           18|         21|   N|                Y|             Amazing|Before i played t...| 2015-05-21|\n",
            "|         US|    2049596|R2LU04F4H220GZ|B00WV7Q1ZI|     795766745|The Witcher 3: Wi...|Digital_Video_Games|          5|           60|         66|   N|                N|18 hours in (upda...|Update: Bump to 5...| 2015-05-20|\n",
            "|         US|   39312047| RVGYML8F2AJPJ|B00WV7Q1ZI|     795766745|The Witcher 3: Wi...|Digital_Video_Games|          5|           61|         63|   N|                N|           DAMN GOOD|Witcher 3 is a go...| 2015-05-20|\n",
            "|         US|   50648042|  R98EK4PVUGUM|B00XCRT0GS|     297504293|The Witcher 3: Wi...|Digital_Video_Games|          5|           21|         22|   N|                N|THE GAME OF THE D...|The original Witc...| 2015-05-20|\n",
            "|         US|   32996328|R1A7HL7K4Y3VIQ|B00VMUELSO|     344046210|Nancy Drew®: Sea ...|Digital_Video_Games|          4|           21|         24|   N|                N|   A solid swan song|Sea of Darkness i...| 2015-05-20|\n",
            "|         US|   31290646|R2Z0OD9LTWR1N7|B00XCRT0GS|     297504293|The Witcher 3: Wi...|Digital_Video_Games|          5|           44|         47|   N|                N|The Witcher 3: Th...|I will keep this ...| 2015-05-19|\n",
            "|         US|   37129962|R1T5YMLKF58B2R|B00WV7Q1ZI|     795766745|The Witcher 3: Wi...|Digital_Video_Games|          5|           56|         61|   N|                Y|first time playin...|so fun to play i ...| 2015-05-19|\n",
            "|         US|   37310659| RLEQZDVBVCEJ9|B00UKHU5I0|     109762576|     Mortal Kombat X|Digital_Video_Games|          5|           28|         28|   N|                Y|        Awesome game|Played it my enti...| 2015-05-19|\n",
            "|         US|   36228907|R1Z7QLYE24VDXA|B00UKHU5I0|     109762576|     Mortal Kombat X|Digital_Video_Games|          5|           31|         32|   N|                Y|Best Mortal Komba...|Mortal Kombat X h...| 2015-05-18|\n",
            "|         US|    2929040| RDLNSM9SQIBAS|B00UKHU5I0|     109762576|     Mortal Kombat X|Digital_Video_Games|          3|           30|         31|   N|                Y|  Not as good as MK9|Its a fun game, b...| 2015-05-17|\n",
            "|         US|   14307089|R1DFY65UMMEMNJ|B00UKHU5I0|     109762576|     Mortal Kombat X|Digital_Video_Games|          5|           30|         30|   N|                Y|          Five Stars|        Nice game :)| 2015-05-15|\n",
            "|         US|   20200811|R1TYS3VCSK9CVU|B00WIOOTO4|     278141001|Wolfenstein The O...|Digital_Video_Games|          4|           22|         24|   N|                N|Classic-Style, Go...|I loved [[ASIN:B0...| 2015-05-11|\n",
            "|         US|   31737821|R1FWGAYBFPU41R|B00PZ0DT4E|     425680398|SimCity Complete ...|Digital_Video_Games|          2|           35|         37|   N|                Y|Great Graphics, T...|I wanted to like ...| 2015-05-10|\n",
            "|         US|   35989260|R3PVVQ36IFZE8X|B00GDHDI26|     465482536|6 PLEX: EVE Onlin...|Digital_Video_Games|          5|           44|         48|   N|                Y|      Jita IV Moon 4|Buy 6 plex. Put i...| 2015-05-10|\n",
            "|         US|    1432368| RJ40H7M3FYF6Y|B00UKHU5I0|     109762576|     Mortal Kombat X|Digital_Video_Games|          3|           30|         32|   N|                Y|the game is quite...|the game is quite...| 2015-05-08|\n",
            "|         US|   42642972|R33WE6S43QT33E|B00WIOOTO4|     278141001|Wolfenstein The O...|Digital_Video_Games|          5|           22|         26|   N|                N|  Great game for $20|Wow.  Was not exp...| 2015-05-08|\n",
            "|         US|   43628101|R2I8GZJBLXMO7C|B00WIOOTO4|     278141001|Wolfenstein The O...|Digital_Video_Games|          5|           31|         35|   N|                N|More of the same ...|First off: if you...| 2015-05-07|\n",
            "|         US|   21316804|R2EY2QRC1JDMN3|B00UKHU5I0|     109762576|     Mortal Kombat X|Digital_Video_Games|          5|           27|         29|   N|                Y|        Best MK yet!|Game is awesome. ...| 2015-05-06|\n",
            "|         US|   12816098| R39O5EDFE44NC|B00WIOOTO4|     278141001|Wolfenstein The O...|Digital_Video_Games|          5|           31|         36|   N|                N|   Ignore the trolls|Amazon needs to r...| 2015-05-06|\n",
            "|         US|   46139850|R1MVU06CRKIC3G|B00WIOOTO4|     278141001|Wolfenstein The O...|Digital_Video_Games|          5|           37|         43|   N|                N|This game is pret...|That guy is a bun...| 2015-05-05|\n",
            "|         US|   47418662|R3E4HC7YGI267K|B00UKHU5I0|     109762576|     Mortal Kombat X|Digital_Video_Games|          4|          112|        117|   N|                N|Great game.  Blat...|Love the game but...| 2015-04-20|\n",
            "|         US|   35575466|R24N8YV1UFA849|B00PYJSSWO|     317179057|Grand Theft Auto ...|Digital_Video_Games|          5|           62|         66|   N|                Y|I feel like I'm l...|I spent real mone...| 2015-04-16|\n",
            "|         US|    7184336|R3LJ907BN0WCPC|B00KXAGTV6|     879556367|  Grand Theft Auto V|Digital_Video_Games|          4|           37|         41|   N|                Y|DO NOT USE AMAZON...|Fantastic game, a...| 2015-04-15|\n",
            "+-----------+-----------+--------------+----------+--------------+--------------------+-------------------+-----------+-------------+-----------+----+-----------------+--------------------+--------------------+-----------+\n",
            "only showing top 50 rows\n",
            "\n"
          ]
        },
        {
          "output_type": "execute_result",
          "data": {
            "text/plain": [
              "1685"
            ]
          },
          "metadata": {},
          "execution_count": 7
        }
      ]
    },
    {
      "cell_type": "code",
      "source": [
        "# 5 - Determine the total number of reviews, the number of 5-star reviews, and the percentage of 5-star reviews for the two types of review (paid vs unpaid).\n",
        "#total count of paid reviews\n",
        "pd_vine_df.count()\n"
      ],
      "metadata": {
        "colab": {
          "base_uri": "https://localhost:8080/"
        },
        "id": "pxa1aM_VgG7N",
        "outputId": "4616fa0e-bb8d-4027-da1f-8da254bb0086"
      },
      "execution_count": 8,
      "outputs": [
        {
          "output_type": "execute_result",
          "data": {
            "text/plain": [
              "0"
            ]
          },
          "metadata": {},
          "execution_count": 8
        }
      ]
    },
    {
      "cell_type": "code",
      "source": [
        "#total count of unpaid reviews\n",
        "unpd_vine_df.count()"
      ],
      "metadata": {
        "colab": {
          "base_uri": "https://localhost:8080/"
        },
        "id": "Ivq4AxpPyW0p",
        "outputId": "112d1b57-1d42-4bc3-b738-393341a9ea15"
      },
      "execution_count": 9,
      "outputs": [
        {
          "output_type": "execute_result",
          "data": {
            "text/plain": [
              "1685"
            ]
          },
          "metadata": {},
          "execution_count": 9
        }
      ]
    },
    {
      "cell_type": "code",
      "source": [
        "totnum_5str_pd_reviews_df = pd_vine_df.filter(col(\"star_rating\")==5)\n",
        "totnum_5str_pd_reviews_df.count()\n"
      ],
      "metadata": {
        "colab": {
          "base_uri": "https://localhost:8080/"
        },
        "id": "un8B6OB6kNbH",
        "outputId": "13981924-2fa8-43a0-a21b-90a25bef4819"
      },
      "execution_count": 10,
      "outputs": [
        {
          "output_type": "execute_result",
          "data": {
            "text/plain": [
              "0"
            ]
          },
          "metadata": {},
          "execution_count": 10
        }
      ]
    },
    {
      "cell_type": "code",
      "source": [
        "totnum_5str_unpd_reviews_df = unpd_vine_df.filter(col(\"star_rating\")==5)\n",
        "totnum_5str_pd_reviews_df.count()"
      ],
      "metadata": {
        "colab": {
          "base_uri": "https://localhost:8080/"
        },
        "id": "_7CfRm790kae",
        "outputId": "62c5fab0-a2cb-4101-a4a5-e8e3d0ccc3a5"
      },
      "execution_count": 11,
      "outputs": [
        {
          "output_type": "execute_result",
          "data": {
            "text/plain": [
              "0"
            ]
          },
          "metadata": {},
          "execution_count": 11
        }
      ]
    },
    {
      "cell_type": "code",
      "source": [
        "# 4 - Repeat Step 3, but this time retrieve all the rows where the review was not part of the Vine program (unpaid), vine == 'N'.\n",
        "unpd_vine_df = helpful_votes_50plus_df.filter (col(\"vine\")== 'N')\n",
        "unpd_vine_df.show(20)\n",
        "unpd_vine_df.count()"
      ],
      "metadata": {
        "colab": {
          "base_uri": "https://localhost:8080/"
        },
        "outputId": "e9cf2ad8-40e6-4f9c-e829-4739359b968a",
        "id": "3nY0NLCh8auY"
      },
      "execution_count": 12,
      "outputs": [
        {
          "output_type": "stream",
          "name": "stdout",
          "text": [
            "+-----------+-----------+--------------+----------+--------------+--------------------+-------------------+-----------+-------------+-----------+----+-----------------+--------------------+--------------------+-----------+\n",
            "|marketplace|customer_id|     review_id|product_id|product_parent|       product_title|   product_category|star_rating|helpful_votes|total_votes|vine|verified_purchase|     review_headline|         review_body|review_date|\n",
            "+-----------+-----------+--------------+----------+--------------+--------------------+-------------------+-----------+-------------+-----------+----+-----------------+--------------------+--------------------+-----------+\n",
            "|         US|   12569493| RV4UH0OWW97K4|B0149HT55K|     947161997|Megaman Legacy Co...|Digital_Video_Games|          5|           19|         22|   N|                N|Mega Man Legacy C...|What is Mega Man?...| 2015-08-29|\n",
            "|         US|   40702997| RG6GT6G9WNYT1|B013XJ2M8M|     628348017|Rocket League [On...|Digital_Video_Games|          5|           22|         22|   N|                N|A multiplayer mas...|At its core, Rock...| 2015-08-22|\n",
            "|         US|   10139402| RFBXE3Q3GYQYO|B013XJ2M8M|     628348017|Rocket League [On...|Digital_Video_Games|          5|           68|         70|   N|                Y|Comes with Steam ...|When you buy this...| 2015-08-22|\n",
            "|         US|   22035782|R34S64NPUZOS90|B013TVXHYC|     774364132|ARK: Survival Evo...|Digital_Video_Games|          5|           23|         24|   N|                N|        Amazing game|[[VIDEOID:e5a8be6...| 2015-08-15|\n",
            "|         US|   21767922|R35O3GV3HZUX8B|B013TVXHYC|     774364132|ARK: Survival Evo...|Digital_Video_Games|          5|           58|         63|   N|                N|more than my mone...|This is definitel...| 2015-08-13|\n",
            "|         US|   47875352|R2AZAMZCEUOKQT|B00F4CF39C|     341969535| Xbox Live Gift Card|Digital_Video_Games|          1|           29|         40|   N|                Y|Complete waste of...|When I tried to r...| 2015-08-10|\n",
            "|         US|   51358050|R103RUVEH5YWQ4|B00F4CFHFC|     341969535| Xbox Live Gift Card|Digital_Video_Games|          1|           69|         90|   N|                Y|  Code already used?|Getting error tel...| 2015-08-08|\n",
            "|         US|   25803630|R2QNPQLXMCXOH3|B010KYDNDG|     835376637|Minecraft for PC/...|Digital_Video_Games|          5|           35|         37|   N|                Y|Very simple to do...|I was very nervou...| 2015-08-06|\n",
            "|         US|   52685108| R1JENRRBQ1YMY|B010KYDNDG|     835376637|Minecraft for PC/...|Digital_Video_Games|          5|           35|         36|   N|                N|Can Never Get Tir...|I have played thi...| 2015-07-22|\n",
            "|         US|   45470246|R2NS0HPQ2DD5XU|B010GVEYYK|     987484751|  EA SPORTS PGA TOUR|Digital_Video_Games|          1|           35|         45|   N|                N|  Absolutely Amazing|This game is so a...| 2015-07-20|\n",
            "|         US|   45726489| RIRX9H2QJFD1P|B010KYDNDG|     835376637|Minecraft for PC/...|Digital_Video_Games|          5|           49|         53|   N|                Y|   Minecraft for Mac|Great buy! I rece...| 2015-07-15|\n",
            "|         US|   42822633|R39R2LEKGIEUFS|B010KYDNDG|     835376637|Minecraft for PC/...|Digital_Video_Games|          5|           69|         77|   N|                Y|Fun game for kids...|Was a little skep...| 2015-07-12|\n",
            "|         US|   16925078|R2NCX85FTSTWHC|B010R8DUFQ|     473214709|Rocket League - P...|Digital_Video_Games|          5|           65|         68|   N|                N|Unbelievably addi...|Unbelievably addi...| 2015-07-10|\n",
            "|         US|    1176971|R1IN7ZA9ZCZEVM|B00XUYIOX8|     760479841|        Project CARS|Digital_Video_Games|          5|           17|         25|   N|                Y|r/PS4 Has arrived...| Hi reddit thanks op| 2015-07-07|\n",
            "|         US|   11389919|R253TQ098JL914|B00YQ2TXA6|      67665333|The Elder Scrolls...|Digital_Video_Games|          2|           22|         23|   N|                Y|Good gameplay, ho...|This may be the w...| 2015-06-29|\n",
            "|         US|   20084014|R3OPTDO4EDS6LN|B00WOXKBMS|     811744232|Kerbal Space Program|Digital_Video_Games|          5|           30|         30|   N|                Y|BUY THIS GAME!! ....|***AMAZON VERSION...| 2015-06-25|\n",
            "|         US|   45351550|R1FGHHDQ4P21C0|B00JV3B5RE|     430590615|Batman: Arkham Kn...|Digital_Video_Games|          1|           30|         33|   N|                N|BUY AT YOUR OWN RISK|I've been looking...| 2015-06-23|\n",
            "|         US|   39163813|R3FQ1CSDIOWWRY|B00JV3B5RE|     430590615|Batman: Arkham Kn...|Digital_Video_Games|          1|           71|         80|   N|                N|        Caveat Empor|Copied from my St...| 2015-06-23|\n",
            "|         US|   16910537|R3NJE21NUCII5L|B002VBWIP6|     232803743|Xbox Live Subscri...|Digital_Video_Games|          5|          135|        144|   N|                Y|Typically saves m...|I purchased a 12 ...| 2015-06-23|\n",
            "|         US|   37805211| RRXJ8H18EFNFZ|B00TUEOSMS|      47086315|FINAL FANTASY XIV...|Digital_Video_Games|          4|           26|         32|   N|                Y|1. if you bought ...|1.if you bought f...| 2015-06-19|\n",
            "+-----------+-----------+--------------+----------+--------------+--------------------+-------------------+-----------+-------------+-----------+----+-----------------+--------------------+--------------------+-----------+\n",
            "only showing top 20 rows\n",
            "\n"
          ]
        },
        {
          "output_type": "execute_result",
          "data": {
            "text/plain": [
              "1685"
            ]
          },
          "metadata": {},
          "execution_count": 12
        }
      ]
    },
    {
      "cell_type": "code",
      "source": [
        "# 5 Determine the total number of reviews, the number of 5-star reviews, and the percentage of 5-star reviews for the two types of review (paid vs unpaid).\n",
        "pd_vine_df.count() # total number of paid reviews"
      ],
      "metadata": {
        "colab": {
          "base_uri": "https://localhost:8080/"
        },
        "id": "sKwf7AbwkRwH",
        "outputId": "e767c5a9-5c11-4735-848e-f9759c3a50a9"
      },
      "execution_count": 13,
      "outputs": [
        {
          "output_type": "execute_result",
          "data": {
            "text/plain": [
              "0"
            ]
          },
          "metadata": {},
          "execution_count": 13
        }
      ]
    },
    {
      "cell_type": "code",
      "source": [
        "unpd_vine_df.count() # total number of unpaid reviews"
      ],
      "metadata": {
        "colab": {
          "base_uri": "https://localhost:8080/"
        },
        "id": "mJwcdaIo9alh",
        "outputId": "ed70dccb-a1c1-44a5-a6fe-ae48ca07cddb"
      },
      "execution_count": 14,
      "outputs": [
        {
          "output_type": "execute_result",
          "data": {
            "text/plain": [
              "1685"
            ]
          },
          "metadata": {},
          "execution_count": 14
        }
      ]
    },
    {
      "cell_type": "code",
      "source": [
        "#total number of paid 5 star reviews\n",
        "totnum_5str_pd_reviews_df = pd_vine_df.filter(col(\"star_rating\")==5)\n",
        "totnum_5str_pd_reviews_df.count()"
      ],
      "metadata": {
        "colab": {
          "base_uri": "https://localhost:8080/"
        },
        "id": "87qJC-RA9aq1",
        "outputId": "8d6c41ed-9ccd-4034-ba93-485c9c199817"
      },
      "execution_count": 15,
      "outputs": [
        {
          "output_type": "execute_result",
          "data": {
            "text/plain": [
              "0"
            ]
          },
          "metadata": {},
          "execution_count": 15
        }
      ]
    },
    {
      "cell_type": "code",
      "source": [
        "#total number of unpaid 5 star reviews\n",
        "totnum_5str_unpd_reviews_df = unpd_vine_df.filter(col(\"star_rating\")==5)\n",
        "totnum_5str_unpd_reviews_df.count()"
      ],
      "metadata": {
        "colab": {
          "base_uri": "https://localhost:8080/"
        },
        "id": "xwq7wtud9XQ1",
        "outputId": "a0d4cc0f-0d4b-4826-d65c-9c75092f4556"
      },
      "execution_count": 16,
      "outputs": [
        {
          "output_type": "execute_result",
          "data": {
            "text/plain": [
              "631"
            ]
          },
          "metadata": {},
          "execution_count": 16
        }
      ]
    },
    {
      "cell_type": "code",
      "source": [
        "# percentage of 5-star reviews for the two types of review (paid vs unpaid)\n",
        "prcnt_pd = (totnum_5str_pd_reviews_df.count()/pd_vine_df.count())*100  # dataset has zero   paid vine review  countr esulting to zero division error\n",
        "print(\" 5-star percentage reviews for unpaid Vine program was: %f\" % prcnt_pd + \"%\")"
      ],
      "metadata": {
        "colab": {
          "base_uri": "https://localhost:8080/",
          "height": 200
        },
        "id": "2PVkgP1_-Kbo",
        "outputId": "90afd4fd-8e1b-4057-8e33-cfb545e9f69b"
      },
      "execution_count": 17,
      "outputs": [
        {
          "output_type": "error",
          "ename": "ZeroDivisionError",
          "evalue": "ignored",
          "traceback": [
            "\u001b[0;31m---------------------------------------------------------------------------\u001b[0m",
            "\u001b[0;31mZeroDivisionError\u001b[0m                         Traceback (most recent call last)",
            "\u001b[0;32m<ipython-input-17-16b01e57b581>\u001b[0m in \u001b[0;36m<module>\u001b[0;34m()\u001b[0m\n\u001b[1;32m      1\u001b[0m \u001b[0;31m# percentage of 5-star reviews for the two types of review (paid vs unpaid)\u001b[0m\u001b[0;34m\u001b[0m\u001b[0;34m\u001b[0m\u001b[0;34m\u001b[0m\u001b[0m\n\u001b[0;32m----> 2\u001b[0;31m \u001b[0mprcnt_pd\u001b[0m \u001b[0;34m=\u001b[0m \u001b[0;34m(\u001b[0m\u001b[0mtotnum_5str_pd_reviews_df\u001b[0m\u001b[0;34m.\u001b[0m\u001b[0mcount\u001b[0m\u001b[0;34m(\u001b[0m\u001b[0;34m)\u001b[0m\u001b[0;34m/\u001b[0m\u001b[0mpd_vine_df\u001b[0m\u001b[0;34m.\u001b[0m\u001b[0mcount\u001b[0m\u001b[0;34m(\u001b[0m\u001b[0;34m)\u001b[0m\u001b[0;34m)\u001b[0m\u001b[0;34m*\u001b[0m\u001b[0;36m100\u001b[0m  \u001b[0;31m# dataset has zero   paid vine review  countr esulting to zero division error\u001b[0m\u001b[0;34m\u001b[0m\u001b[0;34m\u001b[0m\u001b[0m\n\u001b[0m\u001b[1;32m      3\u001b[0m \u001b[0mprint\u001b[0m\u001b[0;34m(\u001b[0m\u001b[0;34m\" 5-star percentage reviews for unpaid Vine program was: %f\"\u001b[0m \u001b[0;34m%\u001b[0m \u001b[0mprcnt_pd\u001b[0m \u001b[0;34m+\u001b[0m \u001b[0;34m\"%\"\u001b[0m\u001b[0;34m)\u001b[0m\u001b[0;34m\u001b[0m\u001b[0;34m\u001b[0m\u001b[0m\n",
            "\u001b[0;31mZeroDivisionError\u001b[0m: division by zero"
          ]
        }
      ]
    },
    {
      "cell_type": "code",
      "source": [
        "# percentage of 5-star reviews for the two types of review (paid vs unpaid)\n",
        "prcnt_unpd = (totnum_5str_unpd_reviews_df.count()/unpd_vine_df.count())*100 \n",
        "print(\" 5-star percentage reviews for unpaid Vine program was: %f\" % prcnt_unpd + \"%\")"
      ],
      "metadata": {
        "colab": {
          "base_uri": "https://localhost:8080/"
        },
        "id": "313WDZOQADhC",
        "outputId": "e6ba503b-8eae-4dc1-8e3b-dd1993dde323"
      },
      "execution_count": 18,
      "outputs": [
        {
          "output_type": "stream",
          "name": "stdout",
          "text": [
            " 5-star percentage reviews for unpaid Vine program was: 37.448071%\n"
          ]
        }
      ]
    }
  ]
}